{
 "cells": [
  {
   "cell_type": "code",
   "execution_count": 1,
   "id": "85be162f-7da3-4b22-ae3d-224b74a4e762",
   "metadata": {},
   "outputs": [],
   "source": [
    "import pandas as pd\n",
    "import numpy as np\n",
    "from IPython.display import Image\n",
    "\n",
    "from gastrodon import RemoteEndpoint,QName,ttl,URIRef,inline\n",
    "import requests\n",
    "import json\n",
    "import time"
   ]
  },
  {
   "cell_type": "markdown",
   "id": "7ab085be-f944-4650-b6c9-f1ce448797cd",
   "metadata": {},
   "source": [
    "The gastrodon library is imported to use SPARQL in Jupyter notebooks."
   ]
  },
  {
   "cell_type": "markdown",
   "id": "d31ad2a1-5210-400e-9e52-493c771c5c3c",
   "metadata": {},
   "source": [
    "## Extracting a disease/symptom dataset from DBpedia"
   ]
  },
  {
   "cell_type": "markdown",
   "id": "21a3aba5-1475-4970-8a83-f36e93dae0d8",
   "metadata": {},
   "source": [
    "Defining the prefix for the namespace: the DBpedia ontology."
   ]
  },
  {
   "cell_type": "code",
   "execution_count": 2,
   "id": "9ff12ecf-9a17-428f-86a8-53bfb0f6f49a",
   "metadata": {},
   "outputs": [],
   "source": [
    "prefixes=inline(\"\"\"\n",
    "    @prefix dbo: <http://dbpedia.org/ontology/> .\n",
    "\"\"\").graph"
   ]
  },
  {
   "cell_type": "markdown",
   "id": "c03651ac-c081-4974-b5c0-1a6546ec716b",
   "metadata": {},
   "source": [
    "Setting up a SPARQL endpoint that connects to the DBpedia knowledge graph."
   ]
  },
  {
   "cell_type": "code",
   "execution_count": 3,
   "id": "bd9ac115-368e-4f55-b647-02413c3b606d",
   "metadata": {},
   "outputs": [],
   "source": [
    "endpoint=RemoteEndpoint(\n",
    "    \"http://dbpedia.org/sparql/\"\n",
    "    ,default_graph=\"http://dbpedia.org\"\n",
    "    ,prefixes=prefixes\n",
    "    ,base_uri=\"http://dbpedia.org/resource/\"\n",
    ")"
   ]
  },
  {
   "cell_type": "markdown",
   "id": "c96c1e0a-5e68-49ea-a1f6-d9a0c1d04c9c",
   "metadata": {},
   "source": [
    "Writing a query to select:\n",
    "* all DBpedia entities that have the class 'disease' (https://dbpedia.org/ontology/Disease)  \n",
    "* which also have the property 'meshId' (https://dbpedia.org/ontology/meshId)\n",
    "* and list each disease's symptoms (https://dbpedia.org/ontology/symptom) \n",
    "* and each symptom's meshId."
   ]
  },
  {
   "cell_type": "code",
   "execution_count": 4,
   "id": "24fc81ea-7d2b-44f0-a1f0-9235b07a5392",
   "metadata": {},
   "outputs": [],
   "source": [
    "db_data = endpoint.select(\"\"\"\n",
    "    SELECT ?disease ?disease_mesh ?symptom ?symptom_mesh WHERE {\n",
    "    ?disease a dbo:Disease .\n",
    "    ?disease dbo:meshId ?disease_mesh .\n",
    "    ?disease dbo:symptom ?symptom .\n",
    "    ?symptom dbo:meshId ?symptom_mesh .\n",
    "}\n",
    "ORDER BY ?disease\n",
    "\"\"\")"
   ]
  },
  {
   "cell_type": "markdown",
   "id": "32e9873d-883e-4604-9d6d-d4b44648670c",
   "metadata": {},
   "source": [
    "## Investigating the dataset"
   ]
  },
  {
   "cell_type": "code",
   "execution_count": 5,
   "id": "e37ddba0-7905-43a7-9cf9-c45876c3bc74",
   "metadata": {},
   "outputs": [
    {
     "data": {
      "text/html": [
       "<div>\n",
       "<style scoped>\n",
       "    .dataframe tbody tr th:only-of-type {\n",
       "        vertical-align: middle;\n",
       "    }\n",
       "\n",
       "    .dataframe tbody tr th {\n",
       "        vertical-align: top;\n",
       "    }\n",
       "\n",
       "    .dataframe thead th {\n",
       "        text-align: right;\n",
       "    }\n",
       "</style>\n",
       "<table border=\"1\" class=\"dataframe\">\n",
       "  <thead>\n",
       "    <tr style=\"text-align: right;\">\n",
       "      <th></th>\n",
       "      <th>disease</th>\n",
       "      <th>disease_mesh</th>\n",
       "      <th>symptom</th>\n",
       "      <th>symptom_mesh</th>\n",
       "    </tr>\n",
       "  </thead>\n",
       "  <tbody>\n",
       "    <tr>\n",
       "      <th>0</th>\n",
       "      <td>&lt;Abscess&gt;</td>\n",
       "      <td>D000038</td>\n",
       "      <td>&lt;Erythema&gt;</td>\n",
       "      <td>D004890</td>\n",
       "    </tr>\n",
       "    <tr>\n",
       "      <th>1</th>\n",
       "      <td>&lt;Achondroplasia&gt;</td>\n",
       "      <td>D000130</td>\n",
       "      <td>&lt;Macrocephaly&gt;</td>\n",
       "      <td>D058627</td>\n",
       "    </tr>\n",
       "    <tr>\n",
       "      <th>2</th>\n",
       "      <td>&lt;Acne&gt;</td>\n",
       "      <td>D000152</td>\n",
       "      <td>&lt;Scar&gt;</td>\n",
       "      <td>D002921</td>\n",
       "    </tr>\n",
       "    <tr>\n",
       "      <th>3</th>\n",
       "      <td>&lt;Acrocallosal_syndrome&gt;</td>\n",
       "      <td>D055673</td>\n",
       "      <td>&lt;Psychomotor_retardation&gt;</td>\n",
       "      <td>D011596</td>\n",
       "    </tr>\n",
       "    <tr>\n",
       "      <th>4</th>\n",
       "      <td>&lt;Acrocallosal_syndrome&gt;</td>\n",
       "      <td>D055673</td>\n",
       "      <td>&lt;Polydactyly&gt;</td>\n",
       "      <td>D017689</td>\n",
       "    </tr>\n",
       "    <tr>\n",
       "      <th>...</th>\n",
       "      <td>...</td>\n",
       "      <td>...</td>\n",
       "      <td>...</td>\n",
       "      <td>...</td>\n",
       "    </tr>\n",
       "    <tr>\n",
       "      <th>1199</th>\n",
       "      <td>&lt;Yellow_fever&gt;</td>\n",
       "      <td>D015004</td>\n",
       "      <td>&lt;Jaundice&gt;</td>\n",
       "      <td>D007565</td>\n",
       "    </tr>\n",
       "    <tr>\n",
       "      <th>1200</th>\n",
       "      <td>&lt;Yellow_fever&gt;</td>\n",
       "      <td>D015004</td>\n",
       "      <td>&lt;Chills&gt;</td>\n",
       "      <td>D023341</td>\n",
       "    </tr>\n",
       "    <tr>\n",
       "      <th>1201</th>\n",
       "      <td>&lt;Yellow_fever&gt;</td>\n",
       "      <td>D015004</td>\n",
       "      <td>&lt;Myalgia&gt;</td>\n",
       "      <td>D063806</td>\n",
       "    </tr>\n",
       "    <tr>\n",
       "      <th>1202</th>\n",
       "      <td>&lt;Yellow_fever&gt;</td>\n",
       "      <td>D015004</td>\n",
       "      <td>&lt;Headache&gt;</td>\n",
       "      <td>D006261</td>\n",
       "    </tr>\n",
       "    <tr>\n",
       "      <th>1203</th>\n",
       "      <td>&lt;Yellow_fever&gt;</td>\n",
       "      <td>D015004</td>\n",
       "      <td>&lt;Fever&gt;</td>\n",
       "      <td>D005334</td>\n",
       "    </tr>\n",
       "  </tbody>\n",
       "</table>\n",
       "<p>1204 rows × 4 columns</p>\n",
       "</div>"
      ],
      "text/plain": [
       "                      disease disease_mesh                    symptom  \\\n",
       "0                   <Abscess>      D000038                 <Erythema>   \n",
       "1            <Achondroplasia>      D000130             <Macrocephaly>   \n",
       "2                      <Acne>      D000152                     <Scar>   \n",
       "3     <Acrocallosal_syndrome>      D055673  <Psychomotor_retardation>   \n",
       "4     <Acrocallosal_syndrome>      D055673              <Polydactyly>   \n",
       "...                       ...          ...                        ...   \n",
       "1199           <Yellow_fever>      D015004                 <Jaundice>   \n",
       "1200           <Yellow_fever>      D015004                   <Chills>   \n",
       "1201           <Yellow_fever>      D015004                  <Myalgia>   \n",
       "1202           <Yellow_fever>      D015004                 <Headache>   \n",
       "1203           <Yellow_fever>      D015004                    <Fever>   \n",
       "\n",
       "     symptom_mesh  \n",
       "0         D004890  \n",
       "1         D058627  \n",
       "2         D002921  \n",
       "3         D011596  \n",
       "4         D017689  \n",
       "...           ...  \n",
       "1199      D007565  \n",
       "1200      D023341  \n",
       "1201      D063806  \n",
       "1202      D006261  \n",
       "1203      D005334  \n",
       "\n",
       "[1204 rows x 4 columns]"
      ]
     },
     "execution_count": 5,
     "metadata": {},
     "output_type": "execute_result"
    }
   ],
   "source": [
    "db_data"
   ]
  },
  {
   "cell_type": "code",
   "execution_count": 6,
   "id": "9625ba45-9b3e-4c44-b1f8-f0fdeb78e675",
   "metadata": {},
   "outputs": [
    {
     "name": "stdout",
     "output_type": "stream",
     "text": [
      "<class 'pandas.core.frame.DataFrame'>\n",
      "RangeIndex: 1204 entries, 0 to 1203\n",
      "Data columns (total 4 columns):\n",
      " #   Column        Non-Null Count  Dtype \n",
      "---  ------        --------------  ----- \n",
      " 0   disease       1204 non-null   object\n",
      " 1   disease_mesh  1204 non-null   object\n",
      " 2   symptom       1204 non-null   object\n",
      " 3   symptom_mesh  1204 non-null   object\n",
      "dtypes: object(4)\n",
      "memory usage: 37.8+ KB\n"
     ]
    }
   ],
   "source": [
    "db_data.info()"
   ]
  },
  {
   "cell_type": "markdown",
   "id": "2b1ac102-67e7-4fb2-800a-32b21ca39cac",
   "metadata": {},
   "source": [
    "There are no missing values in the dataset:"
   ]
  },
  {
   "cell_type": "code",
   "execution_count": 7,
   "id": "4fe3dac8-e4dc-43f4-8a21-63334cb3747f",
   "metadata": {},
   "outputs": [
    {
     "data": {
      "text/plain": [
       "disease         0\n",
       "disease_mesh    0\n",
       "symptom         0\n",
       "symptom_mesh    0\n",
       "dtype: int64"
      ]
     },
     "execution_count": 7,
     "metadata": {},
     "output_type": "execute_result"
    }
   ],
   "source": [
    "db_data.isna().sum()"
   ]
  },
  {
   "cell_type": "code",
   "execution_count": 8,
   "id": "66c13d10-26f7-4d61-aa74-82ae90665fa5",
   "metadata": {},
   "outputs": [
    {
     "data": {
      "text/plain": [
       "disease         473\n",
       "disease_mesh    465\n",
       "symptom         245\n",
       "symptom_mesh    238\n",
       "dtype: int64"
      ]
     },
     "execution_count": 8,
     "metadata": {},
     "output_type": "execute_result"
    }
   ],
   "source": [
    "db_data.nunique()"
   ]
  },
  {
   "cell_type": "markdown",
   "id": "e019aeca-dc3a-4528-9aea-4dc304f3dd39",
   "metadata": {},
   "source": [
    "The number of unique diseases should be the same as the number of unique meshIds. Therefore the dataset requires some fixing."
   ]
  },
  {
   "cell_type": "raw",
   "id": "9eb5aa73-5592-4d1d-88b4-156097ecf9e9",
   "metadata": {},
   "source": [
    "db_data.to_csv(\"data/dbpedia_data_unfixed.csv\", index=False)"
   ]
  },
  {
   "cell_type": "markdown",
   "id": "d710a3ba-28ab-4269-9fc8-673a6fa3742e",
   "metadata": {},
   "source": [
    "## Fixing the incorrect MeSH codes in the dataset"
   ]
  },
  {
   "cell_type": "markdown",
   "id": "da7f16f7-5f6a-4a3e-969b-fd79116cd152",
   "metadata": {},
   "source": [
    "### Fixing disease MeSH codes"
   ]
  },
  {
   "cell_type": "markdown",
   "id": "5971d727-04c0-4c44-999a-db10fa693626",
   "metadata": {},
   "source": [
    "Valid MeSH codes should be 7 characters long. Investigating unusual MeSH codes in the diseases:"
   ]
  },
  {
   "cell_type": "code",
   "execution_count": 9,
   "id": "9df8e4cf-717f-40e9-9a11-bf2f862c1e0a",
   "metadata": {},
   "outputs": [
    {
     "data": {
      "text/plain": [
       "['', 'D00248', 'C538604 D050336', 'C14.907.690']"
      ]
     },
     "execution_count": 9,
     "metadata": {},
     "output_type": "execute_result"
    }
   ],
   "source": [
    "[id for id in pd.Series(db_data[\"disease_mesh\"].unique()) if len(id) != 7 ]"
   ]
  },
  {
   "cell_type": "markdown",
   "id": "1d8340df-093b-4e66-9083-c7606ec98cb1",
   "metadata": {},
   "source": [
    "Investigating the first of the 4 issues: the \"missing\" MeSH codes. Which diseases have codes that are empty strings?"
   ]
  },
  {
   "cell_type": "code",
   "execution_count": 10,
   "id": "1c03a68e-ef2b-4d93-87fa-cb69b80e3680",
   "metadata": {},
   "outputs": [
    {
     "data": {
      "text/html": [
       "<div>\n",
       "<style scoped>\n",
       "    .dataframe tbody tr th:only-of-type {\n",
       "        vertical-align: middle;\n",
       "    }\n",
       "\n",
       "    .dataframe tbody tr th {\n",
       "        vertical-align: top;\n",
       "    }\n",
       "\n",
       "    .dataframe thead th {\n",
       "        text-align: right;\n",
       "    }\n",
       "</style>\n",
       "<table border=\"1\" class=\"dataframe\">\n",
       "  <thead>\n",
       "    <tr style=\"text-align: right;\">\n",
       "      <th></th>\n",
       "      <th>disease</th>\n",
       "      <th>disease_mesh</th>\n",
       "      <th>symptom</th>\n",
       "      <th>symptom_mesh</th>\n",
       "    </tr>\n",
       "  </thead>\n",
       "  <tbody>\n",
       "    <tr>\n",
       "      <th>71</th>\n",
       "      <td>&lt;Alzheimer's_disease&gt;</td>\n",
       "      <td></td>\n",
       "      <td>&lt;Amnesia&gt;</td>\n",
       "      <td>D000647</td>\n",
       "    </tr>\n",
       "    <tr>\n",
       "      <th>73</th>\n",
       "      <td>&lt;Alzheimer's_disease&gt;</td>\n",
       "      <td></td>\n",
       "      <td>&lt;Primary_progressive_aphasia&gt;</td>\n",
       "      <td>D018888</td>\n",
       "    </tr>\n",
       "    <tr>\n",
       "      <th>192</th>\n",
       "      <td>&lt;Bronchitis&gt;</td>\n",
       "      <td></td>\n",
       "      <td>&lt;Cough&gt;</td>\n",
       "      <td>D003371</td>\n",
       "    </tr>\n",
       "    <tr>\n",
       "      <th>194</th>\n",
       "      <td>&lt;Bronchitis&gt;</td>\n",
       "      <td></td>\n",
       "      <td>&lt;Shortness_of_breath&gt;</td>\n",
       "      <td>D004417</td>\n",
       "    </tr>\n",
       "    <tr>\n",
       "      <th>382</th>\n",
       "      <td>&lt;Eclampsia&gt;</td>\n",
       "      <td></td>\n",
       "      <td>&lt;Seizure&gt;</td>\n",
       "      <td>D012640</td>\n",
       "    </tr>\n",
       "  </tbody>\n",
       "</table>\n",
       "</div>"
      ],
      "text/plain": [
       "                   disease disease_mesh                        symptom  \\\n",
       "71   <Alzheimer's_disease>                                   <Amnesia>   \n",
       "73   <Alzheimer's_disease>               <Primary_progressive_aphasia>   \n",
       "192           <Bronchitis>                                     <Cough>   \n",
       "194           <Bronchitis>                       <Shortness_of_breath>   \n",
       "382            <Eclampsia>                                   <Seizure>   \n",
       "\n",
       "    symptom_mesh  \n",
       "71       D000647  \n",
       "73       D018888  \n",
       "192      D003371  \n",
       "194      D004417  \n",
       "382      D012640  "
      ]
     },
     "execution_count": 10,
     "metadata": {},
     "output_type": "execute_result"
    }
   ],
   "source": [
    "db_data[db_data[\"disease_mesh\"]==\"\"].head()"
   ]
  },
  {
   "cell_type": "code",
   "execution_count": 11,
   "id": "07a165dd-5009-47ed-a451-6e6a88f987b9",
   "metadata": {},
   "outputs": [
    {
     "data": {
      "text/html": [
       "<div>\n",
       "<style scoped>\n",
       "    .dataframe tbody tr th:only-of-type {\n",
       "        vertical-align: middle;\n",
       "    }\n",
       "\n",
       "    .dataframe tbody tr th {\n",
       "        vertical-align: top;\n",
       "    }\n",
       "\n",
       "    .dataframe thead th {\n",
       "        text-align: right;\n",
       "    }\n",
       "</style>\n",
       "<table border=\"1\" class=\"dataframe\">\n",
       "  <thead>\n",
       "    <tr style=\"text-align: right;\">\n",
       "      <th></th>\n",
       "      <th>disease</th>\n",
       "      <th>disease_mesh</th>\n",
       "      <th>symptom</th>\n",
       "      <th>symptom_mesh</th>\n",
       "    </tr>\n",
       "  </thead>\n",
       "  <tbody>\n",
       "    <tr>\n",
       "      <th>71</th>\n",
       "      <td>&lt;Alzheimer's_disease&gt;</td>\n",
       "      <td></td>\n",
       "      <td>&lt;Amnesia&gt;</td>\n",
       "      <td>D000647</td>\n",
       "    </tr>\n",
       "    <tr>\n",
       "      <th>72</th>\n",
       "      <td>&lt;Alzheimer's_disease&gt;</td>\n",
       "      <td>D000544</td>\n",
       "      <td>&lt;Amnesia&gt;</td>\n",
       "      <td>D000647</td>\n",
       "    </tr>\n",
       "    <tr>\n",
       "      <th>73</th>\n",
       "      <td>&lt;Alzheimer's_disease&gt;</td>\n",
       "      <td></td>\n",
       "      <td>&lt;Primary_progressive_aphasia&gt;</td>\n",
       "      <td>D018888</td>\n",
       "    </tr>\n",
       "    <tr>\n",
       "      <th>74</th>\n",
       "      <td>&lt;Alzheimer's_disease&gt;</td>\n",
       "      <td>D000544</td>\n",
       "      <td>&lt;Primary_progressive_aphasia&gt;</td>\n",
       "      <td>D018888</td>\n",
       "    </tr>\n",
       "  </tbody>\n",
       "</table>\n",
       "</div>"
      ],
      "text/plain": [
       "                  disease disease_mesh                        symptom  \\\n",
       "71  <Alzheimer's_disease>                                   <Amnesia>   \n",
       "72  <Alzheimer's_disease>      D000544                      <Amnesia>   \n",
       "73  <Alzheimer's_disease>               <Primary_progressive_aphasia>   \n",
       "74  <Alzheimer's_disease>      D000544  <Primary_progressive_aphasia>   \n",
       "\n",
       "   symptom_mesh  \n",
       "71      D000647  \n",
       "72      D000647  \n",
       "73      D018888  \n",
       "74      D018888  "
      ]
     },
     "execution_count": 11,
     "metadata": {},
     "output_type": "execute_result"
    }
   ],
   "source": [
    "db_data[db_data[\"disease\"]==\"<Alzheimer's_disease>\"]"
   ]
  },
  {
   "cell_type": "markdown",
   "id": "406a1916-a932-45f8-96db-f3b854049029",
   "metadata": {},
   "source": [
    "It seems like the \"empty\" codes are a result of the some of the disease entities having any \"empty\" object for the dbo:meshId property. "
   ]
  },
  {
   "cell_type": "code",
   "execution_count": 12,
   "id": "4ad756ec-ebee-412c-b416-6a97c3885dfb",
   "metadata": {},
   "outputs": [
    {
     "data": {
      "text/html": [
       "<div>\n",
       "<style scoped>\n",
       "    .dataframe tbody tr th:only-of-type {\n",
       "        vertical-align: middle;\n",
       "    }\n",
       "\n",
       "    .dataframe tbody tr th {\n",
       "        vertical-align: top;\n",
       "    }\n",
       "\n",
       "    .dataframe thead th {\n",
       "        text-align: right;\n",
       "    }\n",
       "</style>\n",
       "<table border=\"1\" class=\"dataframe\">\n",
       "  <thead>\n",
       "    <tr style=\"text-align: right;\">\n",
       "      <th></th>\n",
       "      <th>disease</th>\n",
       "      <th>mesh</th>\n",
       "    </tr>\n",
       "  </thead>\n",
       "  <tbody>\n",
       "    <tr>\n",
       "      <th>0</th>\n",
       "      <td>&lt;Alzheimer's_disease&gt;</td>\n",
       "      <td></td>\n",
       "    </tr>\n",
       "    <tr>\n",
       "      <th>1</th>\n",
       "      <td>&lt;Alzheimer's_disease&gt;</td>\n",
       "      <td>D000544</td>\n",
       "    </tr>\n",
       "  </tbody>\n",
       "</table>\n",
       "</div>"
      ],
      "text/plain": [
       "                 disease     mesh\n",
       "0  <Alzheimer's_disease>         \n",
       "1  <Alzheimer's_disease>  D000544"
      ]
     },
     "execution_count": 12,
     "metadata": {},
     "output_type": "execute_result"
    }
   ],
   "source": [
    "# an example of the disease \"Alzheimer's\" having one empty MeSH code in DBpedia.\n",
    "endpoint.select(\"\"\"\n",
    "    SELECT ?disease ?mesh WHERE {\n",
    "    ?disease dbo:wikiPageID 18914017 .\n",
    "    ?disease dbo:meshId ?mesh .\n",
    "}\n",
    "ORDER BY ?disease\n",
    "\"\"\")"
   ]
  },
  {
   "cell_type": "markdown",
   "id": "306fa1c1-eea9-4138-ae01-2e4720a9bfaf",
   "metadata": {},
   "source": [
    "These rows can therefore simply be dropped in the dataset."
   ]
  },
  {
   "cell_type": "code",
   "execution_count": 13,
   "id": "5b385238-21e4-4c9b-9d9c-b77882016156",
   "metadata": {},
   "outputs": [],
   "source": [
    "db_data[\"disease_mesh\"] = db_data[\"disease_mesh\"].replace(\"\", np.nan)\n",
    "db_data = db_data.dropna(axis=0, how=\"any\").reset_index(drop=True)"
   ]
  },
  {
   "cell_type": "markdown",
   "id": "ac1f76a0-4781-499f-b6d6-ad4c6c21d071",
   "metadata": {},
   "source": [
    "Looking at one the disease MeSH that is too short:"
   ]
  },
  {
   "cell_type": "code",
   "execution_count": 14,
   "id": "87ea53a2-9b77-4fe1-86aa-f9d6d668fa78",
   "metadata": {},
   "outputs": [
    {
     "data": {
      "text/html": [
       "<div>\n",
       "<style scoped>\n",
       "    .dataframe tbody tr th:only-of-type {\n",
       "        vertical-align: middle;\n",
       "    }\n",
       "\n",
       "    .dataframe tbody tr th {\n",
       "        vertical-align: top;\n",
       "    }\n",
       "\n",
       "    .dataframe thead th {\n",
       "        text-align: right;\n",
       "    }\n",
       "</style>\n",
       "<table border=\"1\" class=\"dataframe\">\n",
       "  <thead>\n",
       "    <tr style=\"text-align: right;\">\n",
       "      <th></th>\n",
       "      <th>disease</th>\n",
       "      <th>disease_mesh</th>\n",
       "      <th>symptom</th>\n",
       "      <th>symptom_mesh</th>\n",
       "    </tr>\n",
       "  </thead>\n",
       "  <tbody>\n",
       "    <tr>\n",
       "      <th>232</th>\n",
       "      <td>&lt;Cellulitis&gt;</td>\n",
       "      <td>D00248</td>\n",
       "      <td>&lt;Fever&gt;</td>\n",
       "      <td>D005334</td>\n",
       "    </tr>\n",
       "  </tbody>\n",
       "</table>\n",
       "</div>"
      ],
      "text/plain": [
       "          disease disease_mesh  symptom symptom_mesh\n",
       "232  <Cellulitis>       D00248  <Fever>      D005334"
      ]
     },
     "execution_count": 14,
     "metadata": {},
     "output_type": "execute_result"
    }
   ],
   "source": [
    "db_data[db_data[\"disease_mesh\"]==\"D00248\"]"
   ]
  },
  {
   "cell_type": "markdown",
   "id": "3aa042cf-17fd-4486-a80b-a5eff05de0f5",
   "metadata": {},
   "source": [
    "With reference to the National Library of Medicine's descriptor for the disease \"Cellulitis\": https://meshb.nlm.nih.gov/record/ui?ui=D002481,  \n",
    "it seems as if the DBPedia entry was mistyped, with one digit missing from the end of the MeSH code. The correct code \"D002481\" is manually adjusted in the dataset."
   ]
  },
  {
   "cell_type": "code",
   "execution_count": 15,
   "id": "c5987279-7528-4f07-bc97-e4bc567655f1",
   "metadata": {},
   "outputs": [],
   "source": [
    "db_data.at[232, 'disease_mesh'] = \"D002481\""
   ]
  },
  {
   "cell_type": "markdown",
   "id": "4fe1f475-a46a-45dc-9e9d-880510fdce8d",
   "metadata": {},
   "source": [
    "Looking at the disease MeSH that has been \"doubled\":"
   ]
  },
  {
   "cell_type": "code",
   "execution_count": 16,
   "id": "7e99b2d1-3538-4909-871c-417bf20c8934",
   "metadata": {},
   "outputs": [
    {
     "data": {
      "text/html": [
       "<div>\n",
       "<style scoped>\n",
       "    .dataframe tbody tr th:only-of-type {\n",
       "        vertical-align: middle;\n",
       "    }\n",
       "\n",
       "    .dataframe tbody tr th {\n",
       "        vertical-align: top;\n",
       "    }\n",
       "\n",
       "    .dataframe thead th {\n",
       "        text-align: right;\n",
       "    }\n",
       "</style>\n",
       "<table border=\"1\" class=\"dataframe\">\n",
       "  <thead>\n",
       "    <tr style=\"text-align: right;\">\n",
       "      <th></th>\n",
       "      <th>disease</th>\n",
       "      <th>disease_mesh</th>\n",
       "      <th>symptom</th>\n",
       "      <th>symptom_mesh</th>\n",
       "    </tr>\n",
       "  </thead>\n",
       "  <tbody>\n",
       "    <tr>\n",
       "      <th>766</th>\n",
       "      <td>&lt;Mulibrey_nanism&gt;</td>\n",
       "      <td>C538604 D050336</td>\n",
       "      <td>&lt;Infertility&gt;</td>\n",
       "      <td>D007246</td>\n",
       "    </tr>\n",
       "  </tbody>\n",
       "</table>\n",
       "</div>"
      ],
      "text/plain": [
       "               disease     disease_mesh        symptom symptom_mesh\n",
       "766  <Mulibrey_nanism>  C538604 D050336  <Infertility>      D007246"
      ]
     },
     "execution_count": 16,
     "metadata": {},
     "output_type": "execute_result"
    }
   ],
   "source": [
    "db_data[db_data[\"disease_mesh\"]==\"C538604 D050336\"]"
   ]
  },
  {
   "cell_type": "markdown",
   "id": "a72802f9-ad1e-439d-96e1-c90e0d196ba2",
   "metadata": {},
   "source": [
    "Once again referencing the National Library of Medicine, the correct MeSH for \"Mulibrey Nanism\" is \"D050336\"."
   ]
  },
  {
   "cell_type": "code",
   "execution_count": 17,
   "id": "20035df8-a8ae-40ad-99fd-2f1cbcb16cfb",
   "metadata": {},
   "outputs": [],
   "source": [
    "db_data.at[766, \"disease_mesh\"] = \"D050336\""
   ]
  },
  {
   "cell_type": "markdown",
   "id": "a843f58b-4acf-41d7-897b-d3eba98029c6",
   "metadata": {},
   "source": [
    "Looking at the MeSH code C14.907.690:"
   ]
  },
  {
   "cell_type": "code",
   "execution_count": 18,
   "id": "40e8f3a6-f246-4350-b529-770d45057cb3",
   "metadata": {},
   "outputs": [
    {
     "data": {
      "text/html": [
       "<div>\n",
       "<style scoped>\n",
       "    .dataframe tbody tr th:only-of-type {\n",
       "        vertical-align: middle;\n",
       "    }\n",
       "\n",
       "    .dataframe tbody tr th {\n",
       "        vertical-align: top;\n",
       "    }\n",
       "\n",
       "    .dataframe thead th {\n",
       "        text-align: right;\n",
       "    }\n",
       "</style>\n",
       "<table border=\"1\" class=\"dataframe\">\n",
       "  <thead>\n",
       "    <tr style=\"text-align: right;\">\n",
       "      <th></th>\n",
       "      <th>disease</th>\n",
       "      <th>disease_mesh</th>\n",
       "      <th>symptom</th>\n",
       "      <th>symptom_mesh</th>\n",
       "    </tr>\n",
       "  </thead>\n",
       "  <tbody>\n",
       "    <tr>\n",
       "      <th>931</th>\n",
       "      <td>&lt;Pulmonary_venoocclusive_disease&gt;</td>\n",
       "      <td>C14.907.690</td>\n",
       "      <td>&lt;Fatigue&gt;</td>\n",
       "      <td>D005221</td>\n",
       "    </tr>\n",
       "  </tbody>\n",
       "</table>\n",
       "</div>"
      ],
      "text/plain": [
       "                               disease disease_mesh    symptom symptom_mesh\n",
       "931  <Pulmonary_venoocclusive_disease>  C14.907.690  <Fatigue>      D005221"
      ]
     },
     "execution_count": 18,
     "metadata": {},
     "output_type": "execute_result"
    }
   ],
   "source": [
    "db_data[db_data[\"disease_mesh\"]==\"C14.907.690\"]"
   ]
  },
  {
   "cell_type": "markdown",
   "id": "cdfc44f2-686c-4b74-bf09-f0f474fac1bd",
   "metadata": {},
   "source": [
    "The correct code for this disease is: \"D011668\". The \"Tree Number\" for this disease was incorrectly entered into the DBpedia knowledge graph."
   ]
  },
  {
   "cell_type": "code",
   "execution_count": 19,
   "id": "c6d0a2ce-8e9d-456e-a38d-3f533184e3dc",
   "metadata": {},
   "outputs": [],
   "source": [
    "db_data.at[931, \"disease_mesh\"] = \"D011668\""
   ]
  },
  {
   "cell_type": "markdown",
   "id": "811e2fae-9d5f-4709-be87-e2c9bfddc355",
   "metadata": {},
   "source": [
    "The diseases and their MeSH codes still don't align properly."
   ]
  },
  {
   "cell_type": "code",
   "execution_count": 20,
   "id": "1a381971-6043-4ace-b723-c2f9a01511ad",
   "metadata": {},
   "outputs": [
    {
     "data": {
      "text/plain": [
       "disease         473\n",
       "disease_mesh    464\n",
       "symptom         245\n",
       "symptom_mesh    238\n",
       "dtype: int64"
      ]
     },
     "execution_count": 20,
     "metadata": {},
     "output_type": "execute_result"
    }
   ],
   "source": [
    "db_data.nunique()"
   ]
  },
  {
   "cell_type": "markdown",
   "id": "e17ccddd-4593-4eea-89b8-a18323234cfc",
   "metadata": {},
   "source": [
    "There are more unique diseases than MeSH codes, suggesting that different diseases have been assigned to the same MeSH code."
   ]
  },
  {
   "cell_type": "code",
   "execution_count": 21,
   "id": "c1c33546-ada0-41c0-b0c2-69868a77a5d4",
   "metadata": {},
   "outputs": [
    {
     "data": {
      "text/plain": [
       "disease_mesh  disease                                  \n",
       "D001342       <Dysautonomia>                               1\n",
       "              <Pure_autonomic_failure>                     1\n",
       "D001991       <Acute_bronchitis>                           3\n",
       "              <Bronchitis>                                 2\n",
       "D005334       <Fever>                                      3\n",
       "              <Hyperthermia>                               1\n",
       "D006471       <Gastrointestinal_bleeding>                  2\n",
       "              <Upper_gastrointestinal_bleeding>            1\n",
       "D007003       <Hypoglycemia>                               6\n",
       "              <Reactive_hypoglycemia>                      1\n",
       "D013617       <Paroxysmal_supraventricular_tachycardia>    2\n",
       "              <Supraventricular_tachycardia>               2\n",
       "D014717       <Benign_paroxysmal_positional_vertigo>       1\n",
       "              <Vertigo>                                    1\n",
       "D015423       <Episcleritis>                               1\n",
       "              <Scleritis>                                  1\n",
       "D016584       <Panic_attack>                               2\n",
       "              <Panic_disorder>                             1\n",
       "Name: disease, dtype: int64"
      ]
     },
     "execution_count": 21,
     "metadata": {},
     "output_type": "execute_result"
    }
   ],
   "source": [
    "group_dis_mesh = db_data.groupby(\"disease_mesh\")[\"disease\"].nunique()\n",
    "db_data[db_data[\"disease_mesh\"].isin(list(group_dis_mesh[group_dis_mesh > 1].reset_index()[\"disease_mesh\"]))].sort_values(\"disease_mesh\").groupby(\"disease_mesh\")[\"disease\"].value_counts()"
   ]
  },
  {
   "cell_type": "markdown",
   "id": "729fda25-e59d-406f-b60f-97631e988ffb",
   "metadata": {},
   "source": [
    "There are some diseases that DBpedia has separated into two diseases, such as \"Acute Bronchitis\" and \"Bronchitis\" that in the medical codes however are simply described as one concept.  \n",
    "Others, such as \"Hyperthermia\" have simply been mislabelled with the wrong MeSH code."
   ]
  },
  {
   "cell_type": "markdown",
   "id": "b80e1bf0-865b-402a-99b6-4efec8967f37",
   "metadata": {},
   "source": [
    "These must be fixed manually, with reference to the National Library of Medicine guide. Relabelling the diseases that are the same, but have been given different names:"
   ]
  },
  {
   "cell_type": "code",
   "execution_count": 22,
   "id": "11f151d1-3d94-4b16-ab79-9aa5475b23f0",
   "metadata": {
    "tags": []
   },
   "outputs": [],
   "source": [
    "db_data[\"disease\"].replace(\"<Pure_autonomic_failure>\", \"<Dysautonomia>\", inplace=True)\n",
    "db_data[\"disease\"].replace(\"<Acute_bronchitis>\", \"<Bronchitis>\", inplace=True)\n",
    "db_data[\"disease\"].replace(\"<Upper_gastrointestinal_bleeding>\", \"<Gastrointestinal_bleeding>\", inplace=True)\n",
    "db_data[\"disease\"].replace(\"<Reactive_hypoglycemia>\", \"<Hypoglycemia>\", inplace=True)\n",
    "db_data[\"disease\"].replace(\"<Paroxysmal_supraventricular_tachycardia>\", \"<Supraventricular_tachycardia>\", inplace=True)\n",
    "db_data[\"disease\"].replace(\"<Benign_paroxysmal_positional_vertigo>\", \"<Vertigo>\", inplace=True)\n",
    "db_data[\"disease\"].replace(\"<Episcleritis>\", \"<Scleritis>\", inplace=True)\n",
    "db_data[\"disease\"].replace(\"<Panic_attack>\", \"<Panic_disorder>\", inplace=True)"
   ]
  },
  {
   "cell_type": "markdown",
   "id": "36c944f7-b83e-4e68-bc23-ff8c140c9574",
   "metadata": {},
   "source": [
    "Fixing the code for Hyperthermia:"
   ]
  },
  {
   "cell_type": "code",
   "execution_count": 23,
   "id": "deee5b79-ee6b-4f97-836a-f44e9b6919c1",
   "metadata": {},
   "outputs": [],
   "source": [
    "db_data.at[db_data[db_data[\"disease\"]==\"<Hyperthermia>\"].index[0], \"disease_mesh\"] = \"D000084462\""
   ]
  },
  {
   "cell_type": "markdown",
   "id": "480eedb3-dfe1-41bd-a370-b93d5737ae3f",
   "metadata": {},
   "source": [
    "Dropping any duplicate rows created in the relabelling of some of the diseases:"
   ]
  },
  {
   "cell_type": "code",
   "execution_count": 24,
   "id": "93ed6f35-5ee2-4eb8-bd68-62185f9da2c6",
   "metadata": {},
   "outputs": [],
   "source": [
    "db_data = db_data.drop_duplicates().reset_index(drop=True)"
   ]
  },
  {
   "cell_type": "code",
   "execution_count": 25,
   "id": "2a1bf758-e0d2-431f-a784-772159fc4c92",
   "metadata": {},
   "outputs": [
    {
     "data": {
      "text/html": [
       "<div>\n",
       "<style scoped>\n",
       "    .dataframe tbody tr th:only-of-type {\n",
       "        vertical-align: middle;\n",
       "    }\n",
       "\n",
       "    .dataframe tbody tr th {\n",
       "        vertical-align: top;\n",
       "    }\n",
       "\n",
       "    .dataframe thead th {\n",
       "        text-align: right;\n",
       "    }\n",
       "</style>\n",
       "<table border=\"1\" class=\"dataframe\">\n",
       "  <thead>\n",
       "    <tr style=\"text-align: right;\">\n",
       "      <th></th>\n",
       "      <th>disease</th>\n",
       "      <th>disease_mesh</th>\n",
       "      <th>symptom</th>\n",
       "      <th>symptom_mesh</th>\n",
       "    </tr>\n",
       "  </thead>\n",
       "  <tbody>\n",
       "    <tr>\n",
       "      <th>0</th>\n",
       "      <td>&lt;Abscess&gt;</td>\n",
       "      <td>D000038</td>\n",
       "      <td>&lt;Erythema&gt;</td>\n",
       "      <td>D004890</td>\n",
       "    </tr>\n",
       "    <tr>\n",
       "      <th>1</th>\n",
       "      <td>&lt;Achondroplasia&gt;</td>\n",
       "      <td>D000130</td>\n",
       "      <td>&lt;Macrocephaly&gt;</td>\n",
       "      <td>D058627</td>\n",
       "    </tr>\n",
       "    <tr>\n",
       "      <th>2</th>\n",
       "      <td>&lt;Acne&gt;</td>\n",
       "      <td>D000152</td>\n",
       "      <td>&lt;Scar&gt;</td>\n",
       "      <td>D002921</td>\n",
       "    </tr>\n",
       "    <tr>\n",
       "      <th>3</th>\n",
       "      <td>&lt;Acrocallosal_syndrome&gt;</td>\n",
       "      <td>D055673</td>\n",
       "      <td>&lt;Psychomotor_retardation&gt;</td>\n",
       "      <td>D011596</td>\n",
       "    </tr>\n",
       "    <tr>\n",
       "      <th>4</th>\n",
       "      <td>&lt;Acrocallosal_syndrome&gt;</td>\n",
       "      <td>D055673</td>\n",
       "      <td>&lt;Polydactyly&gt;</td>\n",
       "      <td>D017689</td>\n",
       "    </tr>\n",
       "    <tr>\n",
       "      <th>...</th>\n",
       "      <td>...</td>\n",
       "      <td>...</td>\n",
       "      <td>...</td>\n",
       "      <td>...</td>\n",
       "    </tr>\n",
       "    <tr>\n",
       "      <th>1159</th>\n",
       "      <td>&lt;Yellow_fever&gt;</td>\n",
       "      <td>D015004</td>\n",
       "      <td>&lt;Jaundice&gt;</td>\n",
       "      <td>D007565</td>\n",
       "    </tr>\n",
       "    <tr>\n",
       "      <th>1160</th>\n",
       "      <td>&lt;Yellow_fever&gt;</td>\n",
       "      <td>D015004</td>\n",
       "      <td>&lt;Chills&gt;</td>\n",
       "      <td>D023341</td>\n",
       "    </tr>\n",
       "    <tr>\n",
       "      <th>1161</th>\n",
       "      <td>&lt;Yellow_fever&gt;</td>\n",
       "      <td>D015004</td>\n",
       "      <td>&lt;Myalgia&gt;</td>\n",
       "      <td>D063806</td>\n",
       "    </tr>\n",
       "    <tr>\n",
       "      <th>1162</th>\n",
       "      <td>&lt;Yellow_fever&gt;</td>\n",
       "      <td>D015004</td>\n",
       "      <td>&lt;Headache&gt;</td>\n",
       "      <td>D006261</td>\n",
       "    </tr>\n",
       "    <tr>\n",
       "      <th>1163</th>\n",
       "      <td>&lt;Yellow_fever&gt;</td>\n",
       "      <td>D015004</td>\n",
       "      <td>&lt;Fever&gt;</td>\n",
       "      <td>D005334</td>\n",
       "    </tr>\n",
       "  </tbody>\n",
       "</table>\n",
       "<p>1164 rows × 4 columns</p>\n",
       "</div>"
      ],
      "text/plain": [
       "                      disease disease_mesh                    symptom  \\\n",
       "0                   <Abscess>      D000038                 <Erythema>   \n",
       "1            <Achondroplasia>      D000130             <Macrocephaly>   \n",
       "2                      <Acne>      D000152                     <Scar>   \n",
       "3     <Acrocallosal_syndrome>      D055673  <Psychomotor_retardation>   \n",
       "4     <Acrocallosal_syndrome>      D055673              <Polydactyly>   \n",
       "...                       ...          ...                        ...   \n",
       "1159           <Yellow_fever>      D015004                 <Jaundice>   \n",
       "1160           <Yellow_fever>      D015004                   <Chills>   \n",
       "1161           <Yellow_fever>      D015004                  <Myalgia>   \n",
       "1162           <Yellow_fever>      D015004                 <Headache>   \n",
       "1163           <Yellow_fever>      D015004                    <Fever>   \n",
       "\n",
       "     symptom_mesh  \n",
       "0         D004890  \n",
       "1         D058627  \n",
       "2         D002921  \n",
       "3         D011596  \n",
       "4         D017689  \n",
       "...           ...  \n",
       "1159      D007565  \n",
       "1160      D023341  \n",
       "1161      D063806  \n",
       "1162      D006261  \n",
       "1163      D005334  \n",
       "\n",
       "[1164 rows x 4 columns]"
      ]
     },
     "execution_count": 25,
     "metadata": {},
     "output_type": "execute_result"
    }
   ],
   "source": [
    "db_data"
   ]
  },
  {
   "cell_type": "markdown",
   "id": "96339696-0c91-4008-bb58-40aa5e2795a3",
   "metadata": {},
   "source": [
    "### Fixing symptom MeSH codes"
   ]
  },
  {
   "cell_type": "markdown",
   "id": "a8c4db33-d5dd-47ee-a0ca-258994072aae",
   "metadata": {},
   "source": [
    "With the disease MeSH codes fixed, now investigating unusual MeSH codes in the symptoms:"
   ]
  },
  {
   "cell_type": "code",
   "execution_count": 26,
   "id": "8daeaba6-3169-4cbb-8e87-ddb31de218fa",
   "metadata": {},
   "outputs": [
    {
     "data": {
      "text/plain": [
       "['']"
      ]
     },
     "execution_count": 26,
     "metadata": {},
     "output_type": "execute_result"
    }
   ],
   "source": [
    "[id for id in pd.Series(db_data[\"symptom_mesh\"].unique()) if len(id) != 7]"
   ]
  },
  {
   "cell_type": "code",
   "execution_count": 27,
   "id": "96f09990-9152-4156-a1f8-6f125aa08240",
   "metadata": {},
   "outputs": [
    {
     "data": {
      "text/html": [
       "<div>\n",
       "<style scoped>\n",
       "    .dataframe tbody tr th:only-of-type {\n",
       "        vertical-align: middle;\n",
       "    }\n",
       "\n",
       "    .dataframe tbody tr th {\n",
       "        vertical-align: top;\n",
       "    }\n",
       "\n",
       "    .dataframe thead th {\n",
       "        text-align: right;\n",
       "    }\n",
       "</style>\n",
       "<table border=\"1\" class=\"dataframe\">\n",
       "  <thead>\n",
       "    <tr style=\"text-align: right;\">\n",
       "      <th></th>\n",
       "      <th>disease</th>\n",
       "      <th>disease_mesh</th>\n",
       "      <th>symptom</th>\n",
       "      <th>symptom_mesh</th>\n",
       "    </tr>\n",
       "  </thead>\n",
       "  <tbody>\n",
       "    <tr>\n",
       "      <th>365</th>\n",
       "      <td>&lt;Dyslipidemia&gt;</td>\n",
       "      <td>D050171</td>\n",
       "      <td>&lt;Atherosclerosis&gt;</td>\n",
       "      <td></td>\n",
       "    </tr>\n",
       "    <tr>\n",
       "      <th>652</th>\n",
       "      <td>&lt;Lemierre's_syndrome&gt;</td>\n",
       "      <td>D057831</td>\n",
       "      <td>&lt;Sepsis&gt;</td>\n",
       "      <td></td>\n",
       "    </tr>\n",
       "  </tbody>\n",
       "</table>\n",
       "</div>"
      ],
      "text/plain": [
       "                   disease disease_mesh            symptom symptom_mesh\n",
       "365         <Dyslipidemia>      D050171  <Atherosclerosis>             \n",
       "652  <Lemierre's_syndrome>      D057831           <Sepsis>             "
      ]
     },
     "execution_count": 27,
     "metadata": {},
     "output_type": "execute_result"
    }
   ],
   "source": [
    "db_data[db_data[\"symptom_mesh\"]==\"\"]"
   ]
  },
  {
   "cell_type": "markdown",
   "id": "ac4af9a2-16f7-4b95-b3b2-c6e64acffb04",
   "metadata": {},
   "source": [
    "For the symptoms it seems there are only immediately two problematic MeSH codes: where they are missing for \"sepsis\" and \"Atherosclerosis\". These can be manually fixed."
   ]
  },
  {
   "cell_type": "code",
   "execution_count": 28,
   "id": "30b8a936-8dde-4366-ab61-aa051c2b23d0",
   "metadata": {},
   "outputs": [],
   "source": [
    "# adding the code for Atherosclerosis\n",
    "db_data.at[365, \"symptom_mesh\"] = \"D050197\"\n",
    "# adding the code for Sepsis\n",
    "db_data.at[652, \"symptom_mesh\"] = \"D018805\""
   ]
  },
  {
   "cell_type": "code",
   "execution_count": 29,
   "id": "3e35dc89-30fe-4c8d-89f0-2f6809451f5b",
   "metadata": {},
   "outputs": [
    {
     "data": {
      "text/plain": [
       "disease         465\n",
       "disease_mesh    465\n",
       "symptom         245\n",
       "symptom_mesh    237\n",
       "dtype: int64"
      ]
     },
     "execution_count": 29,
     "metadata": {},
     "output_type": "execute_result"
    }
   ],
   "source": [
    "db_data.nunique()"
   ]
  },
  {
   "cell_type": "markdown",
   "id": "151961f3-ea01-4f82-8f52-121ea94c4032",
   "metadata": {},
   "source": [
    "There are more symptoms than symptom mesh codes, suggesting that some of the same mesh codes have assigned to different symptoms."
   ]
  },
  {
   "cell_type": "code",
   "execution_count": 30,
   "id": "56392ba0-b003-407c-b940-af8bdf90b927",
   "metadata": {},
   "outputs": [
    {
     "data": {
      "text/plain": [
       "symptom_mesh  symptom                    \n",
       "D005334       <Fever>                        94\n",
       "              <Hyperthermia>                  1\n",
       "D006471       <Hematochezia>                  3\n",
       "              <Gastrointestinal_bleeding>     2\n",
       "D010612       <Sore_throat>                   7\n",
       "              <Pharyngitis>                   2\n",
       "D011693       <Petechia>                      3\n",
       "              <Purpura>                       2\n",
       "D012798       <Drooling>                      1\n",
       "              <Hypersalivation>               1\n",
       "D013575       <Syncope_(medicine)>           12\n",
       "              <Lightheadedness>              10\n",
       "D014202       <Tremor>                        3\n",
       "              <Intention_tremor>              1\n",
       "D018908       <Muscle_weakness>               9\n",
       "              <Weakness>                      8\n",
       "Name: symptom, dtype: int64"
      ]
     },
     "execution_count": 30,
     "metadata": {},
     "output_type": "execute_result"
    }
   ],
   "source": [
    "group_s_mesh = db_data.groupby(\"symptom_mesh\")[\"symptom\"].nunique()\n",
    "db_data[db_data[\"symptom_mesh\"].isin(list(group_s_mesh[group_s_mesh > 1].reset_index()[\"symptom_mesh\"]))].sort_values(\"symptom_mesh\").groupby(\"symptom_mesh\")[\"symptom\"].value_counts()"
   ]
  },
  {
   "cell_type": "markdown",
   "id": "5a1cf72c-2480-40c0-95e0-804b4f9bb239",
   "metadata": {},
   "source": [
    " Relabelling the symptoms that are the same, but have been given different names:"
   ]
  },
  {
   "cell_type": "code",
   "execution_count": 31,
   "id": "cf6656ce-d91f-4ed6-be0a-4338853ea70e",
   "metadata": {},
   "outputs": [],
   "source": [
    "db_data[\"symptom\"].replace(\"<Hematochezia>\", \"<Gastrointestinal_bleeding>\", inplace=True)\n",
    "db_data[\"symptom\"].replace(\"<Sore_throat>\", \"<Pharyngitis>\", inplace=True)\n",
    "db_data[\"symptom\"].replace(\"<Petechia>\", \"<Purpura>\", inplace=True)\n",
    "db_data[\"symptom\"].replace(\"<Hypersalivation>\", \"<Drooling>\", inplace=True)\n",
    "db_data[\"symptom\"].replace(\"<Syncope_(medicine)>\", \"<Lightheadedness>\", inplace=True)\n",
    "db_data[\"symptom\"].replace(\"<Intention_tremor>\", \"<Tremor>\", inplace=True)\n",
    "db_data[\"symptom\"].replace(\"<Weakness>\", \"<Muscle_weakness>\", inplace=True)"
   ]
  },
  {
   "cell_type": "markdown",
   "id": "89dffffa-36d5-4731-b414-1d8df794d7d5",
   "metadata": {},
   "source": [
    "Fixing the code for Hyperthermia:"
   ]
  },
  {
   "cell_type": "code",
   "execution_count": 32,
   "id": "8b856fef-12f3-48f5-9452-cf2394b121ab",
   "metadata": {},
   "outputs": [],
   "source": [
    "db_data.at[db_data[db_data[\"symptom\"]==\"<Hyperthermia>\"].index[0], \"symptom_mesh\"] = \"D000084462\""
   ]
  },
  {
   "cell_type": "markdown",
   "id": "25f70080-da68-4947-b2c5-7d1a95ac609c",
   "metadata": {},
   "source": [
    "Dropping any duplicate rows:"
   ]
  },
  {
   "cell_type": "code",
   "execution_count": 33,
   "id": "37d80e29-6344-4f5d-83ab-cc42ce7d50ae",
   "metadata": {},
   "outputs": [],
   "source": [
    "db_data = db_data.drop_duplicates().reset_index(drop=True)"
   ]
  },
  {
   "cell_type": "markdown",
   "id": "34149b21-42ce-45e9-b650-ddf571c9cf1b",
   "metadata": {},
   "source": [
    "The MeSH codes in the dataset for each of the diseases and symptoms columns have now been fixed."
   ]
  },
  {
   "cell_type": "code",
   "execution_count": 34,
   "id": "e1d6eafb-b866-4306-87f5-a4387fe051d2",
   "metadata": {},
   "outputs": [
    {
     "data": {
      "text/plain": [
       "disease         465\n",
       "disease_mesh    465\n",
       "symptom         238\n",
       "symptom_mesh    238\n",
       "dtype: int64"
      ]
     },
     "execution_count": 34,
     "metadata": {},
     "output_type": "execute_result"
    }
   ],
   "source": [
    "db_data.nunique()"
   ]
  },
  {
   "cell_type": "markdown",
   "id": "500ed172-fa1d-4b15-9c43-4fc3d1b69539",
   "metadata": {},
   "source": [
    "### Standardising disease and symptom MeSH codes"
   ]
  },
  {
   "cell_type": "markdown",
   "id": "1b63c06d-5e3a-4a10-b42c-d48216c41878",
   "metadata": {},
   "source": [
    "Sometimes a disease can also be a symptom. In the DBPedia dataset are 55 conditions which are classified as both diseases, and symptoms of other diseases."
   ]
  },
  {
   "cell_type": "code",
   "execution_count": 35,
   "id": "3c9d3421-afd8-4687-a198-d247ef59fd60",
   "metadata": {},
   "outputs": [
    {
     "data": {
      "text/plain": [
       "56"
      ]
     },
     "execution_count": 35,
     "metadata": {},
     "output_type": "execute_result"
    }
   ],
   "source": [
    "len(set(db_data[\"disease\"]).intersection(set(db_data[\"symptom\"])))"
   ]
  },
  {
   "cell_type": "markdown",
   "id": "a53a01f5-6c94-466e-ba28-9f6e67785f01",
   "metadata": {},
   "source": [
    "Sometimes the same condition has been described with a different label between the symptoms and diseases columns. This must be standardised."
   ]
  },
  {
   "cell_type": "code",
   "execution_count": 36,
   "id": "0a9f15ca-c5af-4bf1-9140-2819f46f1d10",
   "metadata": {},
   "outputs": [],
   "source": [
    "temp_join = db_data.copy()[[\"disease\", \"disease_mesh\"]]\n",
    "temp_join.columns = [\"dis/symp\", \"mesh\"]\n",
    "temp_join = pd.concat([temp_join, db_data[[\"symptom\", \"symptom_mesh\"]].rename(columns={\"symptom\":\"dis/symp\", \"symptom_mesh\":\"mesh\"})])"
   ]
  },
  {
   "cell_type": "markdown",
   "id": "800651cc-0297-40ce-8a97-c2c29c5a2caa",
   "metadata": {},
   "source": [
    "Again referencing the National Library of Medicine to manually select the best descriptor."
   ]
  },
  {
   "cell_type": "code",
   "execution_count": 37,
   "id": "43ba7378-06a5-45cc-9894-0df5c3cf99a0",
   "metadata": {},
   "outputs": [
    {
     "data": {
      "text/plain": [
       "mesh     dis/symp               \n",
       "D001714  <Mania>                     2\n",
       "         <Bipolar_disorder>          1\n",
       "D009369  <Cancer>                    1\n",
       "         <Neoplasm>                  1\n",
       "D011595  <Psychomotor_agitation>     3\n",
       "         <Akathisia>                 1\n",
       "D012640  <Seizure>                  19\n",
       "         <Convulsion>                1\n",
       "D016584  <Panic_disorder>            2\n",
       "         <Panic_attack>              1\n",
       "Name: dis/symp, dtype: int64"
      ]
     },
     "execution_count": 37,
     "metadata": {},
     "output_type": "execute_result"
    }
   ],
   "source": [
    "group_both_mesh = temp_join.groupby(\"mesh\")[\"dis/symp\"].nunique()\n",
    "temp_join[temp_join[\"mesh\"].isin(list(group_both_mesh[group_both_mesh > 1].reset_index()[\"mesh\"]))].sort_values(\"mesh\").groupby(\"mesh\")[\"dis/symp\"].value_counts()"
   ]
  },
  {
   "cell_type": "code",
   "execution_count": 38,
   "id": "bd509b54-1ff0-4a01-8801-a2f3b6807e0a",
   "metadata": {},
   "outputs": [],
   "source": [
    "db_data[\"symptom\"].replace(\"<Mania>\", \"<Bipolar_disorder>\", inplace=True)\n",
    "db_data[\"symptom\"].replace(\"<Cancer>\", \"<Neoplasm>\", inplace=True)\n",
    "db_data[\"symptom\"].replace(\"<Panic_attack>\", \"<Panic_disorder>\", inplace=True)\n",
    "db_data[\"disease\"].replace(\"<Convulsion>\", \"<Seizure>\", inplace=True)\n",
    "db_data = db_data.drop(db_data[db_data[\"disease\"]==\"<Akathisia>\"].index[0], axis=0).reset_index(drop=True)"
   ]
  },
  {
   "cell_type": "markdown",
   "id": "0ce468de-64c7-494f-a5b3-74abccbb05e0",
   "metadata": {},
   "source": [
    "## Cleaning the disease and symptom names in the dataset"
   ]
  },
  {
   "cell_type": "code",
   "execution_count": 39,
   "id": "b4cc9d3e-fccf-45ae-baba-a4d0b36c274b",
   "metadata": {},
   "outputs": [],
   "source": [
    "db_data[\"disease\"] = db_data[\"disease\"].str.strip(\"<>\").str.replace(\"_\", \" \")\n",
    "db_data[\"symptom\"] = db_data[\"symptom\"].str.strip(\"<>\").str.replace(\"_\", \" \")"
   ]
  },
  {
   "cell_type": "markdown",
   "id": "a404a7f5-1cd0-4d59-82b0-f05e31304268",
   "metadata": {},
   "source": [
    "The final DBpedia dataset:"
   ]
  },
  {
   "cell_type": "code",
   "execution_count": 40,
   "id": "734a9957-c2b3-4464-9ae8-bd9109f7da57",
   "metadata": {},
   "outputs": [
    {
     "data": {
      "text/html": [
       "<div>\n",
       "<style scoped>\n",
       "    .dataframe tbody tr th:only-of-type {\n",
       "        vertical-align: middle;\n",
       "    }\n",
       "\n",
       "    .dataframe tbody tr th {\n",
       "        vertical-align: top;\n",
       "    }\n",
       "\n",
       "    .dataframe thead th {\n",
       "        text-align: right;\n",
       "    }\n",
       "</style>\n",
       "<table border=\"1\" class=\"dataframe\">\n",
       "  <thead>\n",
       "    <tr style=\"text-align: right;\">\n",
       "      <th></th>\n",
       "      <th>disease</th>\n",
       "      <th>disease_mesh</th>\n",
       "      <th>symptom</th>\n",
       "      <th>symptom_mesh</th>\n",
       "    </tr>\n",
       "  </thead>\n",
       "  <tbody>\n",
       "    <tr>\n",
       "      <th>0</th>\n",
       "      <td>Abscess</td>\n",
       "      <td>D000038</td>\n",
       "      <td>Erythema</td>\n",
       "      <td>D004890</td>\n",
       "    </tr>\n",
       "    <tr>\n",
       "      <th>1</th>\n",
       "      <td>Achondroplasia</td>\n",
       "      <td>D000130</td>\n",
       "      <td>Macrocephaly</td>\n",
       "      <td>D058627</td>\n",
       "    </tr>\n",
       "    <tr>\n",
       "      <th>2</th>\n",
       "      <td>Acne</td>\n",
       "      <td>D000152</td>\n",
       "      <td>Scar</td>\n",
       "      <td>D002921</td>\n",
       "    </tr>\n",
       "    <tr>\n",
       "      <th>3</th>\n",
       "      <td>Acrocallosal syndrome</td>\n",
       "      <td>D055673</td>\n",
       "      <td>Psychomotor retardation</td>\n",
       "      <td>D011596</td>\n",
       "    </tr>\n",
       "    <tr>\n",
       "      <th>4</th>\n",
       "      <td>Acrocallosal syndrome</td>\n",
       "      <td>D055673</td>\n",
       "      <td>Polydactyly</td>\n",
       "      <td>D017689</td>\n",
       "    </tr>\n",
       "  </tbody>\n",
       "</table>\n",
       "</div>"
      ],
      "text/plain": [
       "                 disease disease_mesh                  symptom symptom_mesh\n",
       "0                Abscess      D000038                 Erythema      D004890\n",
       "1         Achondroplasia      D000130             Macrocephaly      D058627\n",
       "2                   Acne      D000152                     Scar      D002921\n",
       "3  Acrocallosal syndrome      D055673  Psychomotor retardation      D011596\n",
       "4  Acrocallosal syndrome      D055673              Polydactyly      D017689"
      ]
     },
     "execution_count": 40,
     "metadata": {},
     "output_type": "execute_result"
    }
   ],
   "source": [
    "db_data.head()"
   ]
  },
  {
   "cell_type": "markdown",
   "id": "eeff5742-0264-4de4-a186-57b2a3af0ee9",
   "metadata": {},
   "source": [
    "## Mapping the MeSH codes to UMLS Codes"
   ]
  },
  {
   "cell_type": "markdown",
   "id": "e552a269-72e3-4bdf-a20b-5327853ec11c",
   "metadata": {},
   "source": [
    "UMLS codes (Unified Medical Language System) are a standardised way of representing the diseases. Therefore the different codes used by different datasets will all be standardised to UMLS. The UMLS Metathesaurus API will be needed to map the MeSH code to UMLS codes."
   ]
  },
  {
   "cell_type": "markdown",
   "id": "6ba3feda-5ae4-4b61-b959-1be43cc7ad36",
   "metadata": {},
   "source": [
    "Finding every unique MeSH code in the DBpedia dataset:"
   ]
  },
  {
   "cell_type": "code",
   "execution_count": 41,
   "id": "3e6711f4-2790-4443-9b46-0cb2b667da4c",
   "metadata": {},
   "outputs": [],
   "source": [
    "all_mesh = list(pd.concat([db_data[\"disease_mesh\"], db_data[\"symptom_mesh\"]]).unique())"
   ]
  },
  {
   "cell_type": "markdown",
   "id": "825192b4-6329-47e6-b5bb-87fb1a045ef9",
   "metadata": {},
   "source": [
    "Define the UMLS API URI:"
   ]
  },
  {
   "cell_type": "code",
   "execution_count": 42,
   "id": "de03e7fe-90c8-4ba6-aaf9-0e4f0148df72",
   "metadata": {},
   "outputs": [],
   "source": [
    "api = \"https://uts-ws.nlm.nih.gov/rest/search/current\"\n",
    "apiKey = json.load(open(\"../umls_api_key.json\"))[\"apiKey\"]"
   ]
  },
  {
   "cell_type": "markdown",
   "id": "daa923c8-a7fd-4cbc-bc7d-916ddba4c920",
   "metadata": {},
   "source": [
    "Finding the respective UMLS code for every MeSH code in the DBpedia dataset:"
   ]
  },
  {
   "cell_type": "raw",
   "id": "dbb0e4e5-757e-4d13-97b8-743da1621d1b",
   "metadata": {
    "tags": []
   },
   "source": [
    "mesh_to_umls = dict()\n",
    "failed_mesh_to_umls = list()\n",
    "\n",
    "for mesh_code in all_mesh:\n",
    "    time.sleep(0.06) # the API requests less than 20 requests per second be made\n",
    "    response = requests.get(api, params={\"string\" : mesh_code,\n",
    "                                         \"inputType\" : \"code\",\n",
    "                                         \"includeObsolete\":True,\n",
    "                                         \"sabs\":\"MSH\",\n",
    "                                         \"searchType\":\"exact\",\n",
    "                                         \"pageSize\":1,\n",
    "                                         \"apiKey\":apiKey}).json()\n",
    "    if len(response[\"result\"][\"results\"]) == 0:\n",
    "        failed_mesh_to_umls.append(mesh_code)\n",
    "    else:\n",
    "        umls_code = response[\"result\"][\"results\"][0][\"ui\"]\n",
    "        mesh_to_umls[mesh_code] = umls_code"
   ]
  },
  {
   "cell_type": "markdown",
   "id": "30e64903-207a-47a1-abf6-1d5da3449e20",
   "metadata": {},
   "source": [
    "Manually fixing the one disease with an incorrect MeSH code, that could not be mapped to UMLS."
   ]
  },
  {
   "cell_type": "raw",
   "id": "f0ba9fca-943c-4f5f-ba08-2d59165bc22a",
   "metadata": {},
   "source": [
    "db_data[db_data[\"disease_mesh\"]==failed_mesh_to_umls[0]]"
   ]
  },
  {
   "cell_type": "code",
   "execution_count": 43,
   "id": "ba86b5b8-ad4e-45e6-b9d9-577aedd5d697",
   "metadata": {},
   "outputs": [
    {
     "data": {
      "image/png": "[encoded data removed]",
      "text/plain": [
       "<IPython.core.display.Image object>"
      ]
     },
     "execution_count": 43,
     "metadata": {},
     "output_type": "execute_result"
    }
   ],
   "source": [
    "Image(\"https://i.imgur.com/wJpSE5T.png\")"
   ]
  },
  {
   "cell_type": "code",
   "execution_count": 44,
   "id": "75d7df39-c870-40af-9725-4a868c0758a9",
   "metadata": {},
   "outputs": [],
   "source": [
    "db_data.at[107, \"disease_mesh\"] = \"D000094482\""
   ]
  },
  {
   "cell_type": "raw",
   "id": "4d6fd144-f7b0-4072-9ea9-57f36bb884e0",
   "metadata": {},
   "source": [
    "mesh_to_umls[\"D000094482\"] = requests.get(api, params={\"string\" : \"D000094482\",\"inputType\" : \"code\",\"includeObsolete\":True,\"sabs\":\"MSH\",\n",
    "                                                       \"searchType\":\"exact\",\"pageSize\":1,\"apiKey\":apiKey}).json()[\"result\"][\"results\"][0][\"ui\"]"
   ]
  },
  {
   "cell_type": "markdown",
   "id": "3f07fd03-3297-4836-8df3-d303bcb41be0",
   "metadata": {},
   "source": [
    "Saving the results so they can be reused:"
   ]
  },
  {
   "cell_type": "raw",
   "id": "6dc01f20-d487-4245-bf12-2993f8ce108e",
   "metadata": {},
   "source": [
    "mesh_to_umls_df = pd.DataFrame.from_dict(mesh_to_umls, orient=\"index\").reset_index()\n",
    "mesh_to_umls_df.columns = [\"MeSH Code\", \"UMLS Code\"]"
   ]
  },
  {
   "cell_type": "raw",
   "id": "3b5a85b5-2771-4d2f-998d-4f0daac5af2b",
   "metadata": {
    "tags": []
   },
   "source": [
    "mesh_to_umls_df.to_csv(\"code_maps/mesh_to_umls_db_dict.csv\", index=False)"
   ]
  },
  {
   "cell_type": "code",
   "execution_count": 45,
   "id": "33c8098a-4514-420b-8c5b-00b3f842e91e",
   "metadata": {},
   "outputs": [],
   "source": [
    "mesh_to_umls_df = pd.read_csv(\"code_maps/mesh_to_umls_db_dict.csv\")\n",
    "mesh_to_umls = mesh_to_umls_df.set_index(\"MeSH Code\")[\"UMLS Code\"].to_dict()"
   ]
  },
  {
   "cell_type": "code",
   "execution_count": 46,
   "id": "faa7c901-4e6b-49b2-843b-e8a470b24a09",
   "metadata": {},
   "outputs": [
    {
     "data": {
      "text/html": [
       "<div>\n",
       "<style scoped>\n",
       "    .dataframe tbody tr th:only-of-type {\n",
       "        vertical-align: middle;\n",
       "    }\n",
       "\n",
       "    .dataframe tbody tr th {\n",
       "        vertical-align: top;\n",
       "    }\n",
       "\n",
       "    .dataframe thead th {\n",
       "        text-align: right;\n",
       "    }\n",
       "</style>\n",
       "<table border=\"1\" class=\"dataframe\">\n",
       "  <thead>\n",
       "    <tr style=\"text-align: right;\">\n",
       "      <th></th>\n",
       "      <th>MeSH Code</th>\n",
       "      <th>UMLS Code</th>\n",
       "    </tr>\n",
       "  </thead>\n",
       "  <tbody>\n",
       "    <tr>\n",
       "      <th>0</th>\n",
       "      <td>D000038</td>\n",
       "      <td>C0000833</td>\n",
       "    </tr>\n",
       "    <tr>\n",
       "      <th>1</th>\n",
       "      <td>D000130</td>\n",
       "      <td>C0001080</td>\n",
       "    </tr>\n",
       "    <tr>\n",
       "      <th>2</th>\n",
       "      <td>D000152</td>\n",
       "      <td>C0001144</td>\n",
       "    </tr>\n",
       "    <tr>\n",
       "      <th>3</th>\n",
       "      <td>D055673</td>\n",
       "      <td>C0796147</td>\n",
       "    </tr>\n",
       "    <tr>\n",
       "      <th>4</th>\n",
       "      <td>D001991</td>\n",
       "      <td>C0006277</td>\n",
       "    </tr>\n",
       "  </tbody>\n",
       "</table>\n",
       "</div>"
      ],
      "text/plain": [
       "  MeSH Code UMLS Code\n",
       "0   D000038  C0000833\n",
       "1   D000130  C0001080\n",
       "2   D000152  C0001144\n",
       "3   D055673  C0796147\n",
       "4   D001991  C0006277"
      ]
     },
     "execution_count": 46,
     "metadata": {},
     "output_type": "execute_result"
    }
   ],
   "source": [
    "mesh_to_umls_df.head()"
   ]
  },
  {
   "cell_type": "markdown",
   "id": "0e7b205c-1c7d-47cb-9c2c-8539cb8915d0",
   "metadata": {},
   "source": [
    "Using the generated dictionary to map the MeSH codes to UMLS codes:"
   ]
  },
  {
   "cell_type": "code",
   "execution_count": 47,
   "id": "90356d29-8de0-4d36-85d4-17c405e0789a",
   "metadata": {},
   "outputs": [],
   "source": [
    "db_data[\"disease_umls\"] = db_data[\"disease_mesh\"].map(mesh_to_umls)\n",
    "db_data[\"symptom_umls\"] = db_data[\"symptom_mesh\"].map(mesh_to_umls)"
   ]
  },
  {
   "cell_type": "code",
   "execution_count": 48,
   "id": "7b583dee-87c0-44a0-99e5-fbda299ca34e",
   "metadata": {},
   "outputs": [
    {
     "data": {
      "text/html": [
       "<div>\n",
       "<style scoped>\n",
       "    .dataframe tbody tr th:only-of-type {\n",
       "        vertical-align: middle;\n",
       "    }\n",
       "\n",
       "    .dataframe tbody tr th {\n",
       "        vertical-align: top;\n",
       "    }\n",
       "\n",
       "    .dataframe thead th {\n",
       "        text-align: right;\n",
       "    }\n",
       "</style>\n",
       "<table border=\"1\" class=\"dataframe\">\n",
       "  <thead>\n",
       "    <tr style=\"text-align: right;\">\n",
       "      <th></th>\n",
       "      <th>disease</th>\n",
       "      <th>disease_mesh</th>\n",
       "      <th>symptom</th>\n",
       "      <th>symptom_mesh</th>\n",
       "      <th>disease_umls</th>\n",
       "      <th>symptom_umls</th>\n",
       "    </tr>\n",
       "  </thead>\n",
       "  <tbody>\n",
       "    <tr>\n",
       "      <th>0</th>\n",
       "      <td>Abscess</td>\n",
       "      <td>D000038</td>\n",
       "      <td>Erythema</td>\n",
       "      <td>D004890</td>\n",
       "      <td>C0000833</td>\n",
       "      <td>C0041834</td>\n",
       "    </tr>\n",
       "    <tr>\n",
       "      <th>1</th>\n",
       "      <td>Achondroplasia</td>\n",
       "      <td>D000130</td>\n",
       "      <td>Macrocephaly</td>\n",
       "      <td>D058627</td>\n",
       "      <td>C0001080</td>\n",
       "      <td>C0221355</td>\n",
       "    </tr>\n",
       "    <tr>\n",
       "      <th>2</th>\n",
       "      <td>Acne</td>\n",
       "      <td>D000152</td>\n",
       "      <td>Scar</td>\n",
       "      <td>D002921</td>\n",
       "      <td>C0001144</td>\n",
       "      <td>C2004491</td>\n",
       "    </tr>\n",
       "    <tr>\n",
       "      <th>3</th>\n",
       "      <td>Acrocallosal syndrome</td>\n",
       "      <td>D055673</td>\n",
       "      <td>Psychomotor retardation</td>\n",
       "      <td>D011596</td>\n",
       "      <td>C0796147</td>\n",
       "      <td>C5441816</td>\n",
       "    </tr>\n",
       "    <tr>\n",
       "      <th>4</th>\n",
       "      <td>Acrocallosal syndrome</td>\n",
       "      <td>D055673</td>\n",
       "      <td>Polydactyly</td>\n",
       "      <td>D017689</td>\n",
       "      <td>C0796147</td>\n",
       "      <td>C0152427</td>\n",
       "    </tr>\n",
       "    <tr>\n",
       "      <th>...</th>\n",
       "      <td>...</td>\n",
       "      <td>...</td>\n",
       "      <td>...</td>\n",
       "      <td>...</td>\n",
       "      <td>...</td>\n",
       "      <td>...</td>\n",
       "    </tr>\n",
       "    <tr>\n",
       "      <th>1154</th>\n",
       "      <td>Yellow fever</td>\n",
       "      <td>D015004</td>\n",
       "      <td>Jaundice</td>\n",
       "      <td>D007565</td>\n",
       "      <td>C0043395</td>\n",
       "      <td>C0242183</td>\n",
       "    </tr>\n",
       "    <tr>\n",
       "      <th>1155</th>\n",
       "      <td>Yellow fever</td>\n",
       "      <td>D015004</td>\n",
       "      <td>Chills</td>\n",
       "      <td>D023341</td>\n",
       "      <td>C0043395</td>\n",
       "      <td>C0085593</td>\n",
       "    </tr>\n",
       "    <tr>\n",
       "      <th>1156</th>\n",
       "      <td>Yellow fever</td>\n",
       "      <td>D015004</td>\n",
       "      <td>Myalgia</td>\n",
       "      <td>D063806</td>\n",
       "      <td>C0043395</td>\n",
       "      <td>C0231528</td>\n",
       "    </tr>\n",
       "    <tr>\n",
       "      <th>1157</th>\n",
       "      <td>Yellow fever</td>\n",
       "      <td>D015004</td>\n",
       "      <td>Headache</td>\n",
       "      <td>D006261</td>\n",
       "      <td>C0043395</td>\n",
       "      <td>C0877781</td>\n",
       "    </tr>\n",
       "    <tr>\n",
       "      <th>1158</th>\n",
       "      <td>Yellow fever</td>\n",
       "      <td>D015004</td>\n",
       "      <td>Fever</td>\n",
       "      <td>D005334</td>\n",
       "      <td>C0043395</td>\n",
       "      <td>C0015967</td>\n",
       "    </tr>\n",
       "  </tbody>\n",
       "</table>\n",
       "<p>1159 rows × 6 columns</p>\n",
       "</div>"
      ],
      "text/plain": [
       "                    disease disease_mesh                  symptom  \\\n",
       "0                   Abscess      D000038                 Erythema   \n",
       "1            Achondroplasia      D000130             Macrocephaly   \n",
       "2                      Acne      D000152                     Scar   \n",
       "3     Acrocallosal syndrome      D055673  Psychomotor retardation   \n",
       "4     Acrocallosal syndrome      D055673              Polydactyly   \n",
       "...                     ...          ...                      ...   \n",
       "1154           Yellow fever      D015004                 Jaundice   \n",
       "1155           Yellow fever      D015004                   Chills   \n",
       "1156           Yellow fever      D015004                  Myalgia   \n",
       "1157           Yellow fever      D015004                 Headache   \n",
       "1158           Yellow fever      D015004                    Fever   \n",
       "\n",
       "     symptom_mesh disease_umls symptom_umls  \n",
       "0         D004890     C0000833     C0041834  \n",
       "1         D058627     C0001080     C0221355  \n",
       "2         D002921     C0001144     C2004491  \n",
       "3         D011596     C0796147     C5441816  \n",
       "4         D017689     C0796147     C0152427  \n",
       "...           ...          ...          ...  \n",
       "1154      D007565     C0043395     C0242183  \n",
       "1155      D023341     C0043395     C0085593  \n",
       "1156      D063806     C0043395     C0231528  \n",
       "1157      D006261     C0043395     C0877781  \n",
       "1158      D005334     C0043395     C0015967  \n",
       "\n",
       "[1159 rows x 6 columns]"
      ]
     },
     "execution_count": 48,
     "metadata": {},
     "output_type": "execute_result"
    }
   ],
   "source": [
    "db_data"
   ]
  },
  {
   "cell_type": "raw",
   "id": "78d45100-e9a3-4bc7-9977-452d086f406a",
   "metadata": {},
   "source": [
    "db_data.to_csv(\"data/dbpedia_data.csv\", index=False)"
   ]
  },
  {
   "cell_type": "markdown",
   "id": "93b60dac-751b-4b94-a093-d8f5cbcdd34e",
   "metadata": {
    "tags": []
   },
   "source": [
    "## Reshaping the dataset to be suitable for import to Gephi"
   ]
  },
  {
   "cell_type": "markdown",
   "id": "05d4505e-b141-4df6-991c-04d578d85be3",
   "metadata": {},
   "source": [
    "The data must be reshaped into two different tables: one containing all of the nodes and their labels, and another describing the edges between the given nodes."
   ]
  },
  {
   "cell_type": "markdown",
   "id": "78a34e15-e65a-4a9d-916f-969db0950348",
   "metadata": {},
   "source": [
    "### Creating a \"nodes\" table"
   ]
  },
  {
   "cell_type": "markdown",
   "id": "281481cc-eac9-414d-b687-276b3242469b",
   "metadata": {},
   "source": [
    "Creating a dataframe that contains only each \"node\", i.e. each disease or symptom, and its associated UMLS code. Starting by including all of the diseases:"
   ]
  },
  {
   "cell_type": "code",
   "execution_count": 49,
   "id": "e1ad5b6b-5702-4c17-a6a3-4efdb0a57555",
   "metadata": {},
   "outputs": [],
   "source": [
    "nodes_table = db_data.copy()[[\"disease_umls\", \"disease\"]]\n",
    "nodes_table.columns = [\"Id\", \"Label\"]"
   ]
  },
  {
   "cell_type": "markdown",
   "id": "9c47bdb2-20e0-4856-b144-9fc744228202",
   "metadata": {},
   "source": [
    "Then adding all of the symptoms to the table:"
   ]
  },
  {
   "cell_type": "code",
   "execution_count": 50,
   "id": "23cf1f4f-9c8c-49e3-a516-28937d50ca81",
   "metadata": {},
   "outputs": [],
   "source": [
    "nodes_table = pd.concat([nodes_table, db_data[[\"symptom_umls\", \"symptom\"]].rename(columns={\"symptom_umls\":\"Id\", \"symptom\":\"Label\"})])"
   ]
  },
  {
   "cell_type": "markdown",
   "id": "616ae4e9-8bff-47eb-b8c8-b617c3a9b8e9",
   "metadata": {},
   "source": [
    "Removing all of the duplicate diseases/symptoms:"
   ]
  },
  {
   "cell_type": "code",
   "execution_count": 51,
   "id": "b87c544d-280d-42a1-a8b3-4ed02872b591",
   "metadata": {},
   "outputs": [],
   "source": [
    "nodes_table = nodes_table.drop_duplicates()"
   ]
  },
  {
   "cell_type": "markdown",
   "id": "94d37e26-8843-408c-b1df-e24ecd0fbac3",
   "metadata": {},
   "source": [
    "Checking that the UMLS codes are all correct:"
   ]
  },
  {
   "cell_type": "code",
   "execution_count": 52,
   "id": "83399444-577e-4670-95bd-61110cf0a865",
   "metadata": {},
   "outputs": [
    {
     "data": {
      "text/plain": [
       "Id       642\n",
       "Label    642\n",
       "dtype: int64"
      ]
     },
     "execution_count": 52,
     "metadata": {},
     "output_type": "execute_result"
    }
   ],
   "source": [
    "nodes_table.nunique()"
   ]
  },
  {
   "cell_type": "markdown",
   "id": "08a8588f-836e-4a96-aa39-4c6610cbfc38",
   "metadata": {},
   "source": [
    "Adding an optional column, indicating whether a condition is either a disease or symptom. The classification is not clear cut, because some conditions can exist as either a disease or a symptom. \"Symptom\" is chosen to take priority, due to the fewer number of symptoms in the dataset."
   ]
  },
  {
   "cell_type": "code",
   "execution_count": 53,
   "id": "14b843dd-47b6-4ad1-a723-8f1c80b3e47d",
   "metadata": {},
   "outputs": [
    {
     "name": "stdout",
     "output_type": "stream",
     "text": [
      "Number of symptoms: 238 \n",
      "Number of diseases: 464 \n",
      "Number of conditions existing as both a symptom and disease: 60\n"
     ]
    }
   ],
   "source": [
    "print(\"Number of symptoms:\", db_data[\"symptom\"].nunique(), \n",
    "\"\\nNumber of diseases:\", db_data[\"disease\"].nunique(), \n",
    "\"\\nNumber of conditions existing as both a symptom and disease:\", len(set(db_data[\"symptom\"]).intersection(set(db_data[\"disease\"]))))"
   ]
  },
  {
   "cell_type": "code",
   "execution_count": 54,
   "id": "53e8a69e-2975-4d66-899e-1891231c53c0",
   "metadata": {},
   "outputs": [],
   "source": [
    "nodes_table[\"condition\"] = nodes_table[\"Id\"].isin(db_data[\"symptom_umls\"].unique()).replace({True: \"symptom\", False: \"disease\"})"
   ]
  },
  {
   "cell_type": "code",
   "execution_count": 55,
   "id": "7c769444-b860-4197-84d6-2ffd5947a6a5",
   "metadata": {},
   "outputs": [
    {
     "data": {
      "text/html": [
       "<div>\n",
       "<style scoped>\n",
       "    .dataframe tbody tr th:only-of-type {\n",
       "        vertical-align: middle;\n",
       "    }\n",
       "\n",
       "    .dataframe tbody tr th {\n",
       "        vertical-align: top;\n",
       "    }\n",
       "\n",
       "    .dataframe thead th {\n",
       "        text-align: right;\n",
       "    }\n",
       "</style>\n",
       "<table border=\"1\" class=\"dataframe\">\n",
       "  <thead>\n",
       "    <tr style=\"text-align: right;\">\n",
       "      <th></th>\n",
       "      <th>Id</th>\n",
       "      <th>Label</th>\n",
       "      <th>condition</th>\n",
       "    </tr>\n",
       "  </thead>\n",
       "  <tbody>\n",
       "    <tr>\n",
       "      <th>0</th>\n",
       "      <td>C0000833</td>\n",
       "      <td>Abscess</td>\n",
       "      <td>symptom</td>\n",
       "    </tr>\n",
       "    <tr>\n",
       "      <th>1</th>\n",
       "      <td>C0001080</td>\n",
       "      <td>Achondroplasia</td>\n",
       "      <td>disease</td>\n",
       "    </tr>\n",
       "    <tr>\n",
       "      <th>2</th>\n",
       "      <td>C0001144</td>\n",
       "      <td>Acne</td>\n",
       "      <td>symptom</td>\n",
       "    </tr>\n",
       "    <tr>\n",
       "      <th>3</th>\n",
       "      <td>C0796147</td>\n",
       "      <td>Acrocallosal syndrome</td>\n",
       "      <td>disease</td>\n",
       "    </tr>\n",
       "    <tr>\n",
       "      <th>5</th>\n",
       "      <td>C0006277</td>\n",
       "      <td>Bronchitis</td>\n",
       "      <td>disease</td>\n",
       "    </tr>\n",
       "    <tr>\n",
       "      <th>...</th>\n",
       "      <td>...</td>\n",
       "      <td>...</td>\n",
       "      <td>...</td>\n",
       "    </tr>\n",
       "    <tr>\n",
       "      <th>1103</th>\n",
       "      <td>C0020505</td>\n",
       "      <td>Polyphagia</td>\n",
       "      <td>symptom</td>\n",
       "    </tr>\n",
       "    <tr>\n",
       "      <th>1130</th>\n",
       "      <td>C0234482</td>\n",
       "      <td>Aphasia</td>\n",
       "      <td>symptom</td>\n",
       "    </tr>\n",
       "    <tr>\n",
       "      <th>1149</th>\n",
       "      <td>C0013374</td>\n",
       "      <td>Dysgammaglobulinemia</td>\n",
       "      <td>symptom</td>\n",
       "    </tr>\n",
       "    <tr>\n",
       "      <th>1152</th>\n",
       "      <td>C0025209</td>\n",
       "      <td>Freckle</td>\n",
       "      <td>symptom</td>\n",
       "    </tr>\n",
       "    <tr>\n",
       "      <th>1153</th>\n",
       "      <td>C0038814</td>\n",
       "      <td>Sunburn</td>\n",
       "      <td>symptom</td>\n",
       "    </tr>\n",
       "  </tbody>\n",
       "</table>\n",
       "<p>642 rows × 3 columns</p>\n",
       "</div>"
      ],
      "text/plain": [
       "            Id                  Label condition\n",
       "0     C0000833                Abscess   symptom\n",
       "1     C0001080         Achondroplasia   disease\n",
       "2     C0001144                   Acne   symptom\n",
       "3     C0796147  Acrocallosal syndrome   disease\n",
       "5     C0006277             Bronchitis   disease\n",
       "...        ...                    ...       ...\n",
       "1103  C0020505             Polyphagia   symptom\n",
       "1130  C0234482                Aphasia   symptom\n",
       "1149  C0013374   Dysgammaglobulinemia   symptom\n",
       "1152  C0025209                Freckle   symptom\n",
       "1153  C0038814                Sunburn   symptom\n",
       "\n",
       "[642 rows x 3 columns]"
      ]
     },
     "execution_count": 55,
     "metadata": {},
     "output_type": "execute_result"
    }
   ],
   "source": [
    "nodes_table"
   ]
  },
  {
   "cell_type": "markdown",
   "id": "ab46cd8b-1a0a-4a1e-8d13-b1ed0ee260ab",
   "metadata": {},
   "source": [
    "There are 642 unique diseases/symptoms in the DBpedia dataset."
   ]
  },
  {
   "cell_type": "code",
   "execution_count": 56,
   "id": "6d94f208-f8db-414e-8ebf-140faa846adc",
   "metadata": {},
   "outputs": [
    {
     "data": {
      "text/plain": [
       "(642, 3)"
      ]
     },
     "execution_count": 56,
     "metadata": {},
     "output_type": "execute_result"
    }
   ],
   "source": [
    "nodes_table.shape"
   ]
  },
  {
   "cell_type": "markdown",
   "id": "792d7113-eda4-49a9-ac1c-f2f72d35a7b0",
   "metadata": {},
   "source": [
    "### Creating an \"edges\" table"
   ]
  },
  {
   "cell_type": "code",
   "execution_count": 57,
   "id": "a6d559c9-7b1e-4d2f-9c1c-bd08f6630c6d",
   "metadata": {},
   "outputs": [],
   "source": [
    "edges_table = db_data.copy()[[\"disease\", \"symptom\", \"disease_umls\", \"symptom_umls\"]]"
   ]
  },
  {
   "cell_type": "markdown",
   "id": "70e9bbc1-5840-46b8-ac00-26a9ad6a33ef",
   "metadata": {},
   "source": [
    "Creating columns for:  \n",
    "* the source and target of the edge (the two nodes)\n",
    "* the label for the edge \n",
    "* the unique id for the edge\n",
    "* the type of edge (directed)\n",
    "* the weight of the edge - as DBpedia does not suggest that any one symptom is more important than the others, all edges are given equal weights."
   ]
  },
  {
   "cell_type": "code",
   "execution_count": 58,
   "id": "d6e2783c-6e7a-4c0f-a103-66ae188a46d1",
   "metadata": {},
   "outputs": [],
   "source": [
    "edges_table.columns = [\"disease\", \"symptom\", \"Source\", \"Target\"]\n",
    "edges_table[\"Label\"] = \"Edge from \" + edges_table[\"disease\"] + \" to \" + edges_table[\"symptom\"]\n",
    "edges_table[\"Id\"] = edges_table[\"Source\"] + \"_\" + edges_table[\"Target\"]\n",
    "edges_table[\"Type\"] = \"Directed\"\n",
    "edges_table[\"Weight\"] = 1"
   ]
  },
  {
   "cell_type": "code",
   "execution_count": 59,
   "id": "fdb07ce3-1051-444b-8915-942b540a317a",
   "metadata": {},
   "outputs": [
    {
     "data": {
      "text/html": [
       "<div>\n",
       "<style scoped>\n",
       "    .dataframe tbody tr th:only-of-type {\n",
       "        vertical-align: middle;\n",
       "    }\n",
       "\n",
       "    .dataframe tbody tr th {\n",
       "        vertical-align: top;\n",
       "    }\n",
       "\n",
       "    .dataframe thead th {\n",
       "        text-align: right;\n",
       "    }\n",
       "</style>\n",
       "<table border=\"1\" class=\"dataframe\">\n",
       "  <thead>\n",
       "    <tr style=\"text-align: right;\">\n",
       "      <th></th>\n",
       "      <th>Source</th>\n",
       "      <th>Target</th>\n",
       "      <th>Type</th>\n",
       "      <th>Id</th>\n",
       "      <th>Label</th>\n",
       "      <th>Weight</th>\n",
       "    </tr>\n",
       "  </thead>\n",
       "  <tbody>\n",
       "    <tr>\n",
       "      <th>0</th>\n",
       "      <td>C0000833</td>\n",
       "      <td>C0041834</td>\n",
       "      <td>Directed</td>\n",
       "      <td>C0000833_C0041834</td>\n",
       "      <td>Edge from Abscess to Erythema</td>\n",
       "      <td>1</td>\n",
       "    </tr>\n",
       "    <tr>\n",
       "      <th>1</th>\n",
       "      <td>C0001080</td>\n",
       "      <td>C0221355</td>\n",
       "      <td>Directed</td>\n",
       "      <td>C0001080_C0221355</td>\n",
       "      <td>Edge from Achondroplasia to Macrocephaly</td>\n",
       "      <td>1</td>\n",
       "    </tr>\n",
       "    <tr>\n",
       "      <th>2</th>\n",
       "      <td>C0001144</td>\n",
       "      <td>C2004491</td>\n",
       "      <td>Directed</td>\n",
       "      <td>C0001144_C2004491</td>\n",
       "      <td>Edge from Acne to Scar</td>\n",
       "      <td>1</td>\n",
       "    </tr>\n",
       "    <tr>\n",
       "      <th>3</th>\n",
       "      <td>C0796147</td>\n",
       "      <td>C5441816</td>\n",
       "      <td>Directed</td>\n",
       "      <td>C0796147_C5441816</td>\n",
       "      <td>Edge from Acrocallosal syndrome to Psychomotor...</td>\n",
       "      <td>1</td>\n",
       "    </tr>\n",
       "    <tr>\n",
       "      <th>4</th>\n",
       "      <td>C0796147</td>\n",
       "      <td>C0152427</td>\n",
       "      <td>Directed</td>\n",
       "      <td>C0796147_C0152427</td>\n",
       "      <td>Edge from Acrocallosal syndrome to Polydactyly</td>\n",
       "      <td>1</td>\n",
       "    </tr>\n",
       "    <tr>\n",
       "      <th>...</th>\n",
       "      <td>...</td>\n",
       "      <td>...</td>\n",
       "      <td>...</td>\n",
       "      <td>...</td>\n",
       "      <td>...</td>\n",
       "      <td>...</td>\n",
       "    </tr>\n",
       "    <tr>\n",
       "      <th>1154</th>\n",
       "      <td>C0043395</td>\n",
       "      <td>C0242183</td>\n",
       "      <td>Directed</td>\n",
       "      <td>C0043395_C0242183</td>\n",
       "      <td>Edge from Yellow fever to Jaundice</td>\n",
       "      <td>1</td>\n",
       "    </tr>\n",
       "    <tr>\n",
       "      <th>1155</th>\n",
       "      <td>C0043395</td>\n",
       "      <td>C0085593</td>\n",
       "      <td>Directed</td>\n",
       "      <td>C0043395_C0085593</td>\n",
       "      <td>Edge from Yellow fever to Chills</td>\n",
       "      <td>1</td>\n",
       "    </tr>\n",
       "    <tr>\n",
       "      <th>1156</th>\n",
       "      <td>C0043395</td>\n",
       "      <td>C0231528</td>\n",
       "      <td>Directed</td>\n",
       "      <td>C0043395_C0231528</td>\n",
       "      <td>Edge from Yellow fever to Myalgia</td>\n",
       "      <td>1</td>\n",
       "    </tr>\n",
       "    <tr>\n",
       "      <th>1157</th>\n",
       "      <td>C0043395</td>\n",
       "      <td>C0877781</td>\n",
       "      <td>Directed</td>\n",
       "      <td>C0043395_C0877781</td>\n",
       "      <td>Edge from Yellow fever to Headache</td>\n",
       "      <td>1</td>\n",
       "    </tr>\n",
       "    <tr>\n",
       "      <th>1158</th>\n",
       "      <td>C0043395</td>\n",
       "      <td>C0015967</td>\n",
       "      <td>Directed</td>\n",
       "      <td>C0043395_C0015967</td>\n",
       "      <td>Edge from Yellow fever to Fever</td>\n",
       "      <td>1</td>\n",
       "    </tr>\n",
       "  </tbody>\n",
       "</table>\n",
       "<p>1159 rows × 6 columns</p>\n",
       "</div>"
      ],
      "text/plain": [
       "        Source    Target      Type                 Id  \\\n",
       "0     C0000833  C0041834  Directed  C0000833_C0041834   \n",
       "1     C0001080  C0221355  Directed  C0001080_C0221355   \n",
       "2     C0001144  C2004491  Directed  C0001144_C2004491   \n",
       "3     C0796147  C5441816  Directed  C0796147_C5441816   \n",
       "4     C0796147  C0152427  Directed  C0796147_C0152427   \n",
       "...        ...       ...       ...                ...   \n",
       "1154  C0043395  C0242183  Directed  C0043395_C0242183   \n",
       "1155  C0043395  C0085593  Directed  C0043395_C0085593   \n",
       "1156  C0043395  C0231528  Directed  C0043395_C0231528   \n",
       "1157  C0043395  C0877781  Directed  C0043395_C0877781   \n",
       "1158  C0043395  C0015967  Directed  C0043395_C0015967   \n",
       "\n",
       "                                                  Label  Weight  \n",
       "0                         Edge from Abscess to Erythema       1  \n",
       "1              Edge from Achondroplasia to Macrocephaly       1  \n",
       "2                                Edge from Acne to Scar       1  \n",
       "3     Edge from Acrocallosal syndrome to Psychomotor...       1  \n",
       "4        Edge from Acrocallosal syndrome to Polydactyly       1  \n",
       "...                                                 ...     ...  \n",
       "1154                 Edge from Yellow fever to Jaundice       1  \n",
       "1155                   Edge from Yellow fever to Chills       1  \n",
       "1156                  Edge from Yellow fever to Myalgia       1  \n",
       "1157                 Edge from Yellow fever to Headache       1  \n",
       "1158                    Edge from Yellow fever to Fever       1  \n",
       "\n",
       "[1159 rows x 6 columns]"
      ]
     },
     "execution_count": 59,
     "metadata": {},
     "output_type": "execute_result"
    }
   ],
   "source": [
    "edges_table = edges_table[[\"Source\", \"Target\", \"Type\", \"Id\", \"Label\", \"Weight\"]]\n",
    "edges_table"
   ]
  },
  {
   "cell_type": "markdown",
   "id": "e389c45d-1608-4595-ab0c-192282d330fd",
   "metadata": {},
   "source": [
    "There are 1159 connections between diseases and symptoms in the DBpedia dataset."
   ]
  },
  {
   "cell_type": "code",
   "execution_count": 60,
   "id": "6d34e42a-3f32-452e-a8f2-7beaea514d42",
   "metadata": {},
   "outputs": [
    {
     "data": {
      "text/plain": [
       "(1159, 6)"
      ]
     },
     "execution_count": 60,
     "metadata": {},
     "output_type": "execute_result"
    }
   ],
   "source": [
    "edges_table.shape"
   ]
  },
  {
   "cell_type": "markdown",
   "id": "75d48e30-0cdb-4d2c-8b31-09102e288d5a",
   "metadata": {},
   "source": [
    "Most of the diseases in the DBpedia dataset are associated only with one symptom."
   ]
  },
  {
   "cell_type": "code",
   "execution_count": 61,
   "id": "51023372-5bd8-41d0-b278-e3e870d00df4",
   "metadata": {},
   "outputs": [
    {
     "data": {
      "text/plain": [
       "<AxesSubplot:>"
      ]
     },
     "execution_count": 61,
     "metadata": {},
     "output_type": "execute_result"
    },
    {
     "data": {
      "image/png": "[encoded data removed]",
      "text/plain": [
       "<Figure size 432x288 with 1 Axes>"
      ]
     },
     "metadata": {
      "needs_background": "light"
     },
     "output_type": "display_data"
    }
   ],
   "source": [
    "edges_table.groupby(\"Source\").count()[\"Target\"].value_counts().plot.bar(width=0.9)"
   ]
  },
  {
   "cell_type": "markdown",
   "id": "c27afd2a-fc51-466f-a021-b47bde02fcb8",
   "metadata": {},
   "source": [
    "Saving the nodes and edges table as csv, for import to Gephi:"
   ]
  },
  {
   "cell_type": "raw",
   "id": "2c6abdbb-1e53-4afc-8215-f8056b2ffe41",
   "metadata": {},
   "source": [
    "nodes_table.to_csv(\"gephi_data/dbpedia_nodes.csv\", index=False)\n",
    "edges_table.to_csv(\"gephi_data/dbpedia_edges.csv\", index=False)"
   ]
  },
  {
   "cell_type": "markdown",
   "id": "d1fa5bdc-da2e-4019-9917-f1c1e7ffad41",
   "metadata": {},
   "source": [
    "## References:"
   ]
  },
  {
   "cell_type": "markdown",
   "id": "c5e56fe3-8f42-4f93-8ea1-a7591d1ca436",
   "metadata": {},
   "source": [
    "DBPedia dataset (https://dbpedia.org/) released under Creative Commons Attribution-ShareAlike 3.0  \n",
    "\n",
    "The gastrodon library: https://github.com/paulhoule/gastrodon   \n",
    "gastrodon documentation and examples: https://github.com/paulhoule/gastrodon/blob/master/notebooks/remote/Querying%20DBpedia.ipynb  \n",
    "\n",
    "The MeSH browser from the National Library of Medicine: https://meshb.nlm.nih.gov/search\n",
    "\n",
    "The UMLS API: https://documentation.uts.nlm.nih.gov/rest/search/#searchType  \n",
    "*This product uses publicly available data from the U.S. National Library of Medicine (NLM), National Institutes of Health, Department of Health and Human Services; NLM is not responsible for the product and does not endorse or recommend this or any other product.*"
   ]
  }
 ],
 "metadata": {
  "kernelspec": {
   "display_name": "Python 3 (ipykernel)",
   "language": "python",
   "name": "python3"
  },
  "language_info": {
   "codemirror_mode": {
    "name": "ipython",
    "version": 3
   },
   "file_extension": ".py",
   "mimetype": "text/x-python",
   "name": "python",
   "nbconvert_exporter": "python",
   "pygments_lexer": "ipython3",
   "version": "3.9.12"
  }
 },
 "nbformat": 4,
 "nbformat_minor": 5
}
