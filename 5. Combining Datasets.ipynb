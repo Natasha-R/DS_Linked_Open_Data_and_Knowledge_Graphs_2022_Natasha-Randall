{
 "cells": [
  {
   "cell_type": "code",
   "execution_count": 1,
   "id": "3cd17f84-eadd-4f9a-900f-b6ec24d5db03",
   "metadata": {},
   "outputs": [],
   "source": [
    "import pandas as pd\n",
    "import numpy as np\n",
    "import requests\n",
    "import json\n",
    "import time\n",
    "import matplotlib.pyplot as plt"
   ]
  },
  {
   "cell_type": "markdown",
   "id": "4bb03f9b-44ef-4b74-bf2c-d6805463b9ea",
   "metadata": {},
   "source": [
    "## Importing the datasets"
   ]
  },
  {
   "cell_type": "code",
   "execution_count": 2,
   "id": "d08e3d5f-023b-44e1-b356-d49a0dfed0c7",
   "metadata": {},
   "outputs": [],
   "source": [
    "pm_data = pd.read_csv(\"data/pubmed_data_final.csv\")\n",
    "db_data = pd.read_csv(\"data/dbpedia_data.csv\")[[\"disease\", \"symptom\", \"disease_umls\", \"symptom_umls\"]]\n",
    "h_data = pd.read_csv(\"data/hospital_data.csv\")"
   ]
  },
  {
   "cell_type": "markdown",
   "id": "ce5e302b-15ad-4773-9531-72037b738770",
   "metadata": {},
   "source": [
    "Standardising the column names and orders for all of the datasets."
   ]
  },
  {
   "cell_type": "code",
   "execution_count": 3,
   "id": "fb95436c-3431-4586-8ce6-a14392ce48f7",
   "metadata": {},
   "outputs": [],
   "source": [
    "# PubMed dataset\n",
    "pm_data = pm_data[[\"MeSH Disease Term\", \"MeSH Symptom Term\", \"UMLS Disease Code\", \"UMLS Symptom Code\", \"TFIDF score\"]]\n",
    "pm_data.columns=[\"disease\", \"symptom\", \"disease_umls\", \"symptom_umls\", \"weight\"]"
   ]
  },
  {
   "cell_type": "code",
   "execution_count": 4,
   "id": "3ea4c342-92f3-4061-9b60-9783f2451cbe",
   "metadata": {},
   "outputs": [],
   "source": [
    "# DBpedia dataset\n",
    "db_data = db_data[[\"disease\", \"symptom\", \"disease_umls\", \"symptom_umls\"]]\n",
    "db_data[\"weight\"] = 1"
   ]
  },
  {
   "cell_type": "code",
   "execution_count": 5,
   "id": "7e46edd7-9853-44d5-bb1a-7ff63f0b8b52",
   "metadata": {},
   "outputs": [
    {
     "data": {
      "text/html": [
       "<div>\n",
       "<style scoped>\n",
       "    .dataframe tbody tr th:only-of-type {\n",
       "        vertical-align: middle;\n",
       "    }\n",
       "\n",
       "    .dataframe tbody tr th {\n",
       "        vertical-align: top;\n",
       "    }\n",
       "\n",
       "    .dataframe thead th {\n",
       "        text-align: right;\n",
       "    }\n",
       "</style>\n",
       "<table border=\"1\" class=\"dataframe\">\n",
       "  <thead>\n",
       "    <tr style=\"text-align: right;\">\n",
       "      <th></th>\n",
       "      <th>disease</th>\n",
       "      <th>symptom</th>\n",
       "      <th>disease_umls</th>\n",
       "      <th>symptom_umls</th>\n",
       "      <th>weight</th>\n",
       "    </tr>\n",
       "  </thead>\n",
       "  <tbody>\n",
       "    <tr>\n",
       "      <th>0</th>\n",
       "      <td>Respiratory Syncytial Virus Infections</td>\n",
       "      <td>Aging, Premature</td>\n",
       "      <td>C0035235</td>\n",
       "      <td>C0231341</td>\n",
       "      <td>3.464551</td>\n",
       "    </tr>\n",
       "    <tr>\n",
       "      <th>1</th>\n",
       "      <td>Orthomyxoviridae Infections</td>\n",
       "      <td>Aging, Premature</td>\n",
       "      <td>C0276357</td>\n",
       "      <td>C0231341</td>\n",
       "      <td>3.464551</td>\n",
       "    </tr>\n",
       "    <tr>\n",
       "      <th>2</th>\n",
       "      <td>HIV Infections</td>\n",
       "      <td>Aging, Premature</td>\n",
       "      <td>C0019693</td>\n",
       "      <td>C0231341</td>\n",
       "      <td>10.393654</td>\n",
       "    </tr>\n",
       "    <tr>\n",
       "      <th>3</th>\n",
       "      <td>Acquired Immunodeficiency Syndrome</td>\n",
       "      <td>Aging, Premature</td>\n",
       "      <td>C0001175</td>\n",
       "      <td>C0231341</td>\n",
       "      <td>10.393654</td>\n",
       "    </tr>\n",
       "    <tr>\n",
       "      <th>4</th>\n",
       "      <td>Breast Neoplasms</td>\n",
       "      <td>Aging, Premature</td>\n",
       "      <td>C1257931</td>\n",
       "      <td>C0231341</td>\n",
       "      <td>3.464551</td>\n",
       "    </tr>\n",
       "  </tbody>\n",
       "</table>\n",
       "</div>"
      ],
      "text/plain": [
       "                                  disease           symptom disease_umls  \\\n",
       "0  Respiratory Syncytial Virus Infections  Aging, Premature     C0035235   \n",
       "1             Orthomyxoviridae Infections  Aging, Premature     C0276357   \n",
       "2                          HIV Infections  Aging, Premature     C0019693   \n",
       "3      Acquired Immunodeficiency Syndrome  Aging, Premature     C0001175   \n",
       "4                        Breast Neoplasms  Aging, Premature     C1257931   \n",
       "\n",
       "  symptom_umls     weight  \n",
       "0     C0231341   3.464551  \n",
       "1     C0231341   3.464551  \n",
       "2     C0231341  10.393654  \n",
       "3     C0231341  10.393654  \n",
       "4     C0231341   3.464551  "
      ]
     },
     "execution_count": 5,
     "metadata": {},
     "output_type": "execute_result"
    }
   ],
   "source": [
    "pm_data.head()"
   ]
  },
  {
   "cell_type": "code",
   "execution_count": 6,
   "id": "8d068a3f-7730-4b6f-9989-b146f3d3d90d",
   "metadata": {},
   "outputs": [
    {
     "data": {
      "text/html": [
       "<div>\n",
       "<style scoped>\n",
       "    .dataframe tbody tr th:only-of-type {\n",
       "        vertical-align: middle;\n",
       "    }\n",
       "\n",
       "    .dataframe tbody tr th {\n",
       "        vertical-align: top;\n",
       "    }\n",
       "\n",
       "    .dataframe thead th {\n",
       "        text-align: right;\n",
       "    }\n",
       "</style>\n",
       "<table border=\"1\" class=\"dataframe\">\n",
       "  <thead>\n",
       "    <tr style=\"text-align: right;\">\n",
       "      <th></th>\n",
       "      <th>disease</th>\n",
       "      <th>symptom</th>\n",
       "      <th>disease_umls</th>\n",
       "      <th>symptom_umls</th>\n",
       "      <th>weight</th>\n",
       "    </tr>\n",
       "  </thead>\n",
       "  <tbody>\n",
       "    <tr>\n",
       "      <th>0</th>\n",
       "      <td>Abscess</td>\n",
       "      <td>Erythema</td>\n",
       "      <td>C0000833</td>\n",
       "      <td>C0041834</td>\n",
       "      <td>1</td>\n",
       "    </tr>\n",
       "    <tr>\n",
       "      <th>1</th>\n",
       "      <td>Achondroplasia</td>\n",
       "      <td>Macrocephaly</td>\n",
       "      <td>C0001080</td>\n",
       "      <td>C0221355</td>\n",
       "      <td>1</td>\n",
       "    </tr>\n",
       "    <tr>\n",
       "      <th>2</th>\n",
       "      <td>Acne</td>\n",
       "      <td>Scar</td>\n",
       "      <td>C0001144</td>\n",
       "      <td>C2004491</td>\n",
       "      <td>1</td>\n",
       "    </tr>\n",
       "    <tr>\n",
       "      <th>3</th>\n",
       "      <td>Acrocallosal syndrome</td>\n",
       "      <td>Psychomotor retardation</td>\n",
       "      <td>C0796147</td>\n",
       "      <td>C5441816</td>\n",
       "      <td>1</td>\n",
       "    </tr>\n",
       "    <tr>\n",
       "      <th>4</th>\n",
       "      <td>Acrocallosal syndrome</td>\n",
       "      <td>Polydactyly</td>\n",
       "      <td>C0796147</td>\n",
       "      <td>C0152427</td>\n",
       "      <td>1</td>\n",
       "    </tr>\n",
       "  </tbody>\n",
       "</table>\n",
       "</div>"
      ],
      "text/plain": [
       "                 disease                  symptom disease_umls symptom_umls  \\\n",
       "0                Abscess                 Erythema     C0000833     C0041834   \n",
       "1         Achondroplasia             Macrocephaly     C0001080     C0221355   \n",
       "2                   Acne                     Scar     C0001144     C2004491   \n",
       "3  Acrocallosal syndrome  Psychomotor retardation     C0796147     C5441816   \n",
       "4  Acrocallosal syndrome              Polydactyly     C0796147     C0152427   \n",
       "\n",
       "   weight  \n",
       "0       1  \n",
       "1       1  \n",
       "2       1  \n",
       "3       1  \n",
       "4       1  "
      ]
     },
     "execution_count": 6,
     "metadata": {},
     "output_type": "execute_result"
    }
   ],
   "source": [
    "db_data.head()"
   ]
  },
  {
   "cell_type": "code",
   "execution_count": 7,
   "id": "aac05c7f-c284-412a-a072-d83748ec62cf",
   "metadata": {},
   "outputs": [
    {
     "data": {
      "text/html": [
       "<div>\n",
       "<style scoped>\n",
       "    .dataframe tbody tr th:only-of-type {\n",
       "        vertical-align: middle;\n",
       "    }\n",
       "\n",
       "    .dataframe tbody tr th {\n",
       "        vertical-align: top;\n",
       "    }\n",
       "\n",
       "    .dataframe thead th {\n",
       "        text-align: right;\n",
       "    }\n",
       "</style>\n",
       "<table border=\"1\" class=\"dataframe\">\n",
       "  <thead>\n",
       "    <tr style=\"text-align: right;\">\n",
       "      <th></th>\n",
       "      <th>disease</th>\n",
       "      <th>symptom</th>\n",
       "      <th>disease_umls</th>\n",
       "      <th>symptom_umls</th>\n",
       "    </tr>\n",
       "  </thead>\n",
       "  <tbody>\n",
       "    <tr>\n",
       "      <th>0</th>\n",
       "      <td>hypertensive disease</td>\n",
       "      <td>pain chest</td>\n",
       "      <td>C0020538</td>\n",
       "      <td>C0008031</td>\n",
       "    </tr>\n",
       "    <tr>\n",
       "      <th>1</th>\n",
       "      <td>hypertensive disease</td>\n",
       "      <td>shortness of breath</td>\n",
       "      <td>C0020538</td>\n",
       "      <td>C0392680</td>\n",
       "    </tr>\n",
       "    <tr>\n",
       "      <th>2</th>\n",
       "      <td>hypertensive disease</td>\n",
       "      <td>dizziness</td>\n",
       "      <td>C0020538</td>\n",
       "      <td>C0012833</td>\n",
       "    </tr>\n",
       "    <tr>\n",
       "      <th>3</th>\n",
       "      <td>hypertensive disease</td>\n",
       "      <td>asthenia</td>\n",
       "      <td>C0020538</td>\n",
       "      <td>C0004093</td>\n",
       "    </tr>\n",
       "    <tr>\n",
       "      <th>4</th>\n",
       "      <td>hypertensive disease</td>\n",
       "      <td>fall</td>\n",
       "      <td>C0020538</td>\n",
       "      <td>C0085639</td>\n",
       "    </tr>\n",
       "  </tbody>\n",
       "</table>\n",
       "</div>"
      ],
      "text/plain": [
       "                disease              symptom disease_umls symptom_umls\n",
       "0  hypertensive disease           pain chest     C0020538     C0008031\n",
       "1  hypertensive disease  shortness of breath     C0020538     C0392680\n",
       "2  hypertensive disease            dizziness     C0020538     C0012833\n",
       "3  hypertensive disease             asthenia     C0020538     C0004093\n",
       "4  hypertensive disease                 fall     C0020538     C0085639"
      ]
     },
     "execution_count": 7,
     "metadata": {},
     "output_type": "execute_result"
    }
   ],
   "source": [
    "h_data.head()"
   ]
  },
  {
   "cell_type": "markdown",
   "id": "a81a8b50-d337-4f27-829c-7eb650f5c038",
   "metadata": {},
   "source": [
    "## Exploring the datasets"
   ]
  },
  {
   "cell_type": "markdown",
   "id": "91781c86-67ff-44b4-931d-18cc7526c073",
   "metadata": {},
   "source": [
    "The DBPedia and PubMed datasets have 600 conditions in common."
   ]
  },
  {
   "cell_type": "code",
   "execution_count": 8,
   "id": "34233c5d-ff59-4800-82ea-787dec001fe6",
   "metadata": {},
   "outputs": [
    {
     "data": {
      "text/plain": [
       "600"
      ]
     },
     "execution_count": 8,
     "metadata": {},
     "output_type": "execute_result"
    }
   ],
   "source": [
    "shared_conditions = set(pd.concat([db_data[\"disease_umls\"], db_data[\"symptom_umls\"]])).intersection(set(pd.concat([pm_data[\"disease_umls\"], pm_data[\"symptom_umls\"]])))\n",
    "len(shared_conditions)"
   ]
  },
  {
   "cell_type": "markdown",
   "id": "c1604b46-18f2-43c4-a41f-ef22fd34e8ec",
   "metadata": {},
   "source": [
    "The PubMed and hospital datasets have 160 conditions in common."
   ]
  },
  {
   "cell_type": "code",
   "execution_count": 9,
   "id": "df3da263-b87b-4bca-984a-c0c1b7a9c3d8",
   "metadata": {},
   "outputs": [
    {
     "data": {
      "text/plain": [
       "160"
      ]
     },
     "execution_count": 9,
     "metadata": {},
     "output_type": "execute_result"
    }
   ],
   "source": [
    "shared_conditions = set(pd.concat([h_data[\"disease_umls\"], h_data[\"symptom_umls\"]])).intersection(set(pd.concat([pm_data[\"disease_umls\"], pm_data[\"symptom_umls\"]])))\n",
    "len(shared_conditions)"
   ]
  },
  {
   "cell_type": "markdown",
   "id": "af767575-d972-4415-b930-6b0cb7dac82e",
   "metadata": {},
   "source": [
    "All 3 datasets have 92 conditions in common. This indicates that the kind of conditions seen in literature (Wikipedia and articles) may be different to those found frequently in reality (in a hospital)."
   ]
  },
  {
   "cell_type": "code",
   "execution_count": 10,
   "id": "3cd9c6ba-3040-4165-a3ff-6a82d41571e6",
   "metadata": {},
   "outputs": [
    {
     "data": {
      "text/plain": [
       "92"
      ]
     },
     "execution_count": 10,
     "metadata": {},
     "output_type": "execute_result"
    }
   ],
   "source": [
    "shared_conditions_3 = set(pd.concat([db_data[\"disease_umls\"], db_data[\"symptom_umls\"]]))\\\n",
    "                    .intersection(set(pd.concat([pm_data[\"disease_umls\"], pm_data[\"symptom_umls\"]])))\\\n",
    "                    .intersection(set(pd.concat([h_data[\"disease_umls\"], h_data[\"symptom_umls\"]])))\n",
    "len(shared_conditions_3)"
   ]
  },
  {
   "cell_type": "markdown",
   "id": "18a53ed4-efef-4bd0-8a76-b0929e525c73",
   "metadata": {},
   "source": [
    "The DBPedia and PubMed datasets have 659 edges (associations between diseases and symptoms) in common."
   ]
  },
  {
   "cell_type": "code",
   "execution_count": 11,
   "id": "dd0812ef-3e9f-4802-8b0d-faebab637273",
   "metadata": {
    "tags": []
   },
   "outputs": [
    {
     "data": {
      "text/plain": [
       "659"
      ]
     },
     "execution_count": 11,
     "metadata": {},
     "output_type": "execute_result"
    }
   ],
   "source": [
    "shared_edges = set(pm_data[\"disease_umls\"].astype(\"string\") + \"_\" + pm_data[\"symptom_umls\"].astype(\"string\")).intersection(set(db_data[\"disease_umls\"].astype(\"string\") + \"_\" + db_data[\"symptom_umls\"].astype(\"string\")))\n",
    "len(shared_edges)"
   ]
  },
  {
   "cell_type": "markdown",
   "id": "6dd35408-adcd-4cfb-85f6-2f85019e0e82",
   "metadata": {},
   "source": [
    "All 3 datasets have only 36 edges in common. Therefore the information contained within each of these datasets is very different to each other, suggesting that combining them may be useful."
   ]
  },
  {
   "cell_type": "code",
   "execution_count": 12,
   "id": "f4b953e3-96b4-4d0c-8c32-a6653f1ccd92",
   "metadata": {},
   "outputs": [
    {
     "data": {
      "text/plain": [
       "36"
      ]
     },
     "execution_count": 12,
     "metadata": {},
     "output_type": "execute_result"
    }
   ],
   "source": [
    "shared_edges_3 = set(pm_data[\"disease_umls\"].astype(\"string\") + \"_\" + pm_data[\"symptom_umls\"].astype(\"string\"))\\\n",
    "               .intersection(set(db_data[\"disease_umls\"].astype(\"string\") + \"_\" + db_data[\"symptom_umls\"].astype(\"string\")))\\\n",
    "               .intersection(set(h_data[\"disease_umls\"].astype(\"string\") + \"_\" + h_data[\"symptom_umls\"].astype(\"string\")))\n",
    "len(shared_edges_3)"
   ]
  },
  {
   "cell_type": "markdown",
   "id": "7cddc6cd-d8c4-4b49-8105-04d30fc8e4d5",
   "metadata": {},
   "source": [
    "Looking at a particular example: both the PubMed and DBpedia have an edge between \"Measles\" and \"Fever\"."
   ]
  },
  {
   "cell_type": "code",
   "execution_count": 13,
   "id": "89959de6-fcb1-4db1-a1f2-3f2fc7a30c50",
   "metadata": {},
   "outputs": [
    {
     "data": {
      "text/html": [
       "<div>\n",
       "<style scoped>\n",
       "    .dataframe tbody tr th:only-of-type {\n",
       "        vertical-align: middle;\n",
       "    }\n",
       "\n",
       "    .dataframe tbody tr th {\n",
       "        vertical-align: top;\n",
       "    }\n",
       "\n",
       "    .dataframe thead th {\n",
       "        text-align: right;\n",
       "    }\n",
       "</style>\n",
       "<table border=\"1\" class=\"dataframe\">\n",
       "  <thead>\n",
       "    <tr style=\"text-align: right;\">\n",
       "      <th></th>\n",
       "      <th>disease</th>\n",
       "      <th>symptom</th>\n",
       "      <th>disease_umls</th>\n",
       "      <th>symptom_umls</th>\n",
       "      <th>weight</th>\n",
       "    </tr>\n",
       "    <tr>\n",
       "      <th>edge</th>\n",
       "      <th></th>\n",
       "      <th></th>\n",
       "      <th></th>\n",
       "      <th></th>\n",
       "      <th></th>\n",
       "    </tr>\n",
       "  </thead>\n",
       "  <tbody>\n",
       "    <tr>\n",
       "      <th>C0023176_C0392699</th>\n",
       "      <td>Lead Poisoning</td>\n",
       "      <td>Paresthesia</td>\n",
       "      <td>C0023176</td>\n",
       "      <td>C0392699</td>\n",
       "      <td>2.716036</td>\n",
       "    </tr>\n",
       "    <tr>\n",
       "      <th>C1449563_C0008031</th>\n",
       "      <td>Cardiomyopathy, Dilated</td>\n",
       "      <td>Chest Pain</td>\n",
       "      <td>C1449563</td>\n",
       "      <td>C0008031</td>\n",
       "      <td>15.393852</td>\n",
       "    </tr>\n",
       "    <tr>\n",
       "      <th>C0017152_C0003123</th>\n",
       "      <td>Gastritis</td>\n",
       "      <td>Anorexia</td>\n",
       "      <td>C0017152</td>\n",
       "      <td>C0003123</td>\n",
       "      <td>7.301042</td>\n",
       "    </tr>\n",
       "  </tbody>\n",
       "</table>\n",
       "</div>"
      ],
      "text/plain": [
       "                                   disease      symptom disease_umls  \\\n",
       "edge                                                                   \n",
       "C0023176_C0392699           Lead Poisoning  Paresthesia     C0023176   \n",
       "C1449563_C0008031  Cardiomyopathy, Dilated   Chest Pain     C1449563   \n",
       "C0017152_C0003123                Gastritis     Anorexia     C0017152   \n",
       "\n",
       "                  symptom_umls     weight  \n",
       "edge                                       \n",
       "C0023176_C0392699     C0392699   2.716036  \n",
       "C1449563_C0008031     C0008031  15.393852  \n",
       "C0017152_C0003123     C0003123   7.301042  "
      ]
     },
     "execution_count": 13,
     "metadata": {},
     "output_type": "execute_result"
    }
   ],
   "source": [
    "pm_data_edges = pd.concat([pm_data, pd.DataFrame(pm_data[\"disease_umls\"].astype(\"string\") + \"_\" + pm_data[\"symptom_umls\"].astype(\"string\"), columns=[\"edge\"])], axis=1).set_index(\"edge\")\n",
    "pm_data_edges.loc[list(shared_edges)[0:3], :]"
   ]
  },
  {
   "cell_type": "markdown",
   "id": "0b5f6b23-b2c4-4eaf-aaff-84b50a1a14d0",
   "metadata": {},
   "source": [
    "The median tfidf weight in the PubMed dataset for associations also shared by the DBpedia dataset is 17, suggesting that their shared associations are ones with a stronger co-occurence score."
   ]
  },
  {
   "cell_type": "code",
   "execution_count": 14,
   "id": "41a9c8b1-d9ef-4c6e-ae85-13c91af42701",
   "metadata": {},
   "outputs": [
    {
     "data": {
      "text/plain": [
       "17.247568060867135"
      ]
     },
     "execution_count": 14,
     "metadata": {},
     "output_type": "execute_result"
    }
   ],
   "source": [
    "pm_data_edges.loc[list(shared_edges), :][\"weight\"].median()"
   ]
  },
  {
   "cell_type": "markdown",
   "id": "8f29a287-49ca-4f61-aafa-ca8d4666dc1c",
   "metadata": {},
   "source": [
    "On average, the mean tfidf weight in the PubMed dataset for associations also shared by the DBpedia dataset is 91, which is relatively high. "
   ]
  },
  {
   "cell_type": "code",
   "execution_count": 15,
   "id": "d72827bc-76db-43a8-ae98-528a35c9225a",
   "metadata": {},
   "outputs": [
    {
     "data": {
      "text/plain": [
       "count     659.000000\n",
       "mean       81.112748\n",
       "std       314.644031\n",
       "min         0.329387\n",
       "25%         5.268807\n",
       "50%        17.247568\n",
       "75%        50.133948\n",
       "max      5681.060666\n",
       "Name: weight, dtype: float64"
      ]
     },
     "execution_count": 15,
     "metadata": {},
     "output_type": "execute_result"
    }
   ],
   "source": [
    "pm_data_edges.loc[list(shared_edges), :][\"weight\"].describe()"
   ]
  },
  {
   "cell_type": "markdown",
   "id": "9df8bada-39c2-402f-a09f-3c9738e9a47a",
   "metadata": {},
   "source": [
    "This value has been increased by a few outliers, such as the association between Dizziness and Vertigo, which could arguably be described as the same concept."
   ]
  },
  {
   "cell_type": "code",
   "execution_count": 16,
   "id": "854e1771-aa25-4e72-9eb2-60c92e30476c",
   "metadata": {},
   "outputs": [
    {
     "data": {
      "text/html": [
       "<div>\n",
       "<style scoped>\n",
       "    .dataframe tbody tr th:only-of-type {\n",
       "        vertical-align: middle;\n",
       "    }\n",
       "\n",
       "    .dataframe tbody tr th {\n",
       "        vertical-align: top;\n",
       "    }\n",
       "\n",
       "    .dataframe thead th {\n",
       "        text-align: right;\n",
       "    }\n",
       "</style>\n",
       "<table border=\"1\" class=\"dataframe\">\n",
       "  <thead>\n",
       "    <tr style=\"text-align: right;\">\n",
       "      <th></th>\n",
       "      <th>disease</th>\n",
       "      <th>symptom</th>\n",
       "      <th>disease_umls</th>\n",
       "      <th>symptom_umls</th>\n",
       "      <th>weight</th>\n",
       "    </tr>\n",
       "    <tr>\n",
       "      <th>edge</th>\n",
       "      <th></th>\n",
       "      <th></th>\n",
       "      <th></th>\n",
       "      <th></th>\n",
       "      <th></th>\n",
       "    </tr>\n",
       "  </thead>\n",
       "  <tbody>\n",
       "    <tr>\n",
       "      <th>C0220870_C0155503</th>\n",
       "      <td>Dizziness</td>\n",
       "      <td>Vertigo</td>\n",
       "      <td>C0220870</td>\n",
       "      <td>C0155503</td>\n",
       "      <td>5681.060666</td>\n",
       "    </tr>\n",
       "  </tbody>\n",
       "</table>\n",
       "</div>"
      ],
      "text/plain": [
       "                     disease  symptom disease_umls symptom_umls       weight\n",
       "edge                                                                        \n",
       "C0220870_C0155503  Dizziness  Vertigo     C0220870     C0155503  5681.060666"
      ]
     },
     "execution_count": 16,
     "metadata": {},
     "output_type": "execute_result"
    }
   ],
   "source": [
    "pm_data_edges.loc[list(shared_edges), :][pm_data_edges.loc[list(shared_edges), :][\"weight\"] > 5681]"
   ]
  },
  {
   "cell_type": "markdown",
   "id": "945f203c-6991-44d4-ac2c-d5d606066438",
   "metadata": {},
   "source": [
    "## Reducing the number of symptoms associated with diseases"
   ]
  },
  {
   "cell_type": "markdown",
   "id": "61669639-a624-4a41-b67e-94485c3343ee",
   "metadata": {},
   "source": [
    "For the 3 datasets to be successfully combined into health knowledge graph, without one source dataset massively dominating the others, they should have roughly comparable numbers of symptoms associated with each disease as well as comparable edge weights between symptoms to diseases."
   ]
  },
  {
   "cell_type": "markdown",
   "id": "09c0deba-f238-476f-9006-7b0303d06e49",
   "metadata": {},
   "source": [
    "The PubMed data has a very high number of symptoms associated with many diseases, whereas the DBPedia dataset is on the other end of the scale, with less than 10 symptoms associated with a disease in almost all cases. The Hospital dataset sits in between them."
   ]
  },
  {
   "cell_type": "code",
   "execution_count": 17,
   "id": "c8a50183-5d21-44e4-a0dd-268864865b9b",
   "metadata": {},
   "outputs": [
    {
     "data": {
      "image/png": "[encoded data removed]",
      "text/plain": [
       "<Figure size 1440x288 with 3 Axes>"
      ]
     },
     "metadata": {
      "needs_background": "light"
     },
     "output_type": "display_data"
    }
   ],
   "source": [
    "fig, (ax1, ax2, ax3) = plt.subplots(nrows=1, ncols=3, figsize=(20,4))\n",
    "fig.subplots_adjust(wspace=0.02)\n",
    "pm_data.groupby(\"disease\").count()[\"symptom\"].plot.hist(edgecolor=\"white\", bins=25, ax=ax1)\n",
    "db_data.groupby(\"disease\").count()[\"symptom\"].plot.hist(edgecolor=\"white\", bins=25, color=\"purple\", ax=ax2)\n",
    "h_data.groupby(\"disease\").count()[\"symptom\"].plot.hist(edgecolor=\"white\", bins=25, color=\"black\", ax=ax3)\n",
    "ax1.set_yticks(()), ax2.set_yticks(()), ax3.set_yticks(());\n",
    "ax2.set_ylabel(\"\"), ax3.set_ylabel(\"\"), ax2.set_xlabel(\"Number of symptoms associated with a disease\", fontsize=12);\n",
    "ax1.set_title(\"PubMed Dataset\"), ax2.set_title(\"DBPedia Dataset\"), ax3.set_title(\"Hospital Dataset\");"
   ]
  },
  {
   "cell_type": "markdown",
   "id": "16f13f26-9e32-4bf5-8340-b8dfba46ab4a",
   "metadata": {},
   "source": [
    "The PubMed dataset has by far the largest amount of symptoms associated with some diseases, and many of these are very small associations by weight. "
   ]
  },
  {
   "cell_type": "markdown",
   "id": "a0843596-1b6f-4152-9315-0beb5e5f556e",
   "metadata": {},
   "source": [
    "Finding the average tfidf score for the nth most associated symptom to each disease, in the PubMed data."
   ]
  },
  {
   "cell_type": "code",
   "execution_count": 18,
   "id": "d4c58f11-16fa-47cc-871d-2b993d493c47",
   "metadata": {},
   "outputs": [],
   "source": [
    "avg_tfidf = pd.DataFrame([pm_data.sort_values(\"weight\", ascending=False).groupby(\"disease\").nth(i)[\"weight\"].mean() for i in range(0, 20)], columns=[\"average weight\"])\n",
    "avg_tfidf = avg_tfidf.reset_index()\n",
    "avg_tfidf[\"index\"] += 1"
   ]
  },
  {
   "cell_type": "code",
   "execution_count": 19,
   "id": "999e517b-2f6c-4cd1-88aa-35420fe47e7f",
   "metadata": {},
   "outputs": [
    {
     "data": {
      "image/png": "[encoded data removed]",
      "text/plain": [
       "<Figure size 432x288 with 1 Axes>"
      ]
     },
     "metadata": {
      "needs_background": "light"
     },
     "output_type": "display_data"
    }
   ],
   "source": [
    "ax = avg_tfidf.plot(x=\"index\", y=\"average weight\", marker='o', legend=False)\n",
    "plt.xticks(list(range(1, 21)));\n",
    "ax.set_ylabel(\"Mean association between\\nsymptom and disease (tfidf score)\")\n",
    "ax.set_xlabel(\"nth most associated symptom to disease\");"
   ]
  },
  {
   "cell_type": "markdown",
   "id": "344d3524-2183-4d96-ba50-c5b63eb2cc00",
   "metadata": {},
   "source": [
    "Looking for possible \"elbows\" in the plot, symptoms beyond the 10th most associated symptom certainly can likely be dropped, as they have a very low weighted association to their respective disease."
   ]
  },
  {
   "cell_type": "markdown",
   "id": "008351dd-85ca-460e-b56c-4e5d158f322c",
   "metadata": {},
   "source": [
    "In the hospital data, the symptoms are simply said to be \"ranked\" by strength of association, however no quantifiable rank is provided. In order to make the dataset comparable to the other two, only the 10th most associated symptoms will also be selected for this dataset."
   ]
  },
  {
   "cell_type": "code",
   "execution_count": 20,
   "id": "f6b55277-bb25-49fb-b4cc-3dbc752dff1c",
   "metadata": {},
   "outputs": [],
   "source": [
    "pm_data_reduced = pm_data.sort_values(\"weight\", ascending=False).groupby(\"disease\").nth[:10]\n",
    "pm_data_reduced = pm_data_reduced.reset_index()"
   ]
  },
  {
   "cell_type": "code",
   "execution_count": 21,
   "id": "fb6a8e7e-56d4-4a77-82f1-5f45003edc1f",
   "metadata": {},
   "outputs": [],
   "source": [
    "h_data_reduced = h_data.groupby(\"disease\").nth[:10]\n",
    "h_data_reduced = h_data_reduced.reset_index()"
   ]
  },
  {
   "cell_type": "code",
   "execution_count": 22,
   "id": "47fdcf70-0da5-4a1a-8e28-38b62995b30e",
   "metadata": {},
   "outputs": [
    {
     "data": {
      "text/plain": [
       "(35669, 5)"
      ]
     },
     "execution_count": 22,
     "metadata": {},
     "output_type": "execute_result"
    }
   ],
   "source": [
    "pm_data_reduced.shape"
   ]
  },
  {
   "cell_type": "code",
   "execution_count": 23,
   "id": "57b46f5d-076d-4d98-85e6-fa3fa59e0968",
   "metadata": {},
   "outputs": [
    {
     "data": {
      "text/plain": [
       "(1292, 4)"
      ]
     },
     "execution_count": 23,
     "metadata": {},
     "output_type": "execute_result"
    }
   ],
   "source": [
    "h_data_reduced.shape"
   ]
  },
  {
   "cell_type": "markdown",
   "id": "bb478215-dc46-43e2-a7e5-4c173a40b5b0",
   "metadata": {},
   "source": [
    "## Standardising the edge weights"
   ]
  },
  {
   "cell_type": "markdown",
   "id": "5fc5f701-548c-4549-b919-c842a0a66b8c",
   "metadata": {},
   "source": [
    "If only the 10th most associated symptoms to each disease are selected from the datasets (or fewer, with regard to the DBpedia data), then it is feasible for every edge to have a weight of \"1\". \n",
    "\n",
    "This will ensure that all of the datasets are comparable, and none dominates the other in the final dataset."
   ]
  },
  {
   "cell_type": "code",
   "execution_count": 24,
   "id": "b1b56279-00c8-461c-a873-82aa3eecaa1e",
   "metadata": {},
   "outputs": [],
   "source": [
    "pm_data_reduced[\"weight\"] = 1"
   ]
  },
  {
   "cell_type": "code",
   "execution_count": 25,
   "id": "8105b837-a239-40c6-88f1-5c5903d31a89",
   "metadata": {},
   "outputs": [],
   "source": [
    "h_data_reduced[\"weight\"] = 1"
   ]
  },
  {
   "cell_type": "code",
   "execution_count": 26,
   "id": "4aeee4a4-15e5-440f-a88c-50c933ddd46a",
   "metadata": {},
   "outputs": [
    {
     "data": {
      "text/html": [
       "<div>\n",
       "<style scoped>\n",
       "    .dataframe tbody tr th:only-of-type {\n",
       "        vertical-align: middle;\n",
       "    }\n",
       "\n",
       "    .dataframe tbody tr th {\n",
       "        vertical-align: top;\n",
       "    }\n",
       "\n",
       "    .dataframe thead th {\n",
       "        text-align: right;\n",
       "    }\n",
       "</style>\n",
       "<table border=\"1\" class=\"dataframe\">\n",
       "  <thead>\n",
       "    <tr style=\"text-align: right;\">\n",
       "      <th></th>\n",
       "      <th>disease</th>\n",
       "      <th>symptom</th>\n",
       "      <th>disease_umls</th>\n",
       "      <th>symptom_umls</th>\n",
       "      <th>weight</th>\n",
       "    </tr>\n",
       "  </thead>\n",
       "  <tbody>\n",
       "    <tr>\n",
       "      <th>0</th>\n",
       "      <td>22q11 Deletion Syndrome</td>\n",
       "      <td>Respiratory Sounds</td>\n",
       "      <td>C2936346</td>\n",
       "      <td>C0032230</td>\n",
       "      <td>1</td>\n",
       "    </tr>\n",
       "    <tr>\n",
       "      <th>1</th>\n",
       "      <td>22q11 Deletion Syndrome</td>\n",
       "      <td>Language Development Disorders</td>\n",
       "      <td>C2936346</td>\n",
       "      <td>C0751257</td>\n",
       "      <td>1</td>\n",
       "    </tr>\n",
       "    <tr>\n",
       "      <th>2</th>\n",
       "      <td>22q11 Deletion Syndrome</td>\n",
       "      <td>Olfaction Disorders</td>\n",
       "      <td>C2936346</td>\n",
       "      <td>C0553757</td>\n",
       "      <td>1</td>\n",
       "    </tr>\n",
       "    <tr>\n",
       "      <th>3</th>\n",
       "      <td>46, XX Disorders of Sex Development</td>\n",
       "      <td>Virilism</td>\n",
       "      <td>C0238394</td>\n",
       "      <td>C1452968</td>\n",
       "      <td>1</td>\n",
       "    </tr>\n",
       "    <tr>\n",
       "      <th>4</th>\n",
       "      <td>ACTH Syndrome, Ectopic</td>\n",
       "      <td>Hirsutism</td>\n",
       "      <td>C0001231</td>\n",
       "      <td>C0019572</td>\n",
       "      <td>1</td>\n",
       "    </tr>\n",
       "  </tbody>\n",
       "</table>\n",
       "</div>"
      ],
      "text/plain": [
       "                               disease                         symptom  \\\n",
       "0              22q11 Deletion Syndrome              Respiratory Sounds   \n",
       "1              22q11 Deletion Syndrome  Language Development Disorders   \n",
       "2              22q11 Deletion Syndrome             Olfaction Disorders   \n",
       "3  46, XX Disorders of Sex Development                        Virilism   \n",
       "4               ACTH Syndrome, Ectopic                       Hirsutism   \n",
       "\n",
       "  disease_umls symptom_umls  weight  \n",
       "0     C2936346     C0032230       1  \n",
       "1     C2936346     C0751257       1  \n",
       "2     C2936346     C0553757       1  \n",
       "3     C0238394     C1452968       1  \n",
       "4     C0001231     C0019572       1  "
      ]
     },
     "execution_count": 26,
     "metadata": {},
     "output_type": "execute_result"
    }
   ],
   "source": [
    "pm_data_reduced.head()"
   ]
  },
  {
   "cell_type": "code",
   "execution_count": 27,
   "id": "f98a3de3-4b4f-4f14-9488-38517cd6a8f5",
   "metadata": {},
   "outputs": [
    {
     "data": {
      "text/html": [
       "<div>\n",
       "<style scoped>\n",
       "    .dataframe tbody tr th:only-of-type {\n",
       "        vertical-align: middle;\n",
       "    }\n",
       "\n",
       "    .dataframe tbody tr th {\n",
       "        vertical-align: top;\n",
       "    }\n",
       "\n",
       "    .dataframe thead th {\n",
       "        text-align: right;\n",
       "    }\n",
       "</style>\n",
       "<table border=\"1\" class=\"dataframe\">\n",
       "  <thead>\n",
       "    <tr style=\"text-align: right;\">\n",
       "      <th></th>\n",
       "      <th>disease</th>\n",
       "      <th>symptom</th>\n",
       "      <th>disease_umls</th>\n",
       "      <th>symptom_umls</th>\n",
       "      <th>weight</th>\n",
       "    </tr>\n",
       "  </thead>\n",
       "  <tbody>\n",
       "    <tr>\n",
       "      <th>0</th>\n",
       "      <td>Alzheimer's disease</td>\n",
       "      <td>agitation</td>\n",
       "      <td>C0002395</td>\n",
       "      <td>C0085631</td>\n",
       "      <td>1</td>\n",
       "    </tr>\n",
       "    <tr>\n",
       "      <th>1</th>\n",
       "      <td>Alzheimer's disease</td>\n",
       "      <td>drool</td>\n",
       "      <td>C0002395</td>\n",
       "      <td>C0013132</td>\n",
       "      <td>1</td>\n",
       "    </tr>\n",
       "    <tr>\n",
       "      <th>2</th>\n",
       "      <td>Alzheimer's disease</td>\n",
       "      <td>nightmare</td>\n",
       "      <td>C0002395</td>\n",
       "      <td>C0028084</td>\n",
       "      <td>1</td>\n",
       "    </tr>\n",
       "    <tr>\n",
       "      <th>3</th>\n",
       "      <td>Alzheimer's disease</td>\n",
       "      <td>rhonchus</td>\n",
       "      <td>C0002395</td>\n",
       "      <td>C0035508</td>\n",
       "      <td>1</td>\n",
       "    </tr>\n",
       "    <tr>\n",
       "      <th>4</th>\n",
       "      <td>Alzheimer's disease</td>\n",
       "      <td>hyperkalemia</td>\n",
       "      <td>C0002395</td>\n",
       "      <td>C0020461</td>\n",
       "      <td>1</td>\n",
       "    </tr>\n",
       "  </tbody>\n",
       "</table>\n",
       "</div>"
      ],
      "text/plain": [
       "               disease       symptom disease_umls symptom_umls  weight\n",
       "0  Alzheimer's disease     agitation     C0002395     C0085631       1\n",
       "1  Alzheimer's disease         drool     C0002395     C0013132       1\n",
       "2  Alzheimer's disease     nightmare     C0002395     C0028084       1\n",
       "3  Alzheimer's disease      rhonchus     C0002395     C0035508       1\n",
       "4  Alzheimer's disease  hyperkalemia     C0002395     C0020461       1"
      ]
     },
     "execution_count": 27,
     "metadata": {},
     "output_type": "execute_result"
    }
   ],
   "source": [
    "h_data_reduced.head()"
   ]
  },
  {
   "cell_type": "code",
   "execution_count": 28,
   "id": "63700067-2370-4550-87d5-a4e264b0dcbc",
   "metadata": {},
   "outputs": [
    {
     "data": {
      "text/html": [
       "<div>\n",
       "<style scoped>\n",
       "    .dataframe tbody tr th:only-of-type {\n",
       "        vertical-align: middle;\n",
       "    }\n",
       "\n",
       "    .dataframe tbody tr th {\n",
       "        vertical-align: top;\n",
       "    }\n",
       "\n",
       "    .dataframe thead th {\n",
       "        text-align: right;\n",
       "    }\n",
       "</style>\n",
       "<table border=\"1\" class=\"dataframe\">\n",
       "  <thead>\n",
       "    <tr style=\"text-align: right;\">\n",
       "      <th></th>\n",
       "      <th>disease</th>\n",
       "      <th>symptom</th>\n",
       "      <th>disease_umls</th>\n",
       "      <th>symptom_umls</th>\n",
       "      <th>weight</th>\n",
       "    </tr>\n",
       "  </thead>\n",
       "  <tbody>\n",
       "    <tr>\n",
       "      <th>0</th>\n",
       "      <td>Abscess</td>\n",
       "      <td>Erythema</td>\n",
       "      <td>C0000833</td>\n",
       "      <td>C0041834</td>\n",
       "      <td>1</td>\n",
       "    </tr>\n",
       "    <tr>\n",
       "      <th>1</th>\n",
       "      <td>Achondroplasia</td>\n",
       "      <td>Macrocephaly</td>\n",
       "      <td>C0001080</td>\n",
       "      <td>C0221355</td>\n",
       "      <td>1</td>\n",
       "    </tr>\n",
       "    <tr>\n",
       "      <th>2</th>\n",
       "      <td>Acne</td>\n",
       "      <td>Scar</td>\n",
       "      <td>C0001144</td>\n",
       "      <td>C2004491</td>\n",
       "      <td>1</td>\n",
       "    </tr>\n",
       "    <tr>\n",
       "      <th>3</th>\n",
       "      <td>Acrocallosal syndrome</td>\n",
       "      <td>Psychomotor retardation</td>\n",
       "      <td>C0796147</td>\n",
       "      <td>C5441816</td>\n",
       "      <td>1</td>\n",
       "    </tr>\n",
       "    <tr>\n",
       "      <th>4</th>\n",
       "      <td>Acrocallosal syndrome</td>\n",
       "      <td>Polydactyly</td>\n",
       "      <td>C0796147</td>\n",
       "      <td>C0152427</td>\n",
       "      <td>1</td>\n",
       "    </tr>\n",
       "  </tbody>\n",
       "</table>\n",
       "</div>"
      ],
      "text/plain": [
       "                 disease                  symptom disease_umls symptom_umls  \\\n",
       "0                Abscess                 Erythema     C0000833     C0041834   \n",
       "1         Achondroplasia             Macrocephaly     C0001080     C0221355   \n",
       "2                   Acne                     Scar     C0001144     C2004491   \n",
       "3  Acrocallosal syndrome  Psychomotor retardation     C0796147     C5441816   \n",
       "4  Acrocallosal syndrome              Polydactyly     C0796147     C0152427   \n",
       "\n",
       "   weight  \n",
       "0       1  \n",
       "1       1  \n",
       "2       1  \n",
       "3       1  \n",
       "4       1  "
      ]
     },
     "execution_count": 28,
     "metadata": {},
     "output_type": "execute_result"
    }
   ],
   "source": [
    "db_data.head()"
   ]
  },
  {
   "cell_type": "markdown",
   "id": "a4e2600d-105c-4779-9e72-fe547e8fd86d",
   "metadata": {},
   "source": [
    "## Combining the datasets"
   ]
  },
  {
   "cell_type": "markdown",
   "id": "1860102a-f99e-4e7f-a267-bea3ad490a26",
   "metadata": {},
   "source": [
    "As the columns and edge weights are already standardised between the datasets, combining them into one single dataset is simple."
   ]
  },
  {
   "cell_type": "code",
   "execution_count": 29,
   "id": "55ff8872-6ec6-4aaa-8409-80295c3d7d9c",
   "metadata": {},
   "outputs": [],
   "source": [
    "combined = pd.concat([pm_data_reduced, db_data, h_data_reduced])\n",
    "combined = combined.reset_index(drop=True)"
   ]
  },
  {
   "cell_type": "markdown",
   "id": "ab61e1df-247d-4320-87d0-0679afc8885d",
   "metadata": {},
   "source": [
    "## Standardising the term names between the datasets"
   ]
  },
  {
   "cell_type": "markdown",
   "id": "2fcf085d-b172-410f-9036-cd0d25c62353",
   "metadata": {},
   "source": [
    "It seems as if between the datasets, often a different disease name (term) is used for the same UMLS code. Does this indicate any problems?"
   ]
  },
  {
   "cell_type": "code",
   "execution_count": 30,
   "id": "a7aeeda2-b183-4067-8d24-ac70d1ee99fa",
   "metadata": {},
   "outputs": [
    {
     "data": {
      "text/plain": [
       "disease         4620\n",
       "disease_umls    4232\n",
       "symptom          854\n",
       "symptom_umls     753\n",
       "dtype: int64"
      ]
     },
     "execution_count": 30,
     "metadata": {},
     "output_type": "execute_result"
    }
   ],
   "source": [
    "combined[[\"disease\", \"disease_umls\", \"symptom\", \"symptom_umls\"]].nunique()"
   ]
  },
  {
   "cell_type": "markdown",
   "id": "62c43043-172b-45c6-bd89-fc3d623a82ff",
   "metadata": {},
   "source": [
    "Based on an examination of the data, this does not seem to indicate a problem. Rather the \"different\" terms are due to a letter being capitalised or not, or an addition added to the term which does not affect its meaning, i.e. \"Anorexia\" versus \"Anorexia (symptom)\"."
   ]
  },
  {
   "cell_type": "code",
   "execution_count": 31,
   "id": "0bdecce8-bfc2-4887-8ac8-a90024951af7",
   "metadata": {},
   "outputs": [
    {
     "data": {
      "text/html": [
       "<div>\n",
       "<style scoped>\n",
       "    .dataframe tbody tr th:only-of-type {\n",
       "        vertical-align: middle;\n",
       "    }\n",
       "\n",
       "    .dataframe tbody tr th {\n",
       "        vertical-align: top;\n",
       "    }\n",
       "\n",
       "    .dataframe thead th {\n",
       "        text-align: right;\n",
       "    }\n",
       "</style>\n",
       "<table border=\"1\" class=\"dataframe\">\n",
       "  <thead>\n",
       "    <tr style=\"text-align: right;\">\n",
       "      <th></th>\n",
       "      <th></th>\n",
       "      <th>symptom</th>\n",
       "    </tr>\n",
       "    <tr>\n",
       "      <th>symptom_umls</th>\n",
       "      <th>symptom</th>\n",
       "      <th></th>\n",
       "    </tr>\n",
       "  </thead>\n",
       "  <tbody>\n",
       "    <tr>\n",
       "      <th rowspan=\"2\" valign=\"top\">C0000727</th>\n",
       "      <th>Abdomen, Acute</th>\n",
       "      <td>405</td>\n",
       "    </tr>\n",
       "    <tr>\n",
       "      <th>abdomen acute</th>\n",
       "      <td>1</td>\n",
       "    </tr>\n",
       "    <tr>\n",
       "      <th rowspan=\"3\" valign=\"top\">C0000737</th>\n",
       "      <th>Abdominal Pain</th>\n",
       "      <td>615</td>\n",
       "    </tr>\n",
       "    <tr>\n",
       "      <th>Abdominal pain</th>\n",
       "      <td>42</td>\n",
       "    </tr>\n",
       "    <tr>\n",
       "      <th>pain abdominal</th>\n",
       "      <td>18</td>\n",
       "    </tr>\n",
       "    <tr>\n",
       "      <th rowspan=\"3\" valign=\"top\">C0002962</th>\n",
       "      <th>Angina Pectoris</th>\n",
       "      <td>240</td>\n",
       "    </tr>\n",
       "    <tr>\n",
       "      <th>angina pectoris</th>\n",
       "      <td>8</td>\n",
       "    </tr>\n",
       "    <tr>\n",
       "      <th>Angina</th>\n",
       "      <td>2</td>\n",
       "    </tr>\n",
       "    <tr>\n",
       "      <th rowspan=\"3\" valign=\"top\">C0003123</th>\n",
       "      <th>Anorexia</th>\n",
       "      <td>142</td>\n",
       "    </tr>\n",
       "    <tr>\n",
       "      <th>Anorexia (symptom)</th>\n",
       "      <td>11</td>\n",
       "    </tr>\n",
       "    <tr>\n",
       "      <th>anorexia</th>\n",
       "      <td>5</td>\n",
       "    </tr>\n",
       "    <tr>\n",
       "      <th rowspan=\"2\" valign=\"top\">C0003862</th>\n",
       "      <th>Arthralgia</th>\n",
       "      <td>272</td>\n",
       "    </tr>\n",
       "    <tr>\n",
       "      <th>arthralgia</th>\n",
       "      <td>1</td>\n",
       "    </tr>\n",
       "    <tr>\n",
       "      <th rowspan=\"2\" valign=\"top\">C0003962</th>\n",
       "      <th>Ascites</th>\n",
       "      <td>9</td>\n",
       "    </tr>\n",
       "    <tr>\n",
       "      <th>ascites</th>\n",
       "      <td>9</td>\n",
       "    </tr>\n",
       "    <tr>\n",
       "      <th rowspan=\"2\" valign=\"top\">C0004093</th>\n",
       "      <th>Asthenia</th>\n",
       "      <td>64</td>\n",
       "    </tr>\n",
       "    <tr>\n",
       "      <th>asthenia</th>\n",
       "      <td>17</td>\n",
       "    </tr>\n",
       "    <tr>\n",
       "      <th rowspan=\"2\" valign=\"top\">C0006625</th>\n",
       "      <th>Cachexia</th>\n",
       "      <td>149</td>\n",
       "    </tr>\n",
       "    <tr>\n",
       "      <th>cachexia</th>\n",
       "      <td>3</td>\n",
       "    </tr>\n",
       "  </tbody>\n",
       "</table>\n",
       "</div>"
      ],
      "text/plain": [
       "                                 symptom\n",
       "symptom_umls symptom                    \n",
       "C0000727     Abdomen, Acute          405\n",
       "             abdomen acute             1\n",
       "C0000737     Abdominal Pain          615\n",
       "             Abdominal pain           42\n",
       "             pain abdominal           18\n",
       "C0002962     Angina Pectoris         240\n",
       "             angina pectoris           8\n",
       "             Angina                    2\n",
       "C0003123     Anorexia                142\n",
       "             Anorexia (symptom)       11\n",
       "             anorexia                  5\n",
       "C0003862     Arthralgia              272\n",
       "             arthralgia                1\n",
       "C0003962     Ascites                   9\n",
       "             ascites                   9\n",
       "C0004093     Asthenia                 64\n",
       "             asthenia                 17\n",
       "C0006625     Cachexia                149\n",
       "             cachexia                  3"
      ]
     },
     "execution_count": 31,
     "metadata": {},
     "output_type": "execute_result"
    }
   ],
   "source": [
    "combined_group = combined.groupby(\"symptom_umls\")[\"symptom\"].nunique()\n",
    "pd.DataFrame(combined[combined[\"symptom_umls\"].isin(combined_group[combined_group>1].index)].groupby(\"symptom_umls\")[\"symptom\"].value_counts()).head(19)"
   ]
  },
  {
   "cell_type": "markdown",
   "id": "4f787097-4cb4-4727-ac5e-98d0062858e1",
   "metadata": {},
   "source": [
    "As the UMLS code is standardised between the datasets, there is no problem in combining them from a technical point of view. However from an understandability point of view, it would be useful to be able to have a readable term (disease name) associated with each code. Therefore these terms will need to also be standardised between the datasets."
   ]
  },
  {
   "cell_type": "code",
   "execution_count": 32,
   "id": "a0db75d8-cea1-4d1a-b773-e8dee2d84168",
   "metadata": {},
   "outputs": [],
   "source": [
    "all_conditions = list(pd.concat([combined[\"disease_umls\"], combined[\"symptom_umls\"]]).unique())"
   ]
  },
  {
   "cell_type": "code",
   "execution_count": 33,
   "id": "03528220-afd1-41f0-92c8-a8b6a95ab0bf",
   "metadata": {},
   "outputs": [
    {
     "data": {
      "text/plain": [
       "4591"
      ]
     },
     "execution_count": 33,
     "metadata": {},
     "output_type": "execute_result"
    }
   ],
   "source": [
    "len(all_conditions)"
   ]
  },
  {
   "cell_type": "markdown",
   "id": "3595f501-50f1-4478-b44c-ca7ee96944a3",
   "metadata": {},
   "source": [
    "Using the UMLS API to find the term names from their respective UMLS codes:"
   ]
  },
  {
   "cell_type": "code",
   "execution_count": 34,
   "id": "2855950a-1aea-4f43-9422-934144dfda65",
   "metadata": {},
   "outputs": [],
   "source": [
    "base_api = \"https://uts-ws.nlm.nih.gov/rest/content/current/CUI/\"\n",
    "apiKey = json.load(open(\"../umls_api_key.json\"))[\"apiKey\"]"
   ]
  },
  {
   "cell_type": "raw",
   "id": "fe4b4d17-921f-4db7-93ee-4519fb7427de",
   "metadata": {},
   "source": [
    "umls_to_term = dict()\n",
    "failed_umls_to_term = list()\n",
    "\n",
    "for umls_code in all_conditions:\n",
    "    time.sleep(0.06) # the API requests less than 20 requests per second be made\n",
    "    api = base_api + umls_code\n",
    "    response = requests.get(api, params={\"apiKey\":apiKey}).json()\n",
    "    if \"result\" not in response.keys():\n",
    "        failed_umls_to_term.append(umls_code)\n",
    "    else:\n",
    "        term_name = response[\"result\"][\"name\"]\n",
    "        umls_to_term[umls_code] = term_name"
   ]
  },
  {
   "cell_type": "markdown",
   "id": "146e6bc1-7151-484f-9104-4d78688c9c0d",
   "metadata": {},
   "source": [
    "Finding the as-of-now depreciated terms in the older UMLS releases:"
   ]
  },
  {
   "cell_type": "raw",
   "id": "540a946c-0655-44db-a638-aace1526ab2e",
   "metadata": {},
   "source": [
    "more_failed_umls_to_term = list()\n",
    "for umls_code in failed_umls_to_term:\n",
    "    time.sleep(0.06) # the API requests less than 20 requests per second be made\n",
    "    api = \"https://uts-ws.nlm.nih.gov/rest/content/2008AA/CUI/\" + umls_code\n",
    "    response = requests.get(api, params={\"apiKey\":apiKey}).json()\n",
    "    if \"result\" not in response.keys():\n",
    "        more_failed_umls_to_term.append(umls_code)\n",
    "    else:\n",
    "        term_name = response[\"result\"][\"name\"]\n",
    "        umls_to_term[umls_code] = term_name"
   ]
  },
  {
   "cell_type": "code",
   "execution_count": 35,
   "id": "168ea252-2476-4df7-b24b-23a5b0c4852c",
   "metadata": {},
   "outputs": [
    {
     "name": "stdout",
     "output_type": "stream",
     "text": [
      "['C0240100', 'C0847488', 'C0233070']\n"
     ]
    }
   ],
   "source": [
    "# more_failed_umls_to_term\n",
    "print(\"['C0240100', 'C0847488', 'C0233070']\")"
   ]
  },
  {
   "cell_type": "markdown",
   "id": "d7ce0723-1a98-4059-958f-3989f8c430ab",
   "metadata": {},
   "source": [
    "Adding the final terms manually:"
   ]
  },
  {
   "cell_type": "raw",
   "id": "5f9c6776-4216-4ba4-a23e-92ccb6af3f78",
   "metadata": {},
   "source": [
    "umls_to_term[\"C0240100\"] = \"Jugular venous engorgement\"\n",
    "umls_to_term[\"C0847488\"] = \"Feeling unhappy\"\n",
    "umls_to_term[\"C0233070\"] = \"Primiparity\""
   ]
  },
  {
   "cell_type": "raw",
   "id": "9756e13e-320f-4b18-b9c8-7ee017df53af",
   "metadata": {
    "tags": []
   },
   "source": [
    "umls_to_term_df = pd.DataFrame.from_dict(umls_to_term, orient=\"index\").reset_index()\n",
    "umls_to_term_df.columns = [\"umls_code\", \"term\"]"
   ]
  },
  {
   "cell_type": "raw",
   "id": "245dadc9-566e-4829-9801-b120d8511dc3",
   "metadata": {},
   "source": [
    "umls_to_term_df.to_csv(\"code_maps/umls_to_term_dict.csv\", index=False)"
   ]
  },
  {
   "cell_type": "code",
   "execution_count": 36,
   "id": "a18e2132-bd7f-4fe4-9ece-0ff6b2142527",
   "metadata": {},
   "outputs": [],
   "source": [
    "umls_to_term_df = pd.read_csv(\"code_maps/umls_to_term_dict.csv\")\n",
    "umls_to_term = umls_to_term_df.set_index(\"umls_code\").to_dict()[\"term\"]"
   ]
  },
  {
   "cell_type": "code",
   "execution_count": 37,
   "id": "81e07884-ade3-42f7-ae07-ff830986de2e",
   "metadata": {},
   "outputs": [
    {
     "data": {
      "text/html": [
       "<div>\n",
       "<style scoped>\n",
       "    .dataframe tbody tr th:only-of-type {\n",
       "        vertical-align: middle;\n",
       "    }\n",
       "\n",
       "    .dataframe tbody tr th {\n",
       "        vertical-align: top;\n",
       "    }\n",
       "\n",
       "    .dataframe thead th {\n",
       "        text-align: right;\n",
       "    }\n",
       "</style>\n",
       "<table border=\"1\" class=\"dataframe\">\n",
       "  <thead>\n",
       "    <tr style=\"text-align: right;\">\n",
       "      <th></th>\n",
       "      <th>umls_code</th>\n",
       "      <th>term</th>\n",
       "    </tr>\n",
       "  </thead>\n",
       "  <tbody>\n",
       "    <tr>\n",
       "      <th>0</th>\n",
       "      <td>C0035235</td>\n",
       "      <td>Respiratory Syncytial Virus Infections</td>\n",
       "    </tr>\n",
       "    <tr>\n",
       "      <th>1</th>\n",
       "      <td>C0276357</td>\n",
       "      <td>Swine influenza</td>\n",
       "    </tr>\n",
       "    <tr>\n",
       "      <th>2</th>\n",
       "      <td>C0019693</td>\n",
       "      <td>HIV Infections</td>\n",
       "    </tr>\n",
       "    <tr>\n",
       "      <th>3</th>\n",
       "      <td>C0001175</td>\n",
       "      <td>Acquired Immunodeficiency Syndrome</td>\n",
       "    </tr>\n",
       "    <tr>\n",
       "      <th>4</th>\n",
       "      <td>C1257931</td>\n",
       "      <td>Mammary Neoplasms, Human</td>\n",
       "    </tr>\n",
       "  </tbody>\n",
       "</table>\n",
       "</div>"
      ],
      "text/plain": [
       "  umls_code                                    term\n",
       "0  C0035235  Respiratory Syncytial Virus Infections\n",
       "1  C0276357                         Swine influenza\n",
       "2  C0019693                          HIV Infections\n",
       "3  C0001175      Acquired Immunodeficiency Syndrome\n",
       "4  C1257931                Mammary Neoplasms, Human"
      ]
     },
     "execution_count": 37,
     "metadata": {},
     "output_type": "execute_result"
    }
   ],
   "source": [
    "umls_to_term_df.head()"
   ]
  },
  {
   "cell_type": "markdown",
   "id": "81c2caed-3de1-4b55-afc4-0e5bcf9deccf",
   "metadata": {},
   "source": [
    "Mapping every UMLS code to the term as defined in the mapping, to ensure consistency throughout the dataset:"
   ]
  },
  {
   "cell_type": "code",
   "execution_count": 38,
   "id": "8a4c994b-c7ad-452d-af36-7696d70aa3fb",
   "metadata": {},
   "outputs": [],
   "source": [
    "combined[\"disease\"] = combined[\"disease_umls\"].map(umls_to_term)\n",
    "combined[\"symptom\"] = combined[\"symptom_umls\"].map(umls_to_term)"
   ]
  },
  {
   "cell_type": "markdown",
   "id": "e08498e5-66c0-4d44-878c-95aa0f115353",
   "metadata": {},
   "source": [
    "Now each UMLS code is associated with the same term."
   ]
  },
  {
   "cell_type": "code",
   "execution_count": 39,
   "id": "f029c78e-f3e6-466e-bd56-70f683ac4ee3",
   "metadata": {},
   "outputs": [
    {
     "data": {
      "text/plain": [
       "disease         4232\n",
       "disease_umls    4232\n",
       "symptom          753\n",
       "symptom_umls     753\n",
       "dtype: int64"
      ]
     },
     "execution_count": 39,
     "metadata": {},
     "output_type": "execute_result"
    }
   ],
   "source": [
    "combined[[\"disease\", \"disease_umls\", \"symptom\", \"symptom_umls\"]].nunique()"
   ]
  },
  {
   "cell_type": "markdown",
   "id": "49a7c349-65d6-4373-8a53-2a7106fe57cd",
   "metadata": {},
   "source": [
    "## Combining duplicate rows"
   ]
  },
  {
   "cell_type": "markdown",
   "id": "cb0569a4-6816-4351-9adf-0f33745bc5aa",
   "metadata": {},
   "source": [
    "Edges (associations) that are shared between the datasets have their weights summed, thus increasing the weight between a symptom and disease, if multiple datasets agree on that association."
   ]
  },
  {
   "cell_type": "code",
   "execution_count": 40,
   "id": "f1c2b2db-acd9-44e7-ae7f-4cc189547d3f",
   "metadata": {},
   "outputs": [],
   "source": [
    "full_hkg = pd.DataFrame(combined.groupby([\"disease\", \"symptom\", \"disease_umls\", \"symptom_umls\"])[\"weight\"].sum()).reset_index()"
   ]
  },
  {
   "cell_type": "code",
   "execution_count": 41,
   "id": "4d99f063-8e5c-4aab-91a0-54be804f70f2",
   "metadata": {},
   "outputs": [
    {
     "data": {
      "text/html": [
       "<div>\n",
       "<style scoped>\n",
       "    .dataframe tbody tr th:only-of-type {\n",
       "        vertical-align: middle;\n",
       "    }\n",
       "\n",
       "    .dataframe tbody tr th {\n",
       "        vertical-align: top;\n",
       "    }\n",
       "\n",
       "    .dataframe thead th {\n",
       "        text-align: right;\n",
       "    }\n",
       "</style>\n",
       "<table border=\"1\" class=\"dataframe\">\n",
       "  <thead>\n",
       "    <tr style=\"text-align: right;\">\n",
       "      <th></th>\n",
       "      <th>disease</th>\n",
       "      <th>symptom</th>\n",
       "      <th>disease_umls</th>\n",
       "      <th>symptom_umls</th>\n",
       "      <th>weight</th>\n",
       "    </tr>\n",
       "  </thead>\n",
       "  <tbody>\n",
       "    <tr>\n",
       "      <th>0</th>\n",
       "      <td>22q11 Deletion Syndrome</td>\n",
       "      <td>Auditory Processing Disorder, Central</td>\n",
       "      <td>C2936346</td>\n",
       "      <td>C0751257</td>\n",
       "      <td>1</td>\n",
       "    </tr>\n",
       "    <tr>\n",
       "      <th>1</th>\n",
       "      <td>22q11 Deletion Syndrome</td>\n",
       "      <td>Olfaction Disorders</td>\n",
       "      <td>C2936346</td>\n",
       "      <td>C0553757</td>\n",
       "      <td>1</td>\n",
       "    </tr>\n",
       "    <tr>\n",
       "      <th>2</th>\n",
       "      <td>22q11 Deletion Syndrome</td>\n",
       "      <td>Pleural Rub</td>\n",
       "      <td>C2936346</td>\n",
       "      <td>C0032230</td>\n",
       "      <td>1</td>\n",
       "    </tr>\n",
       "    <tr>\n",
       "      <th>3</th>\n",
       "      <td>ACTH Syndrome, Ectopic</td>\n",
       "      <td>Abdominal Pain</td>\n",
       "      <td>C0001231</td>\n",
       "      <td>C0000737</td>\n",
       "      <td>1</td>\n",
       "    </tr>\n",
       "    <tr>\n",
       "      <th>4</th>\n",
       "      <td>ACTH Syndrome, Ectopic</td>\n",
       "      <td>Ecchymosis</td>\n",
       "      <td>C0001231</td>\n",
       "      <td>C0013491</td>\n",
       "      <td>1</td>\n",
       "    </tr>\n",
       "  </tbody>\n",
       "</table>\n",
       "</div>"
      ],
      "text/plain": [
       "                   disease                                symptom  \\\n",
       "0  22q11 Deletion Syndrome  Auditory Processing Disorder, Central   \n",
       "1  22q11 Deletion Syndrome                    Olfaction Disorders   \n",
       "2  22q11 Deletion Syndrome                            Pleural Rub   \n",
       "3   ACTH Syndrome, Ectopic                         Abdominal Pain   \n",
       "4   ACTH Syndrome, Ectopic                             Ecchymosis   \n",
       "\n",
       "  disease_umls symptom_umls  weight  \n",
       "0     C2936346     C0751257       1  \n",
       "1     C2936346     C0553757       1  \n",
       "2     C2936346     C0032230       1  \n",
       "3     C0001231     C0000737       1  \n",
       "4     C0001231     C0013491       1  "
      ]
     },
     "execution_count": 41,
     "metadata": {},
     "output_type": "execute_result"
    }
   ],
   "source": [
    "full_hkg.head()"
   ]
  },
  {
   "cell_type": "markdown",
   "id": "538234a2-8b67-4baf-b460-1954a1e4daa6",
   "metadata": {},
   "source": [
    "We can also see a filtered knowledge graph, looking only at weights greater than 1 (multiple datasets agree on the association)."
   ]
  },
  {
   "cell_type": "code",
   "execution_count": 42,
   "id": "02f66749-8485-400e-babb-f93133760df2",
   "metadata": {},
   "outputs": [
    {
     "data": {
      "text/html": [
       "<div>\n",
       "<style scoped>\n",
       "    .dataframe tbody tr th:only-of-type {\n",
       "        vertical-align: middle;\n",
       "    }\n",
       "\n",
       "    .dataframe tbody tr th {\n",
       "        vertical-align: top;\n",
       "    }\n",
       "\n",
       "    .dataframe thead th {\n",
       "        text-align: right;\n",
       "    }\n",
       "</style>\n",
       "<table border=\"1\" class=\"dataframe\">\n",
       "  <thead>\n",
       "    <tr style=\"text-align: right;\">\n",
       "      <th></th>\n",
       "      <th>disease</th>\n",
       "      <th>symptom</th>\n",
       "      <th>disease_umls</th>\n",
       "      <th>symptom_umls</th>\n",
       "      <th>weight</th>\n",
       "    </tr>\n",
       "  </thead>\n",
       "  <tbody>\n",
       "    <tr>\n",
       "      <th>0</th>\n",
       "      <td>Abdominal Migraine</td>\n",
       "      <td>Hemicrania</td>\n",
       "      <td>C0270858</td>\n",
       "      <td>C0877781</td>\n",
       "      <td>2</td>\n",
       "    </tr>\n",
       "    <tr>\n",
       "      <th>1</th>\n",
       "      <td>Abdominal Migraine</td>\n",
       "      <td>Nausea</td>\n",
       "      <td>C0270858</td>\n",
       "      <td>C0027497</td>\n",
       "      <td>2</td>\n",
       "    </tr>\n",
       "    <tr>\n",
       "      <th>2</th>\n",
       "      <td>Abdominal Migraine</td>\n",
       "      <td>Photophobia</td>\n",
       "      <td>C0270858</td>\n",
       "      <td>C0085636</td>\n",
       "      <td>2</td>\n",
       "    </tr>\n",
       "    <tr>\n",
       "      <th>3</th>\n",
       "      <td>Abruptio Placentae</td>\n",
       "      <td>Abdominal Pain</td>\n",
       "      <td>C0000832</td>\n",
       "      <td>C0000737</td>\n",
       "      <td>2</td>\n",
       "    </tr>\n",
       "    <tr>\n",
       "      <th>4</th>\n",
       "      <td>Acoustic Neuroma</td>\n",
       "      <td>Tinnitus, Tensor Palatini Induced</td>\n",
       "      <td>C0027859</td>\n",
       "      <td>C0751557</td>\n",
       "      <td>2</td>\n",
       "    </tr>\n",
       "    <tr>\n",
       "      <th>5</th>\n",
       "      <td>Acquired Immunodeficiency Syndrome</td>\n",
       "      <td>Diarrhea</td>\n",
       "      <td>C0001175</td>\n",
       "      <td>C0011991</td>\n",
       "      <td>2</td>\n",
       "    </tr>\n",
       "    <tr>\n",
       "      <th>6</th>\n",
       "      <td>Acquired Immunodeficiency Syndrome</td>\n",
       "      <td>Fever</td>\n",
       "      <td>C0001175</td>\n",
       "      <td>C0015967</td>\n",
       "      <td>3</td>\n",
       "    </tr>\n",
       "    <tr>\n",
       "      <th>7</th>\n",
       "      <td>Acute Cerebrovascular Accidents</td>\n",
       "      <td>Hemiplegia, Infantile</td>\n",
       "      <td>C0751956</td>\n",
       "      <td>C0392550</td>\n",
       "      <td>2</td>\n",
       "    </tr>\n",
       "    <tr>\n",
       "      <th>8</th>\n",
       "      <td>Acute Coryza</td>\n",
       "      <td>Coughing</td>\n",
       "      <td>C0086066</td>\n",
       "      <td>C0010200</td>\n",
       "      <td>2</td>\n",
       "    </tr>\n",
       "    <tr>\n",
       "      <th>9</th>\n",
       "      <td>Acute Coryza</td>\n",
       "      <td>Fever</td>\n",
       "      <td>C0086066</td>\n",
       "      <td>C0015967</td>\n",
       "      <td>2</td>\n",
       "    </tr>\n",
       "  </tbody>\n",
       "</table>\n",
       "</div>"
      ],
      "text/plain": [
       "                              disease                            symptom  \\\n",
       "0                  Abdominal Migraine                         Hemicrania   \n",
       "1                  Abdominal Migraine                             Nausea   \n",
       "2                  Abdominal Migraine                        Photophobia   \n",
       "3                  Abruptio Placentae                     Abdominal Pain   \n",
       "4                    Acoustic Neuroma  Tinnitus, Tensor Palatini Induced   \n",
       "5  Acquired Immunodeficiency Syndrome                           Diarrhea   \n",
       "6  Acquired Immunodeficiency Syndrome                              Fever   \n",
       "7     Acute Cerebrovascular Accidents              Hemiplegia, Infantile   \n",
       "8                        Acute Coryza                           Coughing   \n",
       "9                        Acute Coryza                              Fever   \n",
       "\n",
       "  disease_umls symptom_umls  weight  \n",
       "0     C0270858     C0877781       2  \n",
       "1     C0270858     C0027497       2  \n",
       "2     C0270858     C0085636       2  \n",
       "3     C0000832     C0000737       2  \n",
       "4     C0027859     C0751557       2  \n",
       "5     C0001175     C0011991       2  \n",
       "6     C0001175     C0015967       3  \n",
       "7     C0751956     C0392550       2  \n",
       "8     C0086066     C0010200       2  \n",
       "9     C0086066     C0015967       2  "
      ]
     },
     "execution_count": 42,
     "metadata": {},
     "output_type": "execute_result"
    }
   ],
   "source": [
    "full_hkg[full_hkg[\"weight\"]>1].reset_index(drop=True).head(10)"
   ]
  },
  {
   "cell_type": "code",
   "execution_count": 43,
   "id": "a3da6578-015b-4afa-81dd-3513bed39a0d",
   "metadata": {},
   "outputs": [
    {
     "data": {
      "text/plain": [
       "(37588, 5)"
      ]
     },
     "execution_count": 43,
     "metadata": {},
     "output_type": "execute_result"
    }
   ],
   "source": [
    "full_hkg.shape"
   ]
  },
  {
   "cell_type": "code",
   "execution_count": 44,
   "id": "c3aceb5b-4a14-48a3-878c-a173c5a0d95f",
   "metadata": {},
   "outputs": [
    {
     "data": {
      "text/plain": [
       "(507, 5)"
      ]
     },
     "execution_count": 44,
     "metadata": {},
     "output_type": "execute_result"
    }
   ],
   "source": [
    "full_hkg[full_hkg[\"weight\"]>1].shape"
   ]
  },
  {
   "cell_type": "raw",
   "id": "c024fde0-3c4d-4998-89d7-cbd0ff42ecdd",
   "metadata": {},
   "source": [
    "full_hkg.to_csv(\"data/combined_data.csv\", index=False)"
   ]
  },
  {
   "cell_type": "markdown",
   "id": "ab5aa399-8941-4404-b016-d9fc59363040",
   "metadata": {
    "tags": []
   },
   "source": [
    "## Reshaping the dataset to be suitable for import to Gephi"
   ]
  },
  {
   "cell_type": "markdown",
   "id": "e198db03-6745-430f-97fe-d874e3fc82e2",
   "metadata": {},
   "source": [
    "The data must be reshaped into two different tables: one containing all of the nodes and their labels, and another describing the edges between the given nodes."
   ]
  },
  {
   "cell_type": "markdown",
   "id": "2f035ef7-611f-4cd2-af82-53ad0ac54d04",
   "metadata": {},
   "source": [
    "### Creating a \"nodes\" table"
   ]
  },
  {
   "cell_type": "markdown",
   "id": "f60ddb0d-a6cd-4665-8356-ce31a2ae80f7",
   "metadata": {},
   "source": [
    "Creating a dataframe that contains only each \"node\", i.e. each disease or symptom, and its associated UMLS code. Starting by including all of the diseases:"
   ]
  },
  {
   "cell_type": "code",
   "execution_count": 45,
   "id": "371b5cdb-ec40-47c8-bcea-a71e6c402ca5",
   "metadata": {},
   "outputs": [],
   "source": [
    "nodes_table = full_hkg.copy()[[\"disease_umls\", \"disease\"]]\n",
    "nodes_table.columns = [\"Id\", \"Label\"]"
   ]
  },
  {
   "cell_type": "markdown",
   "id": "0f664973-3dc7-4c9d-a3d7-615b12e17c1f",
   "metadata": {},
   "source": [
    "Then adding all of the symptoms to the table:"
   ]
  },
  {
   "cell_type": "code",
   "execution_count": 46,
   "id": "b4dad08f-43fc-498c-b927-b47b92016cb9",
   "metadata": {},
   "outputs": [],
   "source": [
    "nodes_table = pd.concat([nodes_table, full_hkg[[\"symptom_umls\", \"symptom\"]].rename(columns={\"symptom_umls\":\"Id\", \"symptom\":\"Label\"})])"
   ]
  },
  {
   "cell_type": "markdown",
   "id": "9431e6e2-91aa-4c02-83cc-f54b66bcd909",
   "metadata": {},
   "source": [
    "394 conditions exist as both a symptom and a disease, thus the duplicate diseases/symptoms must be removed:"
   ]
  },
  {
   "cell_type": "code",
   "execution_count": 47,
   "id": "4aa719b0-96e7-4b24-870b-75efc0bdf7da",
   "metadata": {},
   "outputs": [
    {
     "data": {
      "text/plain": [
       "394"
      ]
     },
     "execution_count": 47,
     "metadata": {},
     "output_type": "execute_result"
    }
   ],
   "source": [
    "len(set(full_hkg[\"disease_umls\"]).intersection(set(full_hkg[\"symptom_umls\"])))"
   ]
  },
  {
   "cell_type": "code",
   "execution_count": 48,
   "id": "3eeb0f4f-a3c9-4a2a-b279-f6352b7343bb",
   "metadata": {},
   "outputs": [],
   "source": [
    "nodes_table = nodes_table.drop_duplicates()"
   ]
  },
  {
   "cell_type": "markdown",
   "id": "c05f5820-7e74-41dd-ae4c-6f2343d910e2",
   "metadata": {},
   "source": [
    "Checking that the UMLS codes are all correct:"
   ]
  },
  {
   "cell_type": "code",
   "execution_count": 49,
   "id": "0b4ae80c-a9fd-4e69-b05e-ae34409de48d",
   "metadata": {},
   "outputs": [
    {
     "data": {
      "text/plain": [
       "Id       4591\n",
       "Label    4591\n",
       "dtype: int64"
      ]
     },
     "execution_count": 49,
     "metadata": {},
     "output_type": "execute_result"
    }
   ],
   "source": [
    "nodes_table.nunique()"
   ]
  },
  {
   "cell_type": "markdown",
   "id": "42b97e6a-7d15-47cc-8590-b6c60c431281",
   "metadata": {},
   "source": [
    "Adding an optional column, indicating whether a condition is either a disease or symptom. The classification is not clear cut, because some conditions can exist as either a disease or a symptom. \"Symptom\" is chosen to take priority, due to the fewer number of symptoms in the dataset."
   ]
  },
  {
   "cell_type": "code",
   "execution_count": 50,
   "id": "ffb1734c-e02c-4710-858c-b7f89d93f2e0",
   "metadata": {},
   "outputs": [
    {
     "name": "stdout",
     "output_type": "stream",
     "text": [
      "Number of symptoms: 753 \n",
      "Number of diseases: 4232 \n",
      "Number of conditions existing as both a symptom and disease: 394\n"
     ]
    }
   ],
   "source": [
    "print(\"Number of symptoms:\", full_hkg[\"symptom\"].nunique(), \n",
    "\"\\nNumber of diseases:\", full_hkg[\"disease\"].nunique(), \n",
    "\"\\nNumber of conditions existing as both a symptom and disease:\", len(set(full_hkg[\"symptom\"]).intersection(set(full_hkg[\"disease\"]))))"
   ]
  },
  {
   "cell_type": "code",
   "execution_count": 51,
   "id": "59cc4ddb-3f98-44bc-bb06-487683aeb1e7",
   "metadata": {},
   "outputs": [],
   "source": [
    "nodes_table[\"condition\"] = nodes_table[\"Id\"].isin(full_hkg[\"symptom_umls\"].unique()).replace({True: \"symptom\", False: \"disease\"})"
   ]
  },
  {
   "cell_type": "code",
   "execution_count": 52,
   "id": "d68b5416-c2ba-4f00-8749-c2d59dec1b4e",
   "metadata": {},
   "outputs": [
    {
     "data": {
      "text/html": [
       "<div>\n",
       "<style scoped>\n",
       "    .dataframe tbody tr th:only-of-type {\n",
       "        vertical-align: middle;\n",
       "    }\n",
       "\n",
       "    .dataframe tbody tr th {\n",
       "        vertical-align: top;\n",
       "    }\n",
       "\n",
       "    .dataframe thead th {\n",
       "        text-align: right;\n",
       "    }\n",
       "</style>\n",
       "<table border=\"1\" class=\"dataframe\">\n",
       "  <thead>\n",
       "    <tr style=\"text-align: right;\">\n",
       "      <th></th>\n",
       "      <th>Id</th>\n",
       "      <th>Label</th>\n",
       "      <th>condition</th>\n",
       "    </tr>\n",
       "  </thead>\n",
       "  <tbody>\n",
       "    <tr>\n",
       "      <th>0</th>\n",
       "      <td>C2936346</td>\n",
       "      <td>22q11 Deletion Syndrome</td>\n",
       "      <td>disease</td>\n",
       "    </tr>\n",
       "    <tr>\n",
       "      <th>3</th>\n",
       "      <td>C0001231</td>\n",
       "      <td>ACTH Syndrome, Ectopic</td>\n",
       "      <td>disease</td>\n",
       "    </tr>\n",
       "    <tr>\n",
       "      <th>13</th>\n",
       "      <td>C1306214</td>\n",
       "      <td>ACTH-Secreting Pituitary Adenoma</td>\n",
       "      <td>disease</td>\n",
       "    </tr>\n",
       "    <tr>\n",
       "      <th>17</th>\n",
       "      <td>C0752330</td>\n",
       "      <td>AIDS Arteritis, Central Nervous System</td>\n",
       "      <td>disease</td>\n",
       "    </tr>\n",
       "    <tr>\n",
       "      <th>20</th>\n",
       "      <td>C0001849</td>\n",
       "      <td>AIDS Dementia Complex</td>\n",
       "      <td>disease</td>\n",
       "    </tr>\n",
       "    <tr>\n",
       "      <th>...</th>\n",
       "      <td>...</td>\n",
       "      <td>...</td>\n",
       "      <td>...</td>\n",
       "    </tr>\n",
       "    <tr>\n",
       "      <th>34673</th>\n",
       "      <td>C0234450</td>\n",
       "      <td>Sleepy</td>\n",
       "      <td>symptom</td>\n",
       "    </tr>\n",
       "    <tr>\n",
       "      <th>35013</th>\n",
       "      <td>C0234133</td>\n",
       "      <td>Extrapyramidal sign</td>\n",
       "      <td>symptom</td>\n",
       "    </tr>\n",
       "    <tr>\n",
       "      <th>35143</th>\n",
       "      <td>C0008767</td>\n",
       "      <td>Cicatrization</td>\n",
       "      <td>symptom</td>\n",
       "    </tr>\n",
       "    <tr>\n",
       "      <th>35150</th>\n",
       "      <td>C0338656</td>\n",
       "      <td>Impaired cognition</td>\n",
       "      <td>symptom</td>\n",
       "    </tr>\n",
       "    <tr>\n",
       "      <th>35966</th>\n",
       "      <td>C0235634</td>\n",
       "      <td>Renal angle tenderness</td>\n",
       "      <td>symptom</td>\n",
       "    </tr>\n",
       "  </tbody>\n",
       "</table>\n",
       "<p>4591 rows × 3 columns</p>\n",
       "</div>"
      ],
      "text/plain": [
       "             Id                                   Label condition\n",
       "0      C2936346                 22q11 Deletion Syndrome   disease\n",
       "3      C0001231                  ACTH Syndrome, Ectopic   disease\n",
       "13     C1306214        ACTH-Secreting Pituitary Adenoma   disease\n",
       "17     C0752330  AIDS Arteritis, Central Nervous System   disease\n",
       "20     C0001849                   AIDS Dementia Complex   disease\n",
       "...         ...                                     ...       ...\n",
       "34673  C0234450                                  Sleepy   symptom\n",
       "35013  C0234133                     Extrapyramidal sign   symptom\n",
       "35143  C0008767                           Cicatrization   symptom\n",
       "35150  C0338656                      Impaired cognition   symptom\n",
       "35966  C0235634                  Renal angle tenderness   symptom\n",
       "\n",
       "[4591 rows x 3 columns]"
      ]
     },
     "execution_count": 52,
     "metadata": {},
     "output_type": "execute_result"
    }
   ],
   "source": [
    "nodes_table"
   ]
  },
  {
   "cell_type": "markdown",
   "id": "9eb22230-ce1e-4b96-9284-5b8b2733dd6e",
   "metadata": {},
   "source": [
    "There are 4591 unique diseases/symptoms in the combined dataset."
   ]
  },
  {
   "cell_type": "code",
   "execution_count": 53,
   "id": "3a363f8d-f007-448e-9d72-483d587ef6b7",
   "metadata": {},
   "outputs": [
    {
     "data": {
      "text/plain": [
       "(4591, 3)"
      ]
     },
     "execution_count": 53,
     "metadata": {},
     "output_type": "execute_result"
    }
   ],
   "source": [
    "nodes_table.shape"
   ]
  },
  {
   "cell_type": "markdown",
   "id": "baf0308a-627d-4989-9e24-9b7eaf70d216",
   "metadata": {},
   "source": [
    "### Creating an \"edges\" table"
   ]
  },
  {
   "cell_type": "code",
   "execution_count": 54,
   "id": "66e3bfa1-2edf-4afc-b9bd-bbdf790d185e",
   "metadata": {},
   "outputs": [],
   "source": [
    "edges_table = full_hkg.copy()"
   ]
  },
  {
   "cell_type": "markdown",
   "id": "0bb597f2-6980-4cbd-9d0a-5f567bf4daf2",
   "metadata": {},
   "source": [
    "Creating columns for:  \n",
    "* the source and target of the edge (the two nodes)\n",
    "* the label for the edge \n",
    "* the unique id for the edge\n",
    "* the type of edge (directed)\n",
    "* the weight of the edge - I choose to  use the tfidf score for the edge weights"
   ]
  },
  {
   "cell_type": "code",
   "execution_count": 55,
   "id": "9b9505e9-c5d7-4d66-96af-007327096377",
   "metadata": {},
   "outputs": [
    {
     "data": {
      "text/html": [
       "<div>\n",
       "<style scoped>\n",
       "    .dataframe tbody tr th:only-of-type {\n",
       "        vertical-align: middle;\n",
       "    }\n",
       "\n",
       "    .dataframe tbody tr th {\n",
       "        vertical-align: top;\n",
       "    }\n",
       "\n",
       "    .dataframe thead th {\n",
       "        text-align: right;\n",
       "    }\n",
       "</style>\n",
       "<table border=\"1\" class=\"dataframe\">\n",
       "  <thead>\n",
       "    <tr style=\"text-align: right;\">\n",
       "      <th></th>\n",
       "      <th>disease</th>\n",
       "      <th>symptom</th>\n",
       "      <th>disease_umls</th>\n",
       "      <th>symptom_umls</th>\n",
       "      <th>weight</th>\n",
       "    </tr>\n",
       "  </thead>\n",
       "  <tbody>\n",
       "    <tr>\n",
       "      <th>0</th>\n",
       "      <td>22q11 Deletion Syndrome</td>\n",
       "      <td>Auditory Processing Disorder, Central</td>\n",
       "      <td>C2936346</td>\n",
       "      <td>C0751257</td>\n",
       "      <td>1</td>\n",
       "    </tr>\n",
       "    <tr>\n",
       "      <th>1</th>\n",
       "      <td>22q11 Deletion Syndrome</td>\n",
       "      <td>Olfaction Disorders</td>\n",
       "      <td>C2936346</td>\n",
       "      <td>C0553757</td>\n",
       "      <td>1</td>\n",
       "    </tr>\n",
       "    <tr>\n",
       "      <th>2</th>\n",
       "      <td>22q11 Deletion Syndrome</td>\n",
       "      <td>Pleural Rub</td>\n",
       "      <td>C2936346</td>\n",
       "      <td>C0032230</td>\n",
       "      <td>1</td>\n",
       "    </tr>\n",
       "    <tr>\n",
       "      <th>3</th>\n",
       "      <td>ACTH Syndrome, Ectopic</td>\n",
       "      <td>Abdominal Pain</td>\n",
       "      <td>C0001231</td>\n",
       "      <td>C0000737</td>\n",
       "      <td>1</td>\n",
       "    </tr>\n",
       "    <tr>\n",
       "      <th>4</th>\n",
       "      <td>ACTH Syndrome, Ectopic</td>\n",
       "      <td>Ecchymosis</td>\n",
       "      <td>C0001231</td>\n",
       "      <td>C0013491</td>\n",
       "      <td>1</td>\n",
       "    </tr>\n",
       "    <tr>\n",
       "      <th>...</th>\n",
       "      <td>...</td>\n",
       "      <td>...</td>\n",
       "      <td>...</td>\n",
       "      <td>...</td>\n",
       "      <td>...</td>\n",
       "    </tr>\n",
       "    <tr>\n",
       "      <th>37583</th>\n",
       "      <td>von Willebrand Disease, Recessive Form</td>\n",
       "      <td>Oral Hemorrhage</td>\n",
       "      <td>C1848525</td>\n",
       "      <td>C0029163</td>\n",
       "      <td>1</td>\n",
       "    </tr>\n",
       "    <tr>\n",
       "      <th>37584</th>\n",
       "      <td>von Willebrand Disease, Recessive Form</td>\n",
       "      <td>Purpura</td>\n",
       "      <td>C1848525</td>\n",
       "      <td>C0034150</td>\n",
       "      <td>1</td>\n",
       "    </tr>\n",
       "    <tr>\n",
       "      <th>37585</th>\n",
       "      <td>von Willebrand Disease, Recessive Form</td>\n",
       "      <td>Thrombocytopenic purpura</td>\n",
       "      <td>C1848525</td>\n",
       "      <td>C0857305</td>\n",
       "      <td>1</td>\n",
       "    </tr>\n",
       "    <tr>\n",
       "      <th>37586</th>\n",
       "      <td>von Willebrand Disease, Recessive Form</td>\n",
       "      <td>Waterhouse-Friderichsen Syndrome, Meningococcal</td>\n",
       "      <td>C1848525</td>\n",
       "      <td>C1403891</td>\n",
       "      <td>1</td>\n",
       "    </tr>\n",
       "    <tr>\n",
       "      <th>37587</th>\n",
       "      <td>von Willebrand Disease, Type 2</td>\n",
       "      <td>Psychogenic coma</td>\n",
       "      <td>C1264040</td>\n",
       "      <td>C0860634</td>\n",
       "      <td>1</td>\n",
       "    </tr>\n",
       "  </tbody>\n",
       "</table>\n",
       "<p>37588 rows × 5 columns</p>\n",
       "</div>"
      ],
      "text/plain": [
       "                                      disease  \\\n",
       "0                     22q11 Deletion Syndrome   \n",
       "1                     22q11 Deletion Syndrome   \n",
       "2                     22q11 Deletion Syndrome   \n",
       "3                      ACTH Syndrome, Ectopic   \n",
       "4                      ACTH Syndrome, Ectopic   \n",
       "...                                       ...   \n",
       "37583  von Willebrand Disease, Recessive Form   \n",
       "37584  von Willebrand Disease, Recessive Form   \n",
       "37585  von Willebrand Disease, Recessive Form   \n",
       "37586  von Willebrand Disease, Recessive Form   \n",
       "37587          von Willebrand Disease, Type 2   \n",
       "\n",
       "                                               symptom disease_umls  \\\n",
       "0                Auditory Processing Disorder, Central     C2936346   \n",
       "1                                  Olfaction Disorders     C2936346   \n",
       "2                                          Pleural Rub     C2936346   \n",
       "3                                       Abdominal Pain     C0001231   \n",
       "4                                           Ecchymosis     C0001231   \n",
       "...                                                ...          ...   \n",
       "37583                                  Oral Hemorrhage     C1848525   \n",
       "37584                                          Purpura     C1848525   \n",
       "37585                         Thrombocytopenic purpura     C1848525   \n",
       "37586  Waterhouse-Friderichsen Syndrome, Meningococcal     C1848525   \n",
       "37587                                 Psychogenic coma     C1264040   \n",
       "\n",
       "      symptom_umls  weight  \n",
       "0         C0751257       1  \n",
       "1         C0553757       1  \n",
       "2         C0032230       1  \n",
       "3         C0000737       1  \n",
       "4         C0013491       1  \n",
       "...            ...     ...  \n",
       "37583     C0029163       1  \n",
       "37584     C0034150       1  \n",
       "37585     C0857305       1  \n",
       "37586     C1403891       1  \n",
       "37587     C0860634       1  \n",
       "\n",
       "[37588 rows x 5 columns]"
      ]
     },
     "execution_count": 55,
     "metadata": {},
     "output_type": "execute_result"
    }
   ],
   "source": [
    "edges_table"
   ]
  },
  {
   "cell_type": "code",
   "execution_count": 56,
   "id": "81ce591a-1425-4d16-af83-4d2aa7ce77e7",
   "metadata": {},
   "outputs": [],
   "source": [
    "edges_table.columns = [\"disease\", \"symptom\", \"Source\", \"Target\", \"Weight\"]\n",
    "edges_table[\"Label\"] = \"Edge from \" + edges_table[\"disease\"] + \" to \" + edges_table[\"symptom\"]\n",
    "edges_table[\"Id\"] = edges_table[\"Source\"] + \"_\" + edges_table[\"Target\"]\n",
    "edges_table[\"Type\"] = \"Directed\""
   ]
  },
  {
   "cell_type": "code",
   "execution_count": 57,
   "id": "881774f2-973b-4aba-b06b-e9270602c6e2",
   "metadata": {},
   "outputs": [
    {
     "data": {
      "text/html": [
       "<div>\n",
       "<style scoped>\n",
       "    .dataframe tbody tr th:only-of-type {\n",
       "        vertical-align: middle;\n",
       "    }\n",
       "\n",
       "    .dataframe tbody tr th {\n",
       "        vertical-align: top;\n",
       "    }\n",
       "\n",
       "    .dataframe thead th {\n",
       "        text-align: right;\n",
       "    }\n",
       "</style>\n",
       "<table border=\"1\" class=\"dataframe\">\n",
       "  <thead>\n",
       "    <tr style=\"text-align: right;\">\n",
       "      <th></th>\n",
       "      <th>Source</th>\n",
       "      <th>Target</th>\n",
       "      <th>Type</th>\n",
       "      <th>Id</th>\n",
       "      <th>Label</th>\n",
       "      <th>Weight</th>\n",
       "    </tr>\n",
       "  </thead>\n",
       "  <tbody>\n",
       "    <tr>\n",
       "      <th>0</th>\n",
       "      <td>C2936346</td>\n",
       "      <td>C0751257</td>\n",
       "      <td>Directed</td>\n",
       "      <td>C2936346_C0751257</td>\n",
       "      <td>Edge from 22q11 Deletion Syndrome to Auditory ...</td>\n",
       "      <td>1</td>\n",
       "    </tr>\n",
       "    <tr>\n",
       "      <th>1</th>\n",
       "      <td>C2936346</td>\n",
       "      <td>C0553757</td>\n",
       "      <td>Directed</td>\n",
       "      <td>C2936346_C0553757</td>\n",
       "      <td>Edge from 22q11 Deletion Syndrome to Olfaction...</td>\n",
       "      <td>1</td>\n",
       "    </tr>\n",
       "    <tr>\n",
       "      <th>2</th>\n",
       "      <td>C2936346</td>\n",
       "      <td>C0032230</td>\n",
       "      <td>Directed</td>\n",
       "      <td>C2936346_C0032230</td>\n",
       "      <td>Edge from 22q11 Deletion Syndrome to Pleural Rub</td>\n",
       "      <td>1</td>\n",
       "    </tr>\n",
       "    <tr>\n",
       "      <th>3</th>\n",
       "      <td>C0001231</td>\n",
       "      <td>C0000737</td>\n",
       "      <td>Directed</td>\n",
       "      <td>C0001231_C0000737</td>\n",
       "      <td>Edge from ACTH Syndrome, Ectopic to Abdominal ...</td>\n",
       "      <td>1</td>\n",
       "    </tr>\n",
       "    <tr>\n",
       "      <th>4</th>\n",
       "      <td>C0001231</td>\n",
       "      <td>C0013491</td>\n",
       "      <td>Directed</td>\n",
       "      <td>C0001231_C0013491</td>\n",
       "      <td>Edge from ACTH Syndrome, Ectopic to Ecchymosis</td>\n",
       "      <td>1</td>\n",
       "    </tr>\n",
       "    <tr>\n",
       "      <th>...</th>\n",
       "      <td>...</td>\n",
       "      <td>...</td>\n",
       "      <td>...</td>\n",
       "      <td>...</td>\n",
       "      <td>...</td>\n",
       "      <td>...</td>\n",
       "    </tr>\n",
       "    <tr>\n",
       "      <th>37583</th>\n",
       "      <td>C1848525</td>\n",
       "      <td>C0029163</td>\n",
       "      <td>Directed</td>\n",
       "      <td>C1848525_C0029163</td>\n",
       "      <td>Edge from von Willebrand Disease, Recessive Fo...</td>\n",
       "      <td>1</td>\n",
       "    </tr>\n",
       "    <tr>\n",
       "      <th>37584</th>\n",
       "      <td>C1848525</td>\n",
       "      <td>C0034150</td>\n",
       "      <td>Directed</td>\n",
       "      <td>C1848525_C0034150</td>\n",
       "      <td>Edge from von Willebrand Disease, Recessive Fo...</td>\n",
       "      <td>1</td>\n",
       "    </tr>\n",
       "    <tr>\n",
       "      <th>37585</th>\n",
       "      <td>C1848525</td>\n",
       "      <td>C0857305</td>\n",
       "      <td>Directed</td>\n",
       "      <td>C1848525_C0857305</td>\n",
       "      <td>Edge from von Willebrand Disease, Recessive Fo...</td>\n",
       "      <td>1</td>\n",
       "    </tr>\n",
       "    <tr>\n",
       "      <th>37586</th>\n",
       "      <td>C1848525</td>\n",
       "      <td>C1403891</td>\n",
       "      <td>Directed</td>\n",
       "      <td>C1848525_C1403891</td>\n",
       "      <td>Edge from von Willebrand Disease, Recessive Fo...</td>\n",
       "      <td>1</td>\n",
       "    </tr>\n",
       "    <tr>\n",
       "      <th>37587</th>\n",
       "      <td>C1264040</td>\n",
       "      <td>C0860634</td>\n",
       "      <td>Directed</td>\n",
       "      <td>C1264040_C0860634</td>\n",
       "      <td>Edge from von Willebrand Disease, Type 2 to Ps...</td>\n",
       "      <td>1</td>\n",
       "    </tr>\n",
       "  </tbody>\n",
       "</table>\n",
       "<p>37588 rows × 6 columns</p>\n",
       "</div>"
      ],
      "text/plain": [
       "         Source    Target      Type                 Id  \\\n",
       "0      C2936346  C0751257  Directed  C2936346_C0751257   \n",
       "1      C2936346  C0553757  Directed  C2936346_C0553757   \n",
       "2      C2936346  C0032230  Directed  C2936346_C0032230   \n",
       "3      C0001231  C0000737  Directed  C0001231_C0000737   \n",
       "4      C0001231  C0013491  Directed  C0001231_C0013491   \n",
       "...         ...       ...       ...                ...   \n",
       "37583  C1848525  C0029163  Directed  C1848525_C0029163   \n",
       "37584  C1848525  C0034150  Directed  C1848525_C0034150   \n",
       "37585  C1848525  C0857305  Directed  C1848525_C0857305   \n",
       "37586  C1848525  C1403891  Directed  C1848525_C1403891   \n",
       "37587  C1264040  C0860634  Directed  C1264040_C0860634   \n",
       "\n",
       "                                                   Label  Weight  \n",
       "0      Edge from 22q11 Deletion Syndrome to Auditory ...       1  \n",
       "1      Edge from 22q11 Deletion Syndrome to Olfaction...       1  \n",
       "2       Edge from 22q11 Deletion Syndrome to Pleural Rub       1  \n",
       "3      Edge from ACTH Syndrome, Ectopic to Abdominal ...       1  \n",
       "4         Edge from ACTH Syndrome, Ectopic to Ecchymosis       1  \n",
       "...                                                  ...     ...  \n",
       "37583  Edge from von Willebrand Disease, Recessive Fo...       1  \n",
       "37584  Edge from von Willebrand Disease, Recessive Fo...       1  \n",
       "37585  Edge from von Willebrand Disease, Recessive Fo...       1  \n",
       "37586  Edge from von Willebrand Disease, Recessive Fo...       1  \n",
       "37587  Edge from von Willebrand Disease, Type 2 to Ps...       1  \n",
       "\n",
       "[37588 rows x 6 columns]"
      ]
     },
     "execution_count": 57,
     "metadata": {},
     "output_type": "execute_result"
    }
   ],
   "source": [
    "edges_table = edges_table[[\"Source\", \"Target\", \"Type\", \"Id\", \"Label\", \"Weight\"]]\n",
    "edges_table"
   ]
  },
  {
   "cell_type": "markdown",
   "id": "271c3f0d-7949-4daa-b796-90e76ec0f3fb",
   "metadata": {},
   "source": [
    "There are 37,588 connections between diseases and symptoms in the combined dataset."
   ]
  },
  {
   "cell_type": "code",
   "execution_count": 58,
   "id": "5ec99506-26f6-4446-923f-759badf1dceb",
   "metadata": {},
   "outputs": [
    {
     "data": {
      "text/plain": [
       "(37588, 6)"
      ]
     },
     "execution_count": 58,
     "metadata": {},
     "output_type": "execute_result"
    }
   ],
   "source": [
    "edges_table.shape"
   ]
  },
  {
   "cell_type": "markdown",
   "id": "c7f98d6f-6b37-45e5-b5f7-f9d24f63fe6c",
   "metadata": {},
   "source": [
    "Saving the nodes and edges table as csv, for import to Gephi:"
   ]
  },
  {
   "cell_type": "raw",
   "id": "027c744e-6764-4e98-8e2b-42f6cbb86532",
   "metadata": {},
   "source": [
    "nodes_table.to_csv(\"gephi_data/combined_nodes.csv\", index=False)\n",
    "edges_table.to_csv(\"gephi_data/combined_edges.csv\", index=False)"
   ]
  },
  {
   "cell_type": "markdown",
   "id": "a6f0821e-f34b-48a6-92c3-12bf508ab277",
   "metadata": {},
   "source": [
    "## References\n",
    "\n",
    "Zhou, X., Menche, J., Barabási, A. L., & Sharma, A. (2014). Human symptoms–disease network. Nature communications, 5(1), 1-10. Dataset released under Creative Commons Attribution v4.0 International licence.  \n",
    "DBPedia dataset (https://dbpedia.org/) released under Creative Commons Attribution-ShareAlike 3.0   \n",
    "Wang X, Chused A, Elhadad N, Friedman C, Markatou M. Automated knowledge acquisition from clinical narrative reports. AMIA Annu Symp Proc. 2008 Nov 6;2008:783-7. PMID: 18999156; PMCID: PMC2656103.\n",
    "\n",
    "The UMLS API: https://documentation.uts.nlm.nih.gov/rest/search/#searchType  \n",
    "*This product uses publicly available data from the U.S. National Library of Medicine (NLM), National Institutes of Health, Department of Health and Human Services; NLM is not responsible for the product and does not endorse or recommend this or any other product.*"
   ]
  }
 ],
 "metadata": {
  "kernelspec": {
   "display_name": "Python 3 (ipykernel)",
   "language": "python",
   "name": "python3"
  },
  "language_info": {
   "codemirror_mode": {
    "name": "ipython",
    "version": 3
   },
   "file_extension": ".py",
   "mimetype": "text/x-python",
   "name": "python",
   "nbconvert_exporter": "python",
   "pygments_lexer": "ipython3",
   "version": "3.9.12"
  }
 },
 "nbformat": 4,
 "nbformat_minor": 5
}
