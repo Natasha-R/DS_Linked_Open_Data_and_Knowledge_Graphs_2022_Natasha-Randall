{
 "cells": [
  {
   "cell_type": "markdown",
   "id": "ef81a564-9029-46cc-843e-d9d7c056d3e6",
   "metadata": {},
   "source": [
    "## Importing the Hospital Dataset"
   ]
  },
  {
   "cell_type": "code",
   "execution_count": 3,
   "id": "98543999-4821-4462-9b61-6084c070ebdf",
   "metadata": {},
   "outputs": [],
   "source": [
    "import pandas as pd\n",
    "import numpy as np"
   ]
  },
  {
   "cell_type": "markdown",
   "id": "e947bc31-dc80-4dc1-8c65-ff59b691e488",
   "metadata": {},
   "source": [
    "This dataset is taken from the paper \"Automated knowledge acquisition from clinical narrative reports\". (https://www.ncbi.nlm.nih.gov/pmc/articles/PMC2656103/)  \n",
    "The dataset can also be downloaded here: https://people.dbmi.columbia.edu/~friedma/Projects/DiseaseSymptomKB/"
   ]
  },
  {
   "cell_type": "code",
   "execution_count": 4,
   "id": "3bcf37e0-caf3-49ce-8d88-02a2d33f14c9",
   "metadata": {},
   "outputs": [],
   "source": [
    "h_data = pd.read_csv(\"data/hospital_original_data.csv\")"
   ]
  },
  {
   "cell_type": "markdown",
   "id": "8014f089-2a33-4dff-bbef-9e874d856c7b",
   "metadata": {},
   "source": [
    "## Cleaning the dataset"
   ]
  },
  {
   "cell_type": "markdown",
   "id": "d7653915-7aa9-41a7-bb8a-6d2dd0fad029",
   "metadata": {},
   "source": [
    "Splitting the data into separate columns:"
   ]
  },
  {
   "cell_type": "code",
   "execution_count": 5,
   "id": "198bec0e-6a93-4ace-8e8f-c3254fc3abb9",
   "metadata": {},
   "outputs": [],
   "source": [
    "h_data[\"Disease\"] = h_data[\"Disease\"].str.split(\"^\", expand=True)[0]\n",
    "h_data[\"Disease\"] = h_data[\"Disease\"].str.split(\":\", expand=True)[1]\n",
    "h_data[[\"disease_umls\", \"disease\"]] = h_data[\"Disease\"].str.split(\"_\", expand=True)"
   ]
  },
  {
   "cell_type": "code",
   "execution_count": 6,
   "id": "9f34c974-4281-451c-a730-f2792cc8bd95",
   "metadata": {},
   "outputs": [],
   "source": [
    "h_data[\"Symptom\"] = h_data[\"Symptom\"].str.split(\"^\", expand=True)[0]\n",
    "h_data[\"Symptom\"] = h_data[\"Symptom\"].str.split(\":\", expand=True)[1]\n",
    "h_data[[\"symptom_umls\", \"symptom\"]] = h_data[\"Symptom\"].str.split(\"_\", expand=True)"
   ]
  },
  {
   "cell_type": "code",
   "execution_count": 7,
   "id": "088777fb-eab6-4029-873f-ead0b1424477",
   "metadata": {},
   "outputs": [],
   "source": [
    "h_data = h_data[[\"disease\", \"symptom\", \"disease_umls\", \"symptom_umls\"]][:-1]"
   ]
  },
  {
   "cell_type": "code",
   "execution_count": 8,
   "id": "7ab4f7dc-2e57-478c-a443-7c8e647484ba",
   "metadata": {},
   "outputs": [
    {
     "data": {
      "text/html": [
       "<div>\n",
       "<style scoped>\n",
       "    .dataframe tbody tr th:only-of-type {\n",
       "        vertical-align: middle;\n",
       "    }\n",
       "\n",
       "    .dataframe tbody tr th {\n",
       "        vertical-align: top;\n",
       "    }\n",
       "\n",
       "    .dataframe thead th {\n",
       "        text-align: right;\n",
       "    }\n",
       "</style>\n",
       "<table border=\"1\" class=\"dataframe\">\n",
       "  <thead>\n",
       "    <tr style=\"text-align: right;\">\n",
       "      <th></th>\n",
       "      <th>disease</th>\n",
       "      <th>symptom</th>\n",
       "      <th>disease_umls</th>\n",
       "      <th>symptom_umls</th>\n",
       "    </tr>\n",
       "  </thead>\n",
       "  <tbody>\n",
       "    <tr>\n",
       "      <th>0</th>\n",
       "      <td>hypertensive disease</td>\n",
       "      <td>pain chest</td>\n",
       "      <td>C0020538</td>\n",
       "      <td>C0008031</td>\n",
       "    </tr>\n",
       "    <tr>\n",
       "      <th>1</th>\n",
       "      <td>hypertensive disease</td>\n",
       "      <td>shortness of breath</td>\n",
       "      <td>C0020538</td>\n",
       "      <td>C0392680</td>\n",
       "    </tr>\n",
       "    <tr>\n",
       "      <th>2</th>\n",
       "      <td>hypertensive disease</td>\n",
       "      <td>dizziness</td>\n",
       "      <td>C0020538</td>\n",
       "      <td>C0012833</td>\n",
       "    </tr>\n",
       "    <tr>\n",
       "      <th>3</th>\n",
       "      <td>hypertensive disease</td>\n",
       "      <td>asthenia</td>\n",
       "      <td>C0020538</td>\n",
       "      <td>C0004093</td>\n",
       "    </tr>\n",
       "    <tr>\n",
       "      <th>4</th>\n",
       "      <td>hypertensive disease</td>\n",
       "      <td>fall</td>\n",
       "      <td>C0020538</td>\n",
       "      <td>C0085639</td>\n",
       "    </tr>\n",
       "    <tr>\n",
       "      <th>...</th>\n",
       "      <td>...</td>\n",
       "      <td>...</td>\n",
       "      <td>...</td>\n",
       "      <td>...</td>\n",
       "    </tr>\n",
       "    <tr>\n",
       "      <th>1861</th>\n",
       "      <td>affect labile</td>\n",
       "      <td>bedridden</td>\n",
       "      <td>C0233472</td>\n",
       "      <td>C0425251</td>\n",
       "    </tr>\n",
       "    <tr>\n",
       "      <th>1862</th>\n",
       "      <td>affect labile</td>\n",
       "      <td>prostatism</td>\n",
       "      <td>C0233472</td>\n",
       "      <td>C0242453</td>\n",
       "    </tr>\n",
       "    <tr>\n",
       "      <th>1863</th>\n",
       "      <td>decubitus ulcer</td>\n",
       "      <td>systolic murmur</td>\n",
       "      <td>C0011127</td>\n",
       "      <td>C0232257</td>\n",
       "    </tr>\n",
       "    <tr>\n",
       "      <th>1864</th>\n",
       "      <td>decubitus ulcer</td>\n",
       "      <td>frail</td>\n",
       "      <td>C0011127</td>\n",
       "      <td>C0871754</td>\n",
       "    </tr>\n",
       "    <tr>\n",
       "      <th>1865</th>\n",
       "      <td>decubitus ulcer</td>\n",
       "      <td>fever</td>\n",
       "      <td>C0011127</td>\n",
       "      <td>C0015967</td>\n",
       "    </tr>\n",
       "  </tbody>\n",
       "</table>\n",
       "<p>1866 rows × 4 columns</p>\n",
       "</div>"
      ],
      "text/plain": [
       "                   disease              symptom disease_umls symptom_umls\n",
       "0     hypertensive disease           pain chest     C0020538     C0008031\n",
       "1     hypertensive disease  shortness of breath     C0020538     C0392680\n",
       "2     hypertensive disease            dizziness     C0020538     C0012833\n",
       "3     hypertensive disease             asthenia     C0020538     C0004093\n",
       "4     hypertensive disease                 fall     C0020538     C0085639\n",
       "...                    ...                  ...          ...          ...\n",
       "1861         affect labile            bedridden     C0233472     C0425251\n",
       "1862         affect labile           prostatism     C0233472     C0242453\n",
       "1863       decubitus ulcer      systolic murmur     C0011127     C0232257\n",
       "1864       decubitus ulcer                frail     C0011127     C0871754\n",
       "1865       decubitus ulcer                fever     C0011127     C0015967\n",
       "\n",
       "[1866 rows x 4 columns]"
      ]
     },
     "execution_count": 8,
     "metadata": {},
     "output_type": "execute_result"
    }
   ],
   "source": [
    "h_data"
   ]
  },
  {
   "cell_type": "markdown",
   "id": "d341ef69-5d3d-466f-952f-31248014b28c",
   "metadata": {},
   "source": [
    "## Checking the consistency of term names and UMLS codes"
   ]
  },
  {
   "cell_type": "code",
   "execution_count": 9,
   "id": "c9e7bcbf-c040-4930-a4c8-6533336f1f27",
   "metadata": {},
   "outputs": [
    {
     "data": {
      "text/plain": [
       "disease         133\n",
       "disease_umls    133\n",
       "symptom         397\n",
       "symptom_umls    397\n",
       "dtype: int64"
      ]
     },
     "execution_count": 9,
     "metadata": {},
     "output_type": "execute_result"
    }
   ],
   "source": [
    "h_data[[\"disease\", \"disease_umls\", \"symptom\", \"symptom_umls\"]].nunique()"
   ]
  },
  {
   "cell_type": "markdown",
   "id": "2e030b88-4d25-413e-a78b-8b37c2a77f0b",
   "metadata": {},
   "source": [
    "Distribution of the number of symptoms associated with each disease:"
   ]
  },
  {
   "cell_type": "code",
   "execution_count": 10,
   "id": "f59684de-a577-4846-b979-04b8d18e0889",
   "metadata": {},
   "outputs": [
    {
     "data": {
      "text/plain": [
       "<AxesSubplot:ylabel='Frequency'>"
      ]
     },
     "execution_count": 10,
     "metadata": {},
     "output_type": "execute_result"
    },
    {
     "data": {
      "image/png": "[encoded data removed]",
      "text/plain": [
       "<Figure size 432x288 with 1 Axes>"
      ]
     },
     "metadata": {
      "needs_background": "light"
     },
     "output_type": "display_data"
    }
   ],
   "source": [
    "h_data.groupby(\"disease\").size().plot.hist(edgecolor=\"white\")"
   ]
  },
  {
   "cell_type": "raw",
   "id": "3106157b-62b9-4a05-876f-650c044216c2",
   "metadata": {},
   "source": [
    "h_data.to_csv(\"data/hospital_data.csv\", index=False)"
   ]
  },
  {
   "cell_type": "markdown",
   "id": "869a79f6-8e87-4f90-837d-b25a1439e1bf",
   "metadata": {},
   "source": [
    "## References\n",
    "\n",
    "Wang X, Chused A, Elhadad N, Friedman C, Markatou M. Automated knowledge acquisition from clinical narrative reports. AMIA Annu Symp Proc. 2008 Nov 6;2008:783-7. PMID: 18999156; PMCID: PMC2656103."
   ]
  }
 ],
 "metadata": {
  "kernelspec": {
   "display_name": "Python 3 (ipykernel)",
   "language": "python",
   "name": "python3"
  },
  "language_info": {
   "codemirror_mode": {
    "name": "ipython",
    "version": 3
   },
   "file_extension": ".py",
   "mimetype": "text/x-python",
   "name": "python",
   "nbconvert_exporter": "python",
   "pygments_lexer": "ipython3",
   "version": "3.9.12"
  }
 },
 "nbformat": 4,
 "nbformat_minor": 5
}
