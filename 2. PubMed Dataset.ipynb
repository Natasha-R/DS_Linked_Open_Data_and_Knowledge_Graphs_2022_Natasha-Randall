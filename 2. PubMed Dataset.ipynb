{
 "cells": [
  {
   "cell_type": "code",
   "execution_count": 1,
   "id": "f18f8c62-f0b6-4b39-b7bb-0270b2a7d5a1",
   "metadata": {},
   "outputs": [],
   "source": [
    "import pandas as pd\n",
    "import numpy as np\n",
    "import requests\n",
    "import json\n",
    "import time"
   ]
  },
  {
   "cell_type": "markdown",
   "id": "a76ad94b-7b3d-4d4d-a999-8175358bb194",
   "metadata": {},
   "source": [
    "## Importing the PubMed Dataset"
   ]
  },
  {
   "cell_type": "markdown",
   "id": "8d1db898-1340-46af-926a-4edb159d8798",
   "metadata": {},
   "source": [
    "This dataset is taken from the paper \"Human symptoms-disease network\". (https://doi.org/10.1038/ncomms5212)  \n",
    "The dataset can also be downloaded here: https://static-content.springer.com/esm/art%3A10.1038%2Fncomms5212/MediaObjects/41467_2014_BFncomms5212_MOESM1045_ESM.txt"
   ]
  },
  {
   "cell_type": "code",
   "execution_count": 2,
   "id": "81b09203-78a1-4761-b728-87e79c014cdd",
   "metadata": {},
   "outputs": [],
   "source": [
    "pm_data = pd.read_csv(\"data/pubmed_data.csv\", sep='\\t')"
   ]
  },
  {
   "cell_type": "code",
   "execution_count": 3,
   "id": "280c7782-f717-4834-a621-4056b6ca4e1c",
   "metadata": {},
   "outputs": [
    {
     "data": {
      "text/html": [
       "<div>\n",
       "<style scoped>\n",
       "    .dataframe tbody tr th:only-of-type {\n",
       "        vertical-align: middle;\n",
       "    }\n",
       "\n",
       "    .dataframe tbody tr th {\n",
       "        vertical-align: top;\n",
       "    }\n",
       "\n",
       "    .dataframe thead th {\n",
       "        text-align: right;\n",
       "    }\n",
       "</style>\n",
       "<table border=\"1\" class=\"dataframe\">\n",
       "  <thead>\n",
       "    <tr style=\"text-align: right;\">\n",
       "      <th></th>\n",
       "      <th>MeSH Symptom Term</th>\n",
       "      <th>MeSH Disease Term</th>\n",
       "      <th>PubMed occurrence</th>\n",
       "      <th>TFIDF score</th>\n",
       "    </tr>\n",
       "  </thead>\n",
       "  <tbody>\n",
       "    <tr>\n",
       "      <th>0</th>\n",
       "      <td>Aging, Premature</td>\n",
       "      <td>Respiratory Syncytial Virus Infections</td>\n",
       "      <td>1</td>\n",
       "      <td>3.464551</td>\n",
       "    </tr>\n",
       "    <tr>\n",
       "      <th>1</th>\n",
       "      <td>Aging, Premature</td>\n",
       "      <td>Orthomyxoviridae Infections</td>\n",
       "      <td>1</td>\n",
       "      <td>3.464551</td>\n",
       "    </tr>\n",
       "    <tr>\n",
       "      <th>2</th>\n",
       "      <td>Aging, Premature</td>\n",
       "      <td>HIV Infections</td>\n",
       "      <td>3</td>\n",
       "      <td>10.393654</td>\n",
       "    </tr>\n",
       "    <tr>\n",
       "      <th>3</th>\n",
       "      <td>Aging, Premature</td>\n",
       "      <td>Acquired Immunodeficiency Syndrome</td>\n",
       "      <td>3</td>\n",
       "      <td>10.393654</td>\n",
       "    </tr>\n",
       "    <tr>\n",
       "      <th>4</th>\n",
       "      <td>Aging, Premature</td>\n",
       "      <td>Breast Neoplasms</td>\n",
       "      <td>1</td>\n",
       "      <td>3.464551</td>\n",
       "    </tr>\n",
       "    <tr>\n",
       "      <th>...</th>\n",
       "      <td>...</td>\n",
       "      <td>...</td>\n",
       "      <td>...</td>\n",
       "      <td>...</td>\n",
       "    </tr>\n",
       "    <tr>\n",
       "      <th>147973</th>\n",
       "      <td>Hirsutism</td>\n",
       "      <td>Tobacco Use Disorder</td>\n",
       "      <td>1</td>\n",
       "      <td>2.483722</td>\n",
       "    </tr>\n",
       "    <tr>\n",
       "      <th>147974</th>\n",
       "      <td>Hirsutism</td>\n",
       "      <td>Radius Fractures</td>\n",
       "      <td>1</td>\n",
       "      <td>2.483722</td>\n",
       "    </tr>\n",
       "    <tr>\n",
       "      <th>147975</th>\n",
       "      <td>Hirsutism</td>\n",
       "      <td>Burns</td>\n",
       "      <td>1</td>\n",
       "      <td>2.483722</td>\n",
       "    </tr>\n",
       "    <tr>\n",
       "      <th>147976</th>\n",
       "      <td>Hirsutism</td>\n",
       "      <td>Colles' Fracture</td>\n",
       "      <td>1</td>\n",
       "      <td>2.483722</td>\n",
       "    </tr>\n",
       "    <tr>\n",
       "      <th>147977</th>\n",
       "      <td>Hirsutism</td>\n",
       "      <td>Radiation Injuries</td>\n",
       "      <td>1</td>\n",
       "      <td>2.483722</td>\n",
       "    </tr>\n",
       "  </tbody>\n",
       "</table>\n",
       "<p>147978 rows × 4 columns</p>\n",
       "</div>"
      ],
      "text/plain": [
       "       MeSH Symptom Term                       MeSH Disease Term  \\\n",
       "0       Aging, Premature  Respiratory Syncytial Virus Infections   \n",
       "1       Aging, Premature             Orthomyxoviridae Infections   \n",
       "2       Aging, Premature                          HIV Infections   \n",
       "3       Aging, Premature      Acquired Immunodeficiency Syndrome   \n",
       "4       Aging, Premature                        Breast Neoplasms   \n",
       "...                  ...                                     ...   \n",
       "147973         Hirsutism                    Tobacco Use Disorder   \n",
       "147974         Hirsutism                        Radius Fractures   \n",
       "147975         Hirsutism                                   Burns   \n",
       "147976         Hirsutism                        Colles' Fracture   \n",
       "147977         Hirsutism                      Radiation Injuries   \n",
       "\n",
       "        PubMed occurrence  TFIDF score  \n",
       "0                       1     3.464551  \n",
       "1                       1     3.464551  \n",
       "2                       3    10.393654  \n",
       "3                       3    10.393654  \n",
       "4                       1     3.464551  \n",
       "...                   ...          ...  \n",
       "147973                  1     2.483722  \n",
       "147974                  1     2.483722  \n",
       "147975                  1     2.483722  \n",
       "147976                  1     2.483722  \n",
       "147977                  1     2.483722  \n",
       "\n",
       "[147978 rows x 4 columns]"
      ]
     },
     "execution_count": 3,
     "metadata": {},
     "output_type": "execute_result"
    }
   ],
   "source": [
    "pm_data"
   ]
  },
  {
   "cell_type": "markdown",
   "id": "daa28353-d925-412c-9925-90a6b1021e5c",
   "metadata": {},
   "source": [
    "## Adding the MeSH codes to the dataset"
   ]
  },
  {
   "cell_type": "markdown",
   "id": "e459acac-ac07-467a-8386-1b33f7d1e85a",
   "metadata": {},
   "source": [
    "The dataset contains the MeSH symptom term, but not the equivalent unique MeSH code. Therefore the codes must be added to the dataset.\n",
    "\n",
    "Creating a list of all of the MeSH terms that need to be encoded:"
   ]
  },
  {
   "cell_type": "code",
   "execution_count": 4,
   "id": "0c027a8c-fe02-487e-bbc3-0f7e541413d2",
   "metadata": {},
   "outputs": [],
   "source": [
    "all_conditions = list(set(list(pm_data[\"MeSH Symptom Term\"]) + list(pm_data[\"MeSH Disease Term\"])))"
   ]
  },
  {
   "cell_type": "code",
   "execution_count": 5,
   "id": "4a3ea7db-885a-4542-a835-a06659973ffd",
   "metadata": {},
   "outputs": [
    {
     "name": "stdout",
     "output_type": "stream",
     "text": [
      "There are 4293 different symptoms/diseases in the dataset.\n"
     ]
    }
   ],
   "source": [
    "print(\"There are\", len(all_conditions), \"different symptoms/diseases in the dataset.\")"
   ]
  },
  {
   "cell_type": "markdown",
   "id": "ce123bb5-706b-4bac-99e2-9ce249a6cf9e",
   "metadata": {},
   "source": [
    "### Using the  MeSH RDF API"
   ]
  },
  {
   "cell_type": "markdown",
   "id": "5376f5a2-922a-4db7-b3af-3c09e20bff26",
   "metadata": {},
   "source": [
    "Defining the MeSH lookup RDF API for the descriptor headings:"
   ]
  },
  {
   "cell_type": "code",
   "execution_count": 6,
   "id": "207c3441-0847-4b89-a717-4e88d99fc738",
   "metadata": {},
   "outputs": [],
   "source": [
    "api = \"https://id.nlm.nih.gov/mesh/lookup/descriptor\""
   ]
  },
  {
   "cell_type": "markdown",
   "id": "cf284094-d6f6-47a5-957d-3b48d3f93f6f",
   "metadata": {},
   "source": [
    "Using the API to retrieve the MeSH code for each of the MeSH terms in the dataset:"
   ]
  },
  {
   "cell_type": "raw",
   "id": "2af0f416-df8d-4478-9c19-7e9bed34cc83",
   "metadata": {},
   "source": [
    "all_conditions_code = []\n",
    "failed_conditions = []\n",
    "\n",
    "for condition in all_conditions:\n",
    "    time.sleep(0.06) # the API requests less than 20 requests per second be made\n",
    "    response = requests.get(api, params={\"label\": condition, \n",
    "                                         \"match\":\"exact\", \n",
    "                                         \"limit\":1}).json()\n",
    "    if len(response) > 0:\n",
    "        all_conditions_code.append((condition, response[0][\"resource\"][27:]))\n",
    "    else:\n",
    "        failed_conditions.append(condition)"
   ]
  },
  {
   "cell_type": "markdown",
   "id": "a7e22708-371a-4ebf-a9bc-50bb0992008b",
   "metadata": {},
   "source": [
    "58 symptoms/diseases terms were not recognised by the API and could not be mapped to any MeSH code. However this is only 1.35% of the dataset, therefore these entries will simply be dropped."
   ]
  },
  {
   "cell_type": "raw",
   "id": "31e5e90b-3c01-471d-9d15-468bf9d5e599",
   "metadata": {},
   "source": [
    "print(\"Failed mappings:\", len(failed_conditions), \"| Failed mapping as percentage of dataset:\", (\"%.2f\" % (len(failed_conditions)/len(all_conditions)*100)) + \"%\")"
   ]
  },
  {
   "cell_type": "code",
   "execution_count": 7,
   "id": "7dd7c90a-d665-4ac7-990b-46a8a3154e55",
   "metadata": {},
   "outputs": [
    {
     "name": "stdout",
     "output_type": "stream",
     "text": [
      "Failed mappings: 58 | Failed mapping as percentage of dataset: 1.35%\n"
     ]
    }
   ],
   "source": [
    "print(\"Failed mappings: 58 | Failed mapping as percentage of dataset: 1.35%\")"
   ]
  },
  {
   "cell_type": "markdown",
   "id": "d16f4d92-5847-4729-a2dc-a57b563f1697",
   "metadata": {},
   "source": [
    "Saving the results from the API:"
   ]
  },
  {
   "cell_type": "raw",
   "id": "8be2d9a3-efda-4703-948e-b094094e4cc1",
   "metadata": {},
   "source": [
    "conditions_map = pd.DataFrame(all_conditions_code, columns=[\"MeSH Term\", \"MeSH Code\"])\n",
    "failed_map = pd.DataFrame(failed_conditions, columns=[\"MeSH Term\"])"
   ]
  },
  {
   "cell_type": "raw",
   "id": "027a46be-b13b-411f-b615-22b731ddb598",
   "metadata": {},
   "source": [
    "conditions_map.to_csv(\"code_maps/terms_to_mesh_pm_dict.csv\", index=False)"
   ]
  },
  {
   "cell_type": "markdown",
   "id": "7a81f173-1d61-4be6-8ae8-b6d49b667891",
   "metadata": {},
   "source": [
    "### Mapping the MeSH terms to their respective MeSH codes"
   ]
  },
  {
   "cell_type": "code",
   "execution_count": 8,
   "id": "29714fa3-f65d-41be-94aa-bc8e7a0ec397",
   "metadata": {},
   "outputs": [],
   "source": [
    "conditions_map = pd.read_csv(\"code_maps/terms_to_mesh_pm_dict.csv\")"
   ]
  },
  {
   "cell_type": "code",
   "execution_count": 9,
   "id": "6d2713fb-1271-4465-9296-b195f48a480f",
   "metadata": {},
   "outputs": [
    {
     "data": {
      "text/html": [
       "<div>\n",
       "<style scoped>\n",
       "    .dataframe tbody tr th:only-of-type {\n",
       "        vertical-align: middle;\n",
       "    }\n",
       "\n",
       "    .dataframe tbody tr th {\n",
       "        vertical-align: top;\n",
       "    }\n",
       "\n",
       "    .dataframe thead th {\n",
       "        text-align: right;\n",
       "    }\n",
       "</style>\n",
       "<table border=\"1\" class=\"dataframe\">\n",
       "  <thead>\n",
       "    <tr style=\"text-align: right;\">\n",
       "      <th></th>\n",
       "      <th>MeSH Term</th>\n",
       "      <th>MeSH Code</th>\n",
       "    </tr>\n",
       "  </thead>\n",
       "  <tbody>\n",
       "    <tr>\n",
       "      <th>0</th>\n",
       "      <td>Nephroma, Mesoblastic</td>\n",
       "      <td>D018201</td>\n",
       "    </tr>\n",
       "    <tr>\n",
       "      <th>1</th>\n",
       "      <td>Limbic Encephalitis</td>\n",
       "      <td>D020363</td>\n",
       "    </tr>\n",
       "    <tr>\n",
       "      <th>2</th>\n",
       "      <td>Penile Induration</td>\n",
       "      <td>D010411</td>\n",
       "    </tr>\n",
       "    <tr>\n",
       "      <th>3</th>\n",
       "      <td>Coma</td>\n",
       "      <td>D003128</td>\n",
       "    </tr>\n",
       "    <tr>\n",
       "      <th>4</th>\n",
       "      <td>Dental Fistula</td>\n",
       "      <td>D003751</td>\n",
       "    </tr>\n",
       "    <tr>\n",
       "      <th>...</th>\n",
       "      <td>...</td>\n",
       "      <td>...</td>\n",
       "    </tr>\n",
       "    <tr>\n",
       "      <th>4230</th>\n",
       "      <td>Bulimia Nervosa</td>\n",
       "      <td>D052018</td>\n",
       "    </tr>\n",
       "    <tr>\n",
       "      <th>4231</th>\n",
       "      <td>Parotid Neoplasms</td>\n",
       "      <td>D010307</td>\n",
       "    </tr>\n",
       "    <tr>\n",
       "      <th>4232</th>\n",
       "      <td>Urination Disorders</td>\n",
       "      <td>D014555</td>\n",
       "    </tr>\n",
       "    <tr>\n",
       "      <th>4233</th>\n",
       "      <td>Whooping Cough</td>\n",
       "      <td>D014917</td>\n",
       "    </tr>\n",
       "    <tr>\n",
       "      <th>4234</th>\n",
       "      <td>Granuloma Annulare</td>\n",
       "      <td>D016460</td>\n",
       "    </tr>\n",
       "  </tbody>\n",
       "</table>\n",
       "<p>4235 rows × 2 columns</p>\n",
       "</div>"
      ],
      "text/plain": [
       "                  MeSH Term MeSH Code\n",
       "0     Nephroma, Mesoblastic   D018201\n",
       "1       Limbic Encephalitis   D020363\n",
       "2         Penile Induration   D010411\n",
       "3                      Coma   D003128\n",
       "4            Dental Fistula   D003751\n",
       "...                     ...       ...\n",
       "4230        Bulimia Nervosa   D052018\n",
       "4231      Parotid Neoplasms   D010307\n",
       "4232    Urination Disorders   D014555\n",
       "4233         Whooping Cough   D014917\n",
       "4234     Granuloma Annulare   D016460\n",
       "\n",
       "[4235 rows x 2 columns]"
      ]
     },
     "execution_count": 9,
     "metadata": {},
     "output_type": "execute_result"
    }
   ],
   "source": [
    "conditions_map"
   ]
  },
  {
   "cell_type": "markdown",
   "id": "c6844524-b78e-46be-9381-1163799f2df3",
   "metadata": {},
   "source": [
    "Creating a dictionary for mapping from the csv file:"
   ]
  },
  {
   "cell_type": "code",
   "execution_count": 10,
   "id": "4eca8567-49ba-498d-b553-cd6ecc9e3405",
   "metadata": {},
   "outputs": [],
   "source": [
    "conditions_map = conditions_map.set_index(\"MeSH Term\")[\"MeSH Code\"].to_dict()"
   ]
  },
  {
   "cell_type": "markdown",
   "id": "974a8d60-f5d7-467d-93d6-b69536144551",
   "metadata": {},
   "source": [
    "Mapping the terms to their respective codes:"
   ]
  },
  {
   "cell_type": "code",
   "execution_count": 11,
   "id": "e98b28fb-5ae8-4bc4-9bc0-e73906ddc544",
   "metadata": {},
   "outputs": [],
   "source": [
    "pm_data[\"MeSH Disease Code\"] = pm_data[\"MeSH Disease Term\"].map(conditions_map)\n",
    "pm_data[\"MeSH Symptom Code\"] = pm_data[\"MeSH Symptom Term\"].map(conditions_map)"
   ]
  },
  {
   "cell_type": "markdown",
   "id": "62a06db9-216e-46be-b44b-1e60a734aec4",
   "metadata": {},
   "source": [
    "Dropping the rows containing diseases/symptoms that could not be mapped:"
   ]
  },
  {
   "cell_type": "code",
   "execution_count": 12,
   "id": "0350bb67-cf0d-45fd-83fb-17123d93d9dc",
   "metadata": {},
   "outputs": [],
   "source": [
    "pm_data = pm_data.dropna(axis=0, how=\"any\")\n",
    "pm_data = pm_data.reset_index(drop=True)"
   ]
  },
  {
   "cell_type": "code",
   "execution_count": 13,
   "id": "c171ccf4-22ac-4550-bd5b-0183088f37c6",
   "metadata": {},
   "outputs": [
    {
     "data": {
      "text/html": [
       "<div>\n",
       "<style scoped>\n",
       "    .dataframe tbody tr th:only-of-type {\n",
       "        vertical-align: middle;\n",
       "    }\n",
       "\n",
       "    .dataframe tbody tr th {\n",
       "        vertical-align: top;\n",
       "    }\n",
       "\n",
       "    .dataframe thead th {\n",
       "        text-align: right;\n",
       "    }\n",
       "</style>\n",
       "<table border=\"1\" class=\"dataframe\">\n",
       "  <thead>\n",
       "    <tr style=\"text-align: right;\">\n",
       "      <th></th>\n",
       "      <th>MeSH Symptom Term</th>\n",
       "      <th>MeSH Disease Term</th>\n",
       "      <th>PubMed occurrence</th>\n",
       "      <th>TFIDF score</th>\n",
       "      <th>MeSH Disease Code</th>\n",
       "      <th>MeSH Symptom Code</th>\n",
       "    </tr>\n",
       "  </thead>\n",
       "  <tbody>\n",
       "    <tr>\n",
       "      <th>0</th>\n",
       "      <td>Aging, Premature</td>\n",
       "      <td>Respiratory Syncytial Virus Infections</td>\n",
       "      <td>1</td>\n",
       "      <td>3.464551</td>\n",
       "      <td>D018357</td>\n",
       "      <td>D019588</td>\n",
       "    </tr>\n",
       "    <tr>\n",
       "      <th>1</th>\n",
       "      <td>Aging, Premature</td>\n",
       "      <td>Orthomyxoviridae Infections</td>\n",
       "      <td>1</td>\n",
       "      <td>3.464551</td>\n",
       "      <td>D009976</td>\n",
       "      <td>D019588</td>\n",
       "    </tr>\n",
       "    <tr>\n",
       "      <th>2</th>\n",
       "      <td>Aging, Premature</td>\n",
       "      <td>HIV Infections</td>\n",
       "      <td>3</td>\n",
       "      <td>10.393654</td>\n",
       "      <td>D015658</td>\n",
       "      <td>D019588</td>\n",
       "    </tr>\n",
       "    <tr>\n",
       "      <th>3</th>\n",
       "      <td>Aging, Premature</td>\n",
       "      <td>Acquired Immunodeficiency Syndrome</td>\n",
       "      <td>3</td>\n",
       "      <td>10.393654</td>\n",
       "      <td>D000163</td>\n",
       "      <td>D019588</td>\n",
       "    </tr>\n",
       "    <tr>\n",
       "      <th>4</th>\n",
       "      <td>Aging, Premature</td>\n",
       "      <td>Breast Neoplasms</td>\n",
       "      <td>1</td>\n",
       "      <td>3.464551</td>\n",
       "      <td>D001943</td>\n",
       "      <td>D019588</td>\n",
       "    </tr>\n",
       "    <tr>\n",
       "      <th>...</th>\n",
       "      <td>...</td>\n",
       "      <td>...</td>\n",
       "      <td>...</td>\n",
       "      <td>...</td>\n",
       "      <td>...</td>\n",
       "      <td>...</td>\n",
       "    </tr>\n",
       "    <tr>\n",
       "      <th>140518</th>\n",
       "      <td>Hirsutism</td>\n",
       "      <td>Tobacco Use Disorder</td>\n",
       "      <td>1</td>\n",
       "      <td>2.483722</td>\n",
       "      <td>D014029</td>\n",
       "      <td>D006628</td>\n",
       "    </tr>\n",
       "    <tr>\n",
       "      <th>140519</th>\n",
       "      <td>Hirsutism</td>\n",
       "      <td>Radius Fractures</td>\n",
       "      <td>1</td>\n",
       "      <td>2.483722</td>\n",
       "      <td>D011885</td>\n",
       "      <td>D006628</td>\n",
       "    </tr>\n",
       "    <tr>\n",
       "      <th>140520</th>\n",
       "      <td>Hirsutism</td>\n",
       "      <td>Burns</td>\n",
       "      <td>1</td>\n",
       "      <td>2.483722</td>\n",
       "      <td>D002056</td>\n",
       "      <td>D006628</td>\n",
       "    </tr>\n",
       "    <tr>\n",
       "      <th>140521</th>\n",
       "      <td>Hirsutism</td>\n",
       "      <td>Colles' Fracture</td>\n",
       "      <td>1</td>\n",
       "      <td>2.483722</td>\n",
       "      <td>D003100</td>\n",
       "      <td>D006628</td>\n",
       "    </tr>\n",
       "    <tr>\n",
       "      <th>140522</th>\n",
       "      <td>Hirsutism</td>\n",
       "      <td>Radiation Injuries</td>\n",
       "      <td>1</td>\n",
       "      <td>2.483722</td>\n",
       "      <td>D011832</td>\n",
       "      <td>D006628</td>\n",
       "    </tr>\n",
       "  </tbody>\n",
       "</table>\n",
       "<p>140523 rows × 6 columns</p>\n",
       "</div>"
      ],
      "text/plain": [
       "       MeSH Symptom Term                       MeSH Disease Term  \\\n",
       "0       Aging, Premature  Respiratory Syncytial Virus Infections   \n",
       "1       Aging, Premature             Orthomyxoviridae Infections   \n",
       "2       Aging, Premature                          HIV Infections   \n",
       "3       Aging, Premature      Acquired Immunodeficiency Syndrome   \n",
       "4       Aging, Premature                        Breast Neoplasms   \n",
       "...                  ...                                     ...   \n",
       "140518         Hirsutism                    Tobacco Use Disorder   \n",
       "140519         Hirsutism                        Radius Fractures   \n",
       "140520         Hirsutism                                   Burns   \n",
       "140521         Hirsutism                        Colles' Fracture   \n",
       "140522         Hirsutism                      Radiation Injuries   \n",
       "\n",
       "        PubMed occurrence  TFIDF score MeSH Disease Code MeSH Symptom Code  \n",
       "0                       1     3.464551           D018357           D019588  \n",
       "1                       1     3.464551           D009976           D019588  \n",
       "2                       3    10.393654           D015658           D019588  \n",
       "3                       3    10.393654           D000163           D019588  \n",
       "4                       1     3.464551           D001943           D019588  \n",
       "...                   ...          ...               ...               ...  \n",
       "140518                  1     2.483722           D014029           D006628  \n",
       "140519                  1     2.483722           D011885           D006628  \n",
       "140520                  1     2.483722           D002056           D006628  \n",
       "140521                  1     2.483722           D003100           D006628  \n",
       "140522                  1     2.483722           D011832           D006628  \n",
       "\n",
       "[140523 rows x 6 columns]"
      ]
     },
     "execution_count": 13,
     "metadata": {},
     "output_type": "execute_result"
    }
   ],
   "source": [
    "pm_data"
   ]
  },
  {
   "cell_type": "markdown",
   "id": "6f4ce342-7dac-403e-a452-9de8d69e2ff8",
   "metadata": {},
   "source": [
    "## Mapping the MeSH codes to UMLS Codes"
   ]
  },
  {
   "cell_type": "markdown",
   "id": "0ce15006-cf86-438c-85ba-a8c8a55541d6",
   "metadata": {},
   "source": [
    "UMLS codes (Unified Medical Language System) are a standardised way of representing the diseases. Therefore the different codes used by different datasets will all be standardised to UMLS. The UMLS Metathesaurus API will be needed to map the MeSH code to UMLS codes."
   ]
  },
  {
   "cell_type": "markdown",
   "id": "824c4907-0f6e-472f-a7d9-b59c6d7afc71",
   "metadata": {},
   "source": [
    "Finding every unique MeSH code in the PubMed dataset:"
   ]
  },
  {
   "cell_type": "code",
   "execution_count": 14,
   "id": "2879dd2f-4461-4d4a-959c-6d4169a154de",
   "metadata": {},
   "outputs": [],
   "source": [
    "all_mesh = list(pd.concat([pm_data[\"MeSH Disease Code\"], pm_data[\"MeSH Symptom Code\"]]).unique())"
   ]
  },
  {
   "cell_type": "markdown",
   "id": "db007b2f-decc-4296-a23d-32e9f83d3e09",
   "metadata": {},
   "source": [
    "Define the UMLS API URI:"
   ]
  },
  {
   "cell_type": "code",
   "execution_count": 15,
   "id": "a6693b8c-127f-4578-af12-a2595155dca2",
   "metadata": {},
   "outputs": [],
   "source": [
    "api = \"https://uts-ws.nlm.nih.gov/rest/search/current\"\n",
    "apiKey = json.load(open(\"../umls_api_key.json\"))[\"apiKey\"]"
   ]
  },
  {
   "cell_type": "markdown",
   "id": "ee36d2c2-6bc2-44db-86dd-f32b2704558c",
   "metadata": {},
   "source": [
    "Finding the respective UMLS code for every MeSH code in the PubMed dataset:"
   ]
  },
  {
   "cell_type": "raw",
   "id": "93e24e0d-9838-470b-a7d9-7193bf94be2e",
   "metadata": {
    "tags": []
   },
   "source": [
    "mesh_to_umls = dict()\n",
    "failed_mesh_to_umls = list()\n",
    "for mesh_code in all_mesh:\n",
    "    time.sleep(0.06) # the API requests < 20 requests per second\n",
    "    response = requests.get(api, params={\"string\" : mesh_code,\n",
    "                                         \"inputType\" : \"code\",\n",
    "                                         \"includeObsolete\":True,\n",
    "                                         \"sabs\":\"MSH\",\n",
    "                                         \"searchType\":\"exact\",\n",
    "                                         \"pageSize\":1,\n",
    "                                         \"apiKey\":apiKey}).json()\n",
    "    if len(response[\"result\"][\"results\"]) == 0:\n",
    "        failed_mesh_to_umls.append(mesh_code)\n",
    "    else:\n",
    "        umls_code = response[\"result\"][\"results\"][0][\"ui\"]\n",
    "        mesh_to_umls[mesh_code] = umls_code\n",
    "pm_data[\"UMLS Disease Code\"] = pm_data[\"MeSH Disease Code\"].map(mesh_to_umls)\n",
    "pm_data[\"UMLS Symptom Code\"] = pm_data[\"MeSH Symptom Code\"].map(mesh_to_umls)"
   ]
  },
  {
   "cell_type": "markdown",
   "id": "620bfc49-9509-46cd-b85f-233cd3ba9153",
   "metadata": {},
   "source": [
    "One code was failed to be mapped:"
   ]
  },
  {
   "cell_type": "raw",
   "id": "84e635aa-b00a-4c89-86b4-929841511a1d",
   "metadata": {},
   "source": [
    "failed_mesh_to_umls"
   ]
  },
  {
   "cell_type": "code",
   "execution_count": 16,
   "id": "b03af30d-b03f-4afb-81f8-4e0c2b0043cc",
   "metadata": {},
   "outputs": [
    {
     "name": "stdout",
     "output_type": "stream",
     "text": [
      "['D018290']\n"
     ]
    }
   ],
   "source": [
    "print(\"['D018290']\")"
   ]
  },
  {
   "cell_type": "markdown",
   "id": "e744c79e-6ff9-4fba-a59f-930236ec29e6",
   "metadata": {},
   "source": [
    "Fixing it manually:"
   ]
  },
  {
   "cell_type": "raw",
   "id": "5a0d6d66-ad1e-4c34-bd3e-f4af34fa4ebf",
   "metadata": {},
   "source": [
    "mesh_to_umls[\"D018290\"] = \"C0206708\""
   ]
  },
  {
   "cell_type": "markdown",
   "id": "e7467ee4-2abc-4e66-8c46-ef26d42a420f",
   "metadata": {},
   "source": [
    "Saving the results so they can be reused:"
   ]
  },
  {
   "cell_type": "raw",
   "id": "00634982-d44e-4d05-9486-74188db8996b",
   "metadata": {},
   "source": [
    "mesh_to_umls_df = pd.DataFrame.from_dict(mesh_to_umls, orient=\"index\").reset_index()\n",
    "mesh_to_umls_df.columns = [\"MeSH Code\", \"UMLS Code\"]"
   ]
  },
  {
   "cell_type": "raw",
   "id": "8d69eeec-121a-4eb0-947d-147fe602b3a5",
   "metadata": {},
   "source": [
    "mesh_to_umls_df.to_csv(\"code_maps/mesh_to_umls_pm_dict.csv\", index=False)"
   ]
  },
  {
   "cell_type": "code",
   "execution_count": 17,
   "id": "edbf94d0-f0e2-4856-942a-bdbfc2ab3f16",
   "metadata": {},
   "outputs": [],
   "source": [
    "mesh_to_umls_df = pd.read_csv(\"code_maps/mesh_to_umls_pm_dict.csv\")\n",
    "mesh_to_umls = mesh_to_umls_df.set_index(\"MeSH Code\")[\"UMLS Code\"].to_dict()"
   ]
  },
  {
   "cell_type": "code",
   "execution_count": 18,
   "id": "3efb2d97-d8f5-439a-b706-cefa19b94276",
   "metadata": {},
   "outputs": [
    {
     "data": {
      "text/html": [
       "<div>\n",
       "<style scoped>\n",
       "    .dataframe tbody tr th:only-of-type {\n",
       "        vertical-align: middle;\n",
       "    }\n",
       "\n",
       "    .dataframe tbody tr th {\n",
       "        vertical-align: top;\n",
       "    }\n",
       "\n",
       "    .dataframe thead th {\n",
       "        text-align: right;\n",
       "    }\n",
       "</style>\n",
       "<table border=\"1\" class=\"dataframe\">\n",
       "  <thead>\n",
       "    <tr style=\"text-align: right;\">\n",
       "      <th></th>\n",
       "      <th>MeSH Code</th>\n",
       "      <th>UMLS Code</th>\n",
       "    </tr>\n",
       "  </thead>\n",
       "  <tbody>\n",
       "    <tr>\n",
       "      <th>0</th>\n",
       "      <td>D018357</td>\n",
       "      <td>C0035235</td>\n",
       "    </tr>\n",
       "    <tr>\n",
       "      <th>1</th>\n",
       "      <td>D009976</td>\n",
       "      <td>C0276357</td>\n",
       "    </tr>\n",
       "    <tr>\n",
       "      <th>2</th>\n",
       "      <td>D015658</td>\n",
       "      <td>C0019693</td>\n",
       "    </tr>\n",
       "    <tr>\n",
       "      <th>3</th>\n",
       "      <td>D000163</td>\n",
       "      <td>C0001175</td>\n",
       "    </tr>\n",
       "    <tr>\n",
       "      <th>4</th>\n",
       "      <td>D001943</td>\n",
       "      <td>C1257931</td>\n",
       "    </tr>\n",
       "  </tbody>\n",
       "</table>\n",
       "</div>"
      ],
      "text/plain": [
       "  MeSH Code UMLS Code\n",
       "0   D018357  C0035235\n",
       "1   D009976  C0276357\n",
       "2   D015658  C0019693\n",
       "3   D000163  C0001175\n",
       "4   D001943  C1257931"
      ]
     },
     "execution_count": 18,
     "metadata": {},
     "output_type": "execute_result"
    }
   ],
   "source": [
    "mesh_to_umls_df.head()"
   ]
  },
  {
   "cell_type": "markdown",
   "id": "b049955e-0e95-4ac6-90c5-b6e8b61d671d",
   "metadata": {},
   "source": [
    "Using the generated dictionary to map the MeSH codes to UMLS codes:"
   ]
  },
  {
   "cell_type": "code",
   "execution_count": 19,
   "id": "f568ba91-b918-4193-aa7a-52345f1364c0",
   "metadata": {},
   "outputs": [],
   "source": [
    "pm_data[\"UMLS Disease Code\"] = pm_data[\"MeSH Disease Code\"].map(mesh_to_umls)\n",
    "pm_data[\"UMLS Symptom Code\"] = pm_data[\"MeSH Symptom Code\"].map(mesh_to_umls)"
   ]
  },
  {
   "cell_type": "code",
   "execution_count": 20,
   "id": "d4d6b1d4-0e84-42de-a220-55fc9b2edda7",
   "metadata": {},
   "outputs": [
    {
     "data": {
      "text/html": [
       "<div>\n",
       "<style scoped>\n",
       "    .dataframe tbody tr th:only-of-type {\n",
       "        vertical-align: middle;\n",
       "    }\n",
       "\n",
       "    .dataframe tbody tr th {\n",
       "        vertical-align: top;\n",
       "    }\n",
       "\n",
       "    .dataframe thead th {\n",
       "        text-align: right;\n",
       "    }\n",
       "</style>\n",
       "<table border=\"1\" class=\"dataframe\">\n",
       "  <thead>\n",
       "    <tr style=\"text-align: right;\">\n",
       "      <th></th>\n",
       "      <th>MeSH Symptom Term</th>\n",
       "      <th>MeSH Disease Term</th>\n",
       "      <th>PubMed occurrence</th>\n",
       "      <th>TFIDF score</th>\n",
       "      <th>MeSH Disease Code</th>\n",
       "      <th>MeSH Symptom Code</th>\n",
       "      <th>UMLS Disease Code</th>\n",
       "      <th>UMLS Symptom Code</th>\n",
       "    </tr>\n",
       "  </thead>\n",
       "  <tbody>\n",
       "    <tr>\n",
       "      <th>0</th>\n",
       "      <td>Aging, Premature</td>\n",
       "      <td>Respiratory Syncytial Virus Infections</td>\n",
       "      <td>1</td>\n",
       "      <td>3.464551</td>\n",
       "      <td>D018357</td>\n",
       "      <td>D019588</td>\n",
       "      <td>C0035235</td>\n",
       "      <td>C0231341</td>\n",
       "    </tr>\n",
       "    <tr>\n",
       "      <th>1</th>\n",
       "      <td>Aging, Premature</td>\n",
       "      <td>Orthomyxoviridae Infections</td>\n",
       "      <td>1</td>\n",
       "      <td>3.464551</td>\n",
       "      <td>D009976</td>\n",
       "      <td>D019588</td>\n",
       "      <td>C0276357</td>\n",
       "      <td>C0231341</td>\n",
       "    </tr>\n",
       "    <tr>\n",
       "      <th>2</th>\n",
       "      <td>Aging, Premature</td>\n",
       "      <td>HIV Infections</td>\n",
       "      <td>3</td>\n",
       "      <td>10.393654</td>\n",
       "      <td>D015658</td>\n",
       "      <td>D019588</td>\n",
       "      <td>C0019693</td>\n",
       "      <td>C0231341</td>\n",
       "    </tr>\n",
       "    <tr>\n",
       "      <th>3</th>\n",
       "      <td>Aging, Premature</td>\n",
       "      <td>Acquired Immunodeficiency Syndrome</td>\n",
       "      <td>3</td>\n",
       "      <td>10.393654</td>\n",
       "      <td>D000163</td>\n",
       "      <td>D019588</td>\n",
       "      <td>C0001175</td>\n",
       "      <td>C0231341</td>\n",
       "    </tr>\n",
       "    <tr>\n",
       "      <th>4</th>\n",
       "      <td>Aging, Premature</td>\n",
       "      <td>Breast Neoplasms</td>\n",
       "      <td>1</td>\n",
       "      <td>3.464551</td>\n",
       "      <td>D001943</td>\n",
       "      <td>D019588</td>\n",
       "      <td>C1257931</td>\n",
       "      <td>C0231341</td>\n",
       "    </tr>\n",
       "    <tr>\n",
       "      <th>...</th>\n",
       "      <td>...</td>\n",
       "      <td>...</td>\n",
       "      <td>...</td>\n",
       "      <td>...</td>\n",
       "      <td>...</td>\n",
       "      <td>...</td>\n",
       "      <td>...</td>\n",
       "      <td>...</td>\n",
       "    </tr>\n",
       "    <tr>\n",
       "      <th>140518</th>\n",
       "      <td>Hirsutism</td>\n",
       "      <td>Tobacco Use Disorder</td>\n",
       "      <td>1</td>\n",
       "      <td>2.483722</td>\n",
       "      <td>D014029</td>\n",
       "      <td>D006628</td>\n",
       "      <td>C0028043</td>\n",
       "      <td>C0019572</td>\n",
       "    </tr>\n",
       "    <tr>\n",
       "      <th>140519</th>\n",
       "      <td>Hirsutism</td>\n",
       "      <td>Radius Fractures</td>\n",
       "      <td>1</td>\n",
       "      <td>2.483722</td>\n",
       "      <td>D011885</td>\n",
       "      <td>D006628</td>\n",
       "      <td>C0034628</td>\n",
       "      <td>C0019572</td>\n",
       "    </tr>\n",
       "    <tr>\n",
       "      <th>140520</th>\n",
       "      <td>Hirsutism</td>\n",
       "      <td>Burns</td>\n",
       "      <td>1</td>\n",
       "      <td>2.483722</td>\n",
       "      <td>D002056</td>\n",
       "      <td>D006628</td>\n",
       "      <td>C0006434</td>\n",
       "      <td>C0019572</td>\n",
       "    </tr>\n",
       "    <tr>\n",
       "      <th>140521</th>\n",
       "      <td>Hirsutism</td>\n",
       "      <td>Colles' Fracture</td>\n",
       "      <td>1</td>\n",
       "      <td>2.483722</td>\n",
       "      <td>D003100</td>\n",
       "      <td>D006628</td>\n",
       "      <td>C0009353</td>\n",
       "      <td>C0019572</td>\n",
       "    </tr>\n",
       "    <tr>\n",
       "      <th>140522</th>\n",
       "      <td>Hirsutism</td>\n",
       "      <td>Radiation Injuries</td>\n",
       "      <td>1</td>\n",
       "      <td>2.483722</td>\n",
       "      <td>D011832</td>\n",
       "      <td>D006628</td>\n",
       "      <td>C0034530</td>\n",
       "      <td>C0019572</td>\n",
       "    </tr>\n",
       "  </tbody>\n",
       "</table>\n",
       "<p>140523 rows × 8 columns</p>\n",
       "</div>"
      ],
      "text/plain": [
       "       MeSH Symptom Term                       MeSH Disease Term  \\\n",
       "0       Aging, Premature  Respiratory Syncytial Virus Infections   \n",
       "1       Aging, Premature             Orthomyxoviridae Infections   \n",
       "2       Aging, Premature                          HIV Infections   \n",
       "3       Aging, Premature      Acquired Immunodeficiency Syndrome   \n",
       "4       Aging, Premature                        Breast Neoplasms   \n",
       "...                  ...                                     ...   \n",
       "140518         Hirsutism                    Tobacco Use Disorder   \n",
       "140519         Hirsutism                        Radius Fractures   \n",
       "140520         Hirsutism                                   Burns   \n",
       "140521         Hirsutism                        Colles' Fracture   \n",
       "140522         Hirsutism                      Radiation Injuries   \n",
       "\n",
       "        PubMed occurrence  TFIDF score MeSH Disease Code MeSH Symptom Code  \\\n",
       "0                       1     3.464551           D018357           D019588   \n",
       "1                       1     3.464551           D009976           D019588   \n",
       "2                       3    10.393654           D015658           D019588   \n",
       "3                       3    10.393654           D000163           D019588   \n",
       "4                       1     3.464551           D001943           D019588   \n",
       "...                   ...          ...               ...               ...   \n",
       "140518                  1     2.483722           D014029           D006628   \n",
       "140519                  1     2.483722           D011885           D006628   \n",
       "140520                  1     2.483722           D002056           D006628   \n",
       "140521                  1     2.483722           D003100           D006628   \n",
       "140522                  1     2.483722           D011832           D006628   \n",
       "\n",
       "       UMLS Disease Code UMLS Symptom Code  \n",
       "0               C0035235          C0231341  \n",
       "1               C0276357          C0231341  \n",
       "2               C0019693          C0231341  \n",
       "3               C0001175          C0231341  \n",
       "4               C1257931          C0231341  \n",
       "...                  ...               ...  \n",
       "140518          C0028043          C0019572  \n",
       "140519          C0034628          C0019572  \n",
       "140520          C0006434          C0019572  \n",
       "140521          C0009353          C0019572  \n",
       "140522          C0034530          C0019572  \n",
       "\n",
       "[140523 rows x 8 columns]"
      ]
     },
     "execution_count": 20,
     "metadata": {},
     "output_type": "execute_result"
    }
   ],
   "source": [
    "pm_data"
   ]
  },
  {
   "cell_type": "markdown",
   "id": "bcf47208-db1e-48ff-96b0-04601057afc4",
   "metadata": {},
   "source": [
    "## Removing rows where the disease is the same as the symptom"
   ]
  },
  {
   "cell_type": "markdown",
   "id": "6cd28574-eee6-49f2-8a6f-8327e809caf1",
   "metadata": {},
   "source": [
    "Because a particular condition could be recorded as both a disease and a symptom, the datasets includes records of co-occurences of a disease with itself - with an extremely high TFIDF score. These associations add no information to the knowledge graph, thus they are removed."
   ]
  },
  {
   "cell_type": "code",
   "execution_count": 21,
   "id": "9273b5a4-b70b-4299-acaa-674d9010d385",
   "metadata": {},
   "outputs": [
    {
     "data": {
      "text/html": [
       "<div>\n",
       "<style scoped>\n",
       "    .dataframe tbody tr th:only-of-type {\n",
       "        vertical-align: middle;\n",
       "    }\n",
       "\n",
       "    .dataframe tbody tr th {\n",
       "        vertical-align: top;\n",
       "    }\n",
       "\n",
       "    .dataframe thead th {\n",
       "        text-align: right;\n",
       "    }\n",
       "</style>\n",
       "<table border=\"1\" class=\"dataframe\">\n",
       "  <thead>\n",
       "    <tr style=\"text-align: right;\">\n",
       "      <th></th>\n",
       "      <th>MeSH Symptom Term</th>\n",
       "      <th>MeSH Disease Term</th>\n",
       "      <th>PubMed occurrence</th>\n",
       "      <th>TFIDF score</th>\n",
       "      <th>MeSH Disease Code</th>\n",
       "      <th>MeSH Symptom Code</th>\n",
       "      <th>UMLS Disease Code</th>\n",
       "      <th>UMLS Symptom Code</th>\n",
       "    </tr>\n",
       "  </thead>\n",
       "  <tbody>\n",
       "    <tr>\n",
       "      <th>7725</th>\n",
       "      <td>Fetal Macrosomia</td>\n",
       "      <td>Fetal Macrosomia</td>\n",
       "      <td>581</td>\n",
       "      <td>1938.633227</td>\n",
       "      <td>D005320</td>\n",
       "      <td>D005320</td>\n",
       "      <td>C0015938</td>\n",
       "      <td>C0015938</td>\n",
       "    </tr>\n",
       "    <tr>\n",
       "      <th>12830</th>\n",
       "      <td>Obesity</td>\n",
       "      <td>Obesity</td>\n",
       "      <td>50200</td>\n",
       "      <td>41794.193312</td>\n",
       "      <td>D009765</td>\n",
       "      <td>D009765</td>\n",
       "      <td>C0028754</td>\n",
       "      <td>C0028754</td>\n",
       "    </tr>\n",
       "    <tr>\n",
       "      <th>13681</th>\n",
       "      <td>Obesity, Morbid</td>\n",
       "      <td>Obesity, Morbid</td>\n",
       "      <td>3011</td>\n",
       "      <td>5278.102197</td>\n",
       "      <td>D009767</td>\n",
       "      <td>D009767</td>\n",
       "      <td>C0028756</td>\n",
       "      <td>C0028756</td>\n",
       "    </tr>\n",
       "    <tr>\n",
       "      <th>14130</th>\n",
       "      <td>Cardiac Output, High</td>\n",
       "      <td>Cardiac Output, High</td>\n",
       "      <td>81</td>\n",
       "      <td>310.756006</td>\n",
       "      <td>D016534</td>\n",
       "      <td>D016534</td>\n",
       "      <td>C0085128</td>\n",
       "      <td>C0085128</td>\n",
       "    </tr>\n",
       "    <tr>\n",
       "      <th>14457</th>\n",
       "      <td>Cardiac Output, Low</td>\n",
       "      <td>Cardiac Output, Low</td>\n",
       "      <td>2997</td>\n",
       "      <td>6421.958562</td>\n",
       "      <td>D002303</td>\n",
       "      <td>D002303</td>\n",
       "      <td>C0007166</td>\n",
       "      <td>C0007166</td>\n",
       "    </tr>\n",
       "  </tbody>\n",
       "</table>\n",
       "</div>"
      ],
      "text/plain": [
       "          MeSH Symptom Term     MeSH Disease Term  PubMed occurrence  \\\n",
       "7725       Fetal Macrosomia      Fetal Macrosomia                581   \n",
       "12830               Obesity               Obesity              50200   \n",
       "13681       Obesity, Morbid       Obesity, Morbid               3011   \n",
       "14130  Cardiac Output, High  Cardiac Output, High                 81   \n",
       "14457   Cardiac Output, Low   Cardiac Output, Low               2997   \n",
       "\n",
       "        TFIDF score MeSH Disease Code MeSH Symptom Code UMLS Disease Code  \\\n",
       "7725    1938.633227           D005320           D005320          C0015938   \n",
       "12830  41794.193312           D009765           D009765          C0028754   \n",
       "13681   5278.102197           D009767           D009767          C0028756   \n",
       "14130    310.756006           D016534           D016534          C0085128   \n",
       "14457   6421.958562           D002303           D002303          C0007166   \n",
       "\n",
       "      UMLS Symptom Code  \n",
       "7725           C0015938  \n",
       "12830          C0028754  \n",
       "13681          C0028756  \n",
       "14130          C0085128  \n",
       "14457          C0007166  "
      ]
     },
     "execution_count": 21,
     "metadata": {},
     "output_type": "execute_result"
    }
   ],
   "source": [
    "pm_data[(pm_data[\"UMLS Disease Code\"]==pm_data[\"UMLS Symptom Code\"])].head()"
   ]
  },
  {
   "cell_type": "code",
   "execution_count": 22,
   "id": "78964bb9-bac4-44cc-acc3-67afb18de852",
   "metadata": {},
   "outputs": [],
   "source": [
    "pm_data = pm_data[~(pm_data[\"UMLS Disease Code\"]==pm_data[\"UMLS Symptom Code\"])].reset_index(drop=True)"
   ]
  },
  {
   "cell_type": "raw",
   "id": "b0582587-6e49-4ff6-9cec-a867b6752f65",
   "metadata": {},
   "source": [
    "pm_data.to_csv(\"data/pubmed_data_final.csv\", index=False)"
   ]
  },
  {
   "cell_type": "markdown",
   "id": "5682e9f9-1f5c-477b-8689-6ef72fdb7105",
   "metadata": {
    "tags": []
   },
   "source": [
    "## Reshaping the dataset to be suitable for import to Gephi"
   ]
  },
  {
   "cell_type": "markdown",
   "id": "16fa7836-cd85-4377-b407-08af8ab16f4c",
   "metadata": {},
   "source": [
    "The data must be reshaped into two different tables: one containing all of the nodes and their labels, and another describing the edges between the given nodes."
   ]
  },
  {
   "cell_type": "code",
   "execution_count": 23,
   "id": "caf59707-0dd0-4400-812b-74fc807051a8",
   "metadata": {},
   "outputs": [],
   "source": [
    "pm_data = pd.read_csv(\"data/pubmed_data_final.csv\")"
   ]
  },
  {
   "cell_type": "markdown",
   "id": "a24626ae-dfd7-456b-bfff-12c27d114735",
   "metadata": {},
   "source": [
    "### Creating a \"nodes\" table"
   ]
  },
  {
   "cell_type": "markdown",
   "id": "2fa1d23b-347f-4c6c-b1f8-1eac31674cd4",
   "metadata": {},
   "source": [
    "Creating a dataframe that contains only each \"node\", i.e. each disease or symptom, and its associated UMLS code. Starting by including all of the diseases:"
   ]
  },
  {
   "cell_type": "code",
   "execution_count": 24,
   "id": "2aadd0d1-b836-43ea-9092-985455b29f35",
   "metadata": {},
   "outputs": [],
   "source": [
    "nodes_table = pm_data.copy()[[\"UMLS Disease Code\", \"MeSH Disease Term\"]]\n",
    "nodes_table.columns = [\"Id\", \"Label\"]"
   ]
  },
  {
   "cell_type": "markdown",
   "id": "8eebc98b-a1d2-4093-a1d1-8f9226c40620",
   "metadata": {},
   "source": [
    "Then adding all of the symptoms to the table:"
   ]
  },
  {
   "cell_type": "code",
   "execution_count": 25,
   "id": "0b71b756-6f3f-4a12-95fc-46ce599ce931",
   "metadata": {},
   "outputs": [],
   "source": [
    "nodes_table = pd.concat([nodes_table, pm_data[[\"UMLS Symptom Code\", \"MeSH Symptom Term\"]].rename(columns={\"UMLS Symptom Code\":\"Id\", \"MeSH Symptom Term\":\"Label\"})])"
   ]
  },
  {
   "cell_type": "markdown",
   "id": "b14d8399-e4bb-4f17-905b-dbdc6ea97b02",
   "metadata": {},
   "source": [
    "241 conditions exist as both a symptom and a disease, thus the duplicate diseases/symptoms must be removed:"
   ]
  },
  {
   "cell_type": "code",
   "execution_count": 26,
   "id": "4cad672f-d08f-4df9-9099-2f1deb966cbe",
   "metadata": {},
   "outputs": [
    {
     "data": {
      "text/plain": [
       "241"
      ]
     },
     "execution_count": 26,
     "metadata": {},
     "output_type": "execute_result"
    }
   ],
   "source": [
    "len(set(pm_data[\"UMLS Disease Code\"]).intersection(set(pm_data[\"UMLS Symptom Code\"])))"
   ]
  },
  {
   "cell_type": "code",
   "execution_count": 27,
   "id": "ab52dd62-39d3-423f-a215-0abb984d00d9",
   "metadata": {},
   "outputs": [],
   "source": [
    "nodes_table = nodes_table.drop_duplicates()"
   ]
  },
  {
   "cell_type": "markdown",
   "id": "58f0dd44-b7a3-47ec-ab88-2b98c7d30bc6",
   "metadata": {},
   "source": [
    "Checking that the UMLS codes are all correct:"
   ]
  },
  {
   "cell_type": "code",
   "execution_count": 28,
   "id": "eafeadb8-a161-4fcc-af89-5c89f01d4fc3",
   "metadata": {},
   "outputs": [
    {
     "data": {
      "text/plain": [
       "Id       4222\n",
       "Label    4222\n",
       "dtype: int64"
      ]
     },
     "execution_count": 28,
     "metadata": {},
     "output_type": "execute_result"
    }
   ],
   "source": [
    "nodes_table.nunique()"
   ]
  },
  {
   "cell_type": "code",
   "execution_count": 29,
   "id": "e7926a61-5019-4adf-80cd-ea91292726a5",
   "metadata": {},
   "outputs": [
    {
     "data": {
      "text/html": [
       "<div>\n",
       "<style scoped>\n",
       "    .dataframe tbody tr th:only-of-type {\n",
       "        vertical-align: middle;\n",
       "    }\n",
       "\n",
       "    .dataframe tbody tr th {\n",
       "        vertical-align: top;\n",
       "    }\n",
       "\n",
       "    .dataframe thead th {\n",
       "        text-align: right;\n",
       "    }\n",
       "</style>\n",
       "<table border=\"1\" class=\"dataframe\">\n",
       "  <thead>\n",
       "    <tr style=\"text-align: right;\">\n",
       "      <th></th>\n",
       "      <th>MeSH Symptom Term</th>\n",
       "      <th>MeSH Disease Term</th>\n",
       "      <th>PubMed occurrence</th>\n",
       "      <th>TFIDF score</th>\n",
       "      <th>MeSH Disease Code</th>\n",
       "      <th>MeSH Symptom Code</th>\n",
       "      <th>UMLS Disease Code</th>\n",
       "      <th>UMLS Symptom Code</th>\n",
       "    </tr>\n",
       "  </thead>\n",
       "  <tbody>\n",
       "    <tr>\n",
       "      <th>0</th>\n",
       "      <td>Aging, Premature</td>\n",
       "      <td>Respiratory Syncytial Virus Infections</td>\n",
       "      <td>1</td>\n",
       "      <td>3.464551</td>\n",
       "      <td>D018357</td>\n",
       "      <td>D019588</td>\n",
       "      <td>C0035235</td>\n",
       "      <td>C0231341</td>\n",
       "    </tr>\n",
       "    <tr>\n",
       "      <th>1</th>\n",
       "      <td>Aging, Premature</td>\n",
       "      <td>Orthomyxoviridae Infections</td>\n",
       "      <td>1</td>\n",
       "      <td>3.464551</td>\n",
       "      <td>D009976</td>\n",
       "      <td>D019588</td>\n",
       "      <td>C0276357</td>\n",
       "      <td>C0231341</td>\n",
       "    </tr>\n",
       "    <tr>\n",
       "      <th>2</th>\n",
       "      <td>Aging, Premature</td>\n",
       "      <td>HIV Infections</td>\n",
       "      <td>3</td>\n",
       "      <td>10.393654</td>\n",
       "      <td>D015658</td>\n",
       "      <td>D019588</td>\n",
       "      <td>C0019693</td>\n",
       "      <td>C0231341</td>\n",
       "    </tr>\n",
       "    <tr>\n",
       "      <th>3</th>\n",
       "      <td>Aging, Premature</td>\n",
       "      <td>Acquired Immunodeficiency Syndrome</td>\n",
       "      <td>3</td>\n",
       "      <td>10.393654</td>\n",
       "      <td>D000163</td>\n",
       "      <td>D019588</td>\n",
       "      <td>C0001175</td>\n",
       "      <td>C0231341</td>\n",
       "    </tr>\n",
       "    <tr>\n",
       "      <th>4</th>\n",
       "      <td>Aging, Premature</td>\n",
       "      <td>Breast Neoplasms</td>\n",
       "      <td>1</td>\n",
       "      <td>3.464551</td>\n",
       "      <td>D001943</td>\n",
       "      <td>D019588</td>\n",
       "      <td>C1257931</td>\n",
       "      <td>C0231341</td>\n",
       "    </tr>\n",
       "    <tr>\n",
       "      <th>...</th>\n",
       "      <td>...</td>\n",
       "      <td>...</td>\n",
       "      <td>...</td>\n",
       "      <td>...</td>\n",
       "      <td>...</td>\n",
       "      <td>...</td>\n",
       "      <td>...</td>\n",
       "      <td>...</td>\n",
       "    </tr>\n",
       "    <tr>\n",
       "      <th>140275</th>\n",
       "      <td>Hirsutism</td>\n",
       "      <td>Tobacco Use Disorder</td>\n",
       "      <td>1</td>\n",
       "      <td>2.483722</td>\n",
       "      <td>D014029</td>\n",
       "      <td>D006628</td>\n",
       "      <td>C0028043</td>\n",
       "      <td>C0019572</td>\n",
       "    </tr>\n",
       "    <tr>\n",
       "      <th>140276</th>\n",
       "      <td>Hirsutism</td>\n",
       "      <td>Radius Fractures</td>\n",
       "      <td>1</td>\n",
       "      <td>2.483722</td>\n",
       "      <td>D011885</td>\n",
       "      <td>D006628</td>\n",
       "      <td>C0034628</td>\n",
       "      <td>C0019572</td>\n",
       "    </tr>\n",
       "    <tr>\n",
       "      <th>140277</th>\n",
       "      <td>Hirsutism</td>\n",
       "      <td>Burns</td>\n",
       "      <td>1</td>\n",
       "      <td>2.483722</td>\n",
       "      <td>D002056</td>\n",
       "      <td>D006628</td>\n",
       "      <td>C0006434</td>\n",
       "      <td>C0019572</td>\n",
       "    </tr>\n",
       "    <tr>\n",
       "      <th>140278</th>\n",
       "      <td>Hirsutism</td>\n",
       "      <td>Colles' Fracture</td>\n",
       "      <td>1</td>\n",
       "      <td>2.483722</td>\n",
       "      <td>D003100</td>\n",
       "      <td>D006628</td>\n",
       "      <td>C0009353</td>\n",
       "      <td>C0019572</td>\n",
       "    </tr>\n",
       "    <tr>\n",
       "      <th>140279</th>\n",
       "      <td>Hirsutism</td>\n",
       "      <td>Radiation Injuries</td>\n",
       "      <td>1</td>\n",
       "      <td>2.483722</td>\n",
       "      <td>D011832</td>\n",
       "      <td>D006628</td>\n",
       "      <td>C0034530</td>\n",
       "      <td>C0019572</td>\n",
       "    </tr>\n",
       "  </tbody>\n",
       "</table>\n",
       "<p>140280 rows × 8 columns</p>\n",
       "</div>"
      ],
      "text/plain": [
       "       MeSH Symptom Term                       MeSH Disease Term  \\\n",
       "0       Aging, Premature  Respiratory Syncytial Virus Infections   \n",
       "1       Aging, Premature             Orthomyxoviridae Infections   \n",
       "2       Aging, Premature                          HIV Infections   \n",
       "3       Aging, Premature      Acquired Immunodeficiency Syndrome   \n",
       "4       Aging, Premature                        Breast Neoplasms   \n",
       "...                  ...                                     ...   \n",
       "140275         Hirsutism                    Tobacco Use Disorder   \n",
       "140276         Hirsutism                        Radius Fractures   \n",
       "140277         Hirsutism                                   Burns   \n",
       "140278         Hirsutism                        Colles' Fracture   \n",
       "140279         Hirsutism                      Radiation Injuries   \n",
       "\n",
       "        PubMed occurrence  TFIDF score MeSH Disease Code MeSH Symptom Code  \\\n",
       "0                       1     3.464551           D018357           D019588   \n",
       "1                       1     3.464551           D009976           D019588   \n",
       "2                       3    10.393654           D015658           D019588   \n",
       "3                       3    10.393654           D000163           D019588   \n",
       "4                       1     3.464551           D001943           D019588   \n",
       "...                   ...          ...               ...               ...   \n",
       "140275                  1     2.483722           D014029           D006628   \n",
       "140276                  1     2.483722           D011885           D006628   \n",
       "140277                  1     2.483722           D002056           D006628   \n",
       "140278                  1     2.483722           D003100           D006628   \n",
       "140279                  1     2.483722           D011832           D006628   \n",
       "\n",
       "       UMLS Disease Code UMLS Symptom Code  \n",
       "0               C0035235          C0231341  \n",
       "1               C0276357          C0231341  \n",
       "2               C0019693          C0231341  \n",
       "3               C0001175          C0231341  \n",
       "4               C1257931          C0231341  \n",
       "...                  ...               ...  \n",
       "140275          C0028043          C0019572  \n",
       "140276          C0034628          C0019572  \n",
       "140277          C0006434          C0019572  \n",
       "140278          C0009353          C0019572  \n",
       "140279          C0034530          C0019572  \n",
       "\n",
       "[140280 rows x 8 columns]"
      ]
     },
     "execution_count": 29,
     "metadata": {},
     "output_type": "execute_result"
    }
   ],
   "source": [
    "pm_data"
   ]
  },
  {
   "cell_type": "markdown",
   "id": "8f4002c8-0a4e-4d5b-99a6-7d150a8e4a66",
   "metadata": {},
   "source": [
    "Adding an optional column, indicating whether a condition is either a disease or symptom. The classification is not clear cut, because some conditions can exist as either a disease or a symptom. \"Symptom\" is chosen to take priority, due to the fewer number of symptoms in the dataset."
   ]
  },
  {
   "cell_type": "code",
   "execution_count": 30,
   "id": "87ffe3b0-3a55-4727-9d0f-f4e9b51adc72",
   "metadata": {},
   "outputs": [
    {
     "name": "stdout",
     "output_type": "stream",
     "text": [
      "Number of symptoms: 316 \n",
      "Number of diseases: 4147 \n",
      "Number of conditions existing as both a symptom and disease: 241\n"
     ]
    }
   ],
   "source": [
    "print(\"Number of symptoms:\", pm_data[\"MeSH Symptom Term\"].nunique(), \n",
    "\"\\nNumber of diseases:\", pm_data[\"MeSH Disease Term\"].nunique(), \n",
    "\"\\nNumber of conditions existing as both a symptom and disease:\", len(set(pm_data[\"MeSH Symptom Term\"]).intersection(set(pm_data[\"MeSH Disease Term\"]))))"
   ]
  },
  {
   "cell_type": "code",
   "execution_count": 31,
   "id": "35d0537a-f90e-407b-987a-ed6352d3051b",
   "metadata": {},
   "outputs": [],
   "source": [
    "nodes_table[\"condition\"] = nodes_table[\"Id\"].isin(pm_data[\"UMLS Symptom Code\"].unique()).replace({True: \"symptom\", False: \"disease\"})"
   ]
  },
  {
   "cell_type": "code",
   "execution_count": 32,
   "id": "666c7206-f70b-45b6-b6bb-7fa0914a5dd0",
   "metadata": {},
   "outputs": [
    {
     "data": {
      "text/html": [
       "<div>\n",
       "<style scoped>\n",
       "    .dataframe tbody tr th:only-of-type {\n",
       "        vertical-align: middle;\n",
       "    }\n",
       "\n",
       "    .dataframe tbody tr th {\n",
       "        vertical-align: top;\n",
       "    }\n",
       "\n",
       "    .dataframe thead th {\n",
       "        text-align: right;\n",
       "    }\n",
       "</style>\n",
       "<table border=\"1\" class=\"dataframe\">\n",
       "  <thead>\n",
       "    <tr style=\"text-align: right;\">\n",
       "      <th></th>\n",
       "      <th>Id</th>\n",
       "      <th>Label</th>\n",
       "      <th>condition</th>\n",
       "    </tr>\n",
       "  </thead>\n",
       "  <tbody>\n",
       "    <tr>\n",
       "      <th>0</th>\n",
       "      <td>C0035235</td>\n",
       "      <td>Respiratory Syncytial Virus Infections</td>\n",
       "      <td>disease</td>\n",
       "    </tr>\n",
       "    <tr>\n",
       "      <th>1</th>\n",
       "      <td>C0276357</td>\n",
       "      <td>Orthomyxoviridae Infections</td>\n",
       "      <td>disease</td>\n",
       "    </tr>\n",
       "    <tr>\n",
       "      <th>2</th>\n",
       "      <td>C0019693</td>\n",
       "      <td>HIV Infections</td>\n",
       "      <td>disease</td>\n",
       "    </tr>\n",
       "    <tr>\n",
       "      <th>3</th>\n",
       "      <td>C0001175</td>\n",
       "      <td>Acquired Immunodeficiency Syndrome</td>\n",
       "      <td>disease</td>\n",
       "    </tr>\n",
       "    <tr>\n",
       "      <th>4</th>\n",
       "      <td>C1257931</td>\n",
       "      <td>Breast Neoplasms</td>\n",
       "      <td>disease</td>\n",
       "    </tr>\n",
       "    <tr>\n",
       "      <th>...</th>\n",
       "      <td>...</td>\n",
       "      <td>...</td>\n",
       "      <td>...</td>\n",
       "    </tr>\n",
       "    <tr>\n",
       "      <th>135787</th>\n",
       "      <td>C0020438</td>\n",
       "      <td>Hypercalciuria</td>\n",
       "      <td>symptom</td>\n",
       "    </tr>\n",
       "    <tr>\n",
       "      <th>135889</th>\n",
       "      <td>C0028734</td>\n",
       "      <td>Nocturia</td>\n",
       "      <td>symptom</td>\n",
       "    </tr>\n",
       "    <tr>\n",
       "      <th>136642</th>\n",
       "      <td>C0242453</td>\n",
       "      <td>Prostatism</td>\n",
       "      <td>symptom</td>\n",
       "    </tr>\n",
       "    <tr>\n",
       "      <th>139665</th>\n",
       "      <td>C1313921</td>\n",
       "      <td>Urinoma</td>\n",
       "      <td>symptom</td>\n",
       "    </tr>\n",
       "    <tr>\n",
       "      <th>139690</th>\n",
       "      <td>C1452968</td>\n",
       "      <td>Virilism</td>\n",
       "      <td>symptom</td>\n",
       "    </tr>\n",
       "  </tbody>\n",
       "</table>\n",
       "<p>4222 rows × 3 columns</p>\n",
       "</div>"
      ],
      "text/plain": [
       "              Id                                   Label condition\n",
       "0       C0035235  Respiratory Syncytial Virus Infections   disease\n",
       "1       C0276357             Orthomyxoviridae Infections   disease\n",
       "2       C0019693                          HIV Infections   disease\n",
       "3       C0001175      Acquired Immunodeficiency Syndrome   disease\n",
       "4       C1257931                        Breast Neoplasms   disease\n",
       "...          ...                                     ...       ...\n",
       "135787  C0020438                          Hypercalciuria   symptom\n",
       "135889  C0028734                                Nocturia   symptom\n",
       "136642  C0242453                              Prostatism   symptom\n",
       "139665  C1313921                                 Urinoma   symptom\n",
       "139690  C1452968                                Virilism   symptom\n",
       "\n",
       "[4222 rows x 3 columns]"
      ]
     },
     "execution_count": 32,
     "metadata": {},
     "output_type": "execute_result"
    }
   ],
   "source": [
    "nodes_table"
   ]
  },
  {
   "cell_type": "markdown",
   "id": "7da618ca-bd2c-48e3-9481-db0e1bf6e92d",
   "metadata": {},
   "source": [
    "There are 4222 unique diseases/symptoms in the PubMed dataset."
   ]
  },
  {
   "cell_type": "code",
   "execution_count": 33,
   "id": "a9e876f2-dd0d-4edb-a122-1cfd3aaeb480",
   "metadata": {},
   "outputs": [
    {
     "data": {
      "text/plain": [
       "(4222, 3)"
      ]
     },
     "execution_count": 33,
     "metadata": {},
     "output_type": "execute_result"
    }
   ],
   "source": [
    "nodes_table.shape"
   ]
  },
  {
   "cell_type": "markdown",
   "id": "d9ec3a08-3e3b-4324-8851-0fcb0ef11115",
   "metadata": {},
   "source": [
    "### Creating an \"edges\" table"
   ]
  },
  {
   "cell_type": "code",
   "execution_count": 34,
   "id": "db0a279a-4f38-49ae-aa44-87fad5b8c020",
   "metadata": {},
   "outputs": [],
   "source": [
    "edges_table = pm_data.copy()[[\"MeSH Symptom Term\", \"MeSH Disease Term\", \"TFIDF score\", \"UMLS Disease Code\", \"UMLS Symptom Code\"]]"
   ]
  },
  {
   "cell_type": "markdown",
   "id": "5d0a2974-82f4-4a87-ab08-2bed44a03f72",
   "metadata": {},
   "source": [
    "Creating columns for:  \n",
    "* the source and target of the edge (the two nodes)\n",
    "* the label for the edge \n",
    "* the unique id for the edge\n",
    "* the type of edge (directed)\n",
    "* the weight of the edge - I choose to  use the tfidf score for the edge weights"
   ]
  },
  {
   "cell_type": "code",
   "execution_count": 35,
   "id": "8a841328-f067-4bb3-9a2a-93cfd103a9a6",
   "metadata": {},
   "outputs": [
    {
     "data": {
      "text/html": [
       "<div>\n",
       "<style scoped>\n",
       "    .dataframe tbody tr th:only-of-type {\n",
       "        vertical-align: middle;\n",
       "    }\n",
       "\n",
       "    .dataframe tbody tr th {\n",
       "        vertical-align: top;\n",
       "    }\n",
       "\n",
       "    .dataframe thead th {\n",
       "        text-align: right;\n",
       "    }\n",
       "</style>\n",
       "<table border=\"1\" class=\"dataframe\">\n",
       "  <thead>\n",
       "    <tr style=\"text-align: right;\">\n",
       "      <th></th>\n",
       "      <th>MeSH Symptom Term</th>\n",
       "      <th>MeSH Disease Term</th>\n",
       "      <th>TFIDF score</th>\n",
       "      <th>UMLS Disease Code</th>\n",
       "      <th>UMLS Symptom Code</th>\n",
       "    </tr>\n",
       "  </thead>\n",
       "  <tbody>\n",
       "    <tr>\n",
       "      <th>0</th>\n",
       "      <td>Aging, Premature</td>\n",
       "      <td>Respiratory Syncytial Virus Infections</td>\n",
       "      <td>3.464551</td>\n",
       "      <td>C0035235</td>\n",
       "      <td>C0231341</td>\n",
       "    </tr>\n",
       "    <tr>\n",
       "      <th>1</th>\n",
       "      <td>Aging, Premature</td>\n",
       "      <td>Orthomyxoviridae Infections</td>\n",
       "      <td>3.464551</td>\n",
       "      <td>C0276357</td>\n",
       "      <td>C0231341</td>\n",
       "    </tr>\n",
       "    <tr>\n",
       "      <th>2</th>\n",
       "      <td>Aging, Premature</td>\n",
       "      <td>HIV Infections</td>\n",
       "      <td>10.393654</td>\n",
       "      <td>C0019693</td>\n",
       "      <td>C0231341</td>\n",
       "    </tr>\n",
       "    <tr>\n",
       "      <th>3</th>\n",
       "      <td>Aging, Premature</td>\n",
       "      <td>Acquired Immunodeficiency Syndrome</td>\n",
       "      <td>10.393654</td>\n",
       "      <td>C0001175</td>\n",
       "      <td>C0231341</td>\n",
       "    </tr>\n",
       "    <tr>\n",
       "      <th>4</th>\n",
       "      <td>Aging, Premature</td>\n",
       "      <td>Breast Neoplasms</td>\n",
       "      <td>3.464551</td>\n",
       "      <td>C1257931</td>\n",
       "      <td>C0231341</td>\n",
       "    </tr>\n",
       "    <tr>\n",
       "      <th>...</th>\n",
       "      <td>...</td>\n",
       "      <td>...</td>\n",
       "      <td>...</td>\n",
       "      <td>...</td>\n",
       "      <td>...</td>\n",
       "    </tr>\n",
       "    <tr>\n",
       "      <th>140275</th>\n",
       "      <td>Hirsutism</td>\n",
       "      <td>Tobacco Use Disorder</td>\n",
       "      <td>2.483722</td>\n",
       "      <td>C0028043</td>\n",
       "      <td>C0019572</td>\n",
       "    </tr>\n",
       "    <tr>\n",
       "      <th>140276</th>\n",
       "      <td>Hirsutism</td>\n",
       "      <td>Radius Fractures</td>\n",
       "      <td>2.483722</td>\n",
       "      <td>C0034628</td>\n",
       "      <td>C0019572</td>\n",
       "    </tr>\n",
       "    <tr>\n",
       "      <th>140277</th>\n",
       "      <td>Hirsutism</td>\n",
       "      <td>Burns</td>\n",
       "      <td>2.483722</td>\n",
       "      <td>C0006434</td>\n",
       "      <td>C0019572</td>\n",
       "    </tr>\n",
       "    <tr>\n",
       "      <th>140278</th>\n",
       "      <td>Hirsutism</td>\n",
       "      <td>Colles' Fracture</td>\n",
       "      <td>2.483722</td>\n",
       "      <td>C0009353</td>\n",
       "      <td>C0019572</td>\n",
       "    </tr>\n",
       "    <tr>\n",
       "      <th>140279</th>\n",
       "      <td>Hirsutism</td>\n",
       "      <td>Radiation Injuries</td>\n",
       "      <td>2.483722</td>\n",
       "      <td>C0034530</td>\n",
       "      <td>C0019572</td>\n",
       "    </tr>\n",
       "  </tbody>\n",
       "</table>\n",
       "<p>140280 rows × 5 columns</p>\n",
       "</div>"
      ],
      "text/plain": [
       "       MeSH Symptom Term                       MeSH Disease Term  TFIDF score  \\\n",
       "0       Aging, Premature  Respiratory Syncytial Virus Infections     3.464551   \n",
       "1       Aging, Premature             Orthomyxoviridae Infections     3.464551   \n",
       "2       Aging, Premature                          HIV Infections    10.393654   \n",
       "3       Aging, Premature      Acquired Immunodeficiency Syndrome    10.393654   \n",
       "4       Aging, Premature                        Breast Neoplasms     3.464551   \n",
       "...                  ...                                     ...          ...   \n",
       "140275         Hirsutism                    Tobacco Use Disorder     2.483722   \n",
       "140276         Hirsutism                        Radius Fractures     2.483722   \n",
       "140277         Hirsutism                                   Burns     2.483722   \n",
       "140278         Hirsutism                        Colles' Fracture     2.483722   \n",
       "140279         Hirsutism                      Radiation Injuries     2.483722   \n",
       "\n",
       "       UMLS Disease Code UMLS Symptom Code  \n",
       "0               C0035235          C0231341  \n",
       "1               C0276357          C0231341  \n",
       "2               C0019693          C0231341  \n",
       "3               C0001175          C0231341  \n",
       "4               C1257931          C0231341  \n",
       "...                  ...               ...  \n",
       "140275          C0028043          C0019572  \n",
       "140276          C0034628          C0019572  \n",
       "140277          C0006434          C0019572  \n",
       "140278          C0009353          C0019572  \n",
       "140279          C0034530          C0019572  \n",
       "\n",
       "[140280 rows x 5 columns]"
      ]
     },
     "execution_count": 35,
     "metadata": {},
     "output_type": "execute_result"
    }
   ],
   "source": [
    "edges_table"
   ]
  },
  {
   "cell_type": "code",
   "execution_count": 36,
   "id": "c69c6d84-b166-4f42-8156-c80dc6bde536",
   "metadata": {},
   "outputs": [],
   "source": [
    "edges_table.columns = [\"symptom\", \"disease\", \"Weight\", \"Source\", \"Target\"]\n",
    "edges_table[\"Label\"] = \"Edge from \" + edges_table[\"disease\"] + \" to \" + edges_table[\"symptom\"]\n",
    "edges_table[\"Id\"] = edges_table[\"Source\"] + \"_\" + edges_table[\"Target\"]\n",
    "edges_table[\"Type\"] = \"Directed\""
   ]
  },
  {
   "cell_type": "code",
   "execution_count": 37,
   "id": "b00dbfb9-b38e-4599-95bc-b7cd8f2c5a31",
   "metadata": {},
   "outputs": [
    {
     "data": {
      "text/html": [
       "<div>\n",
       "<style scoped>\n",
       "    .dataframe tbody tr th:only-of-type {\n",
       "        vertical-align: middle;\n",
       "    }\n",
       "\n",
       "    .dataframe tbody tr th {\n",
       "        vertical-align: top;\n",
       "    }\n",
       "\n",
       "    .dataframe thead th {\n",
       "        text-align: right;\n",
       "    }\n",
       "</style>\n",
       "<table border=\"1\" class=\"dataframe\">\n",
       "  <thead>\n",
       "    <tr style=\"text-align: right;\">\n",
       "      <th></th>\n",
       "      <th>Source</th>\n",
       "      <th>Target</th>\n",
       "      <th>Type</th>\n",
       "      <th>Id</th>\n",
       "      <th>Label</th>\n",
       "      <th>Weight</th>\n",
       "    </tr>\n",
       "  </thead>\n",
       "  <tbody>\n",
       "    <tr>\n",
       "      <th>0</th>\n",
       "      <td>C0035235</td>\n",
       "      <td>C0231341</td>\n",
       "      <td>Directed</td>\n",
       "      <td>C0035235_C0231341</td>\n",
       "      <td>Edge from Respiratory Syncytial Virus Infectio...</td>\n",
       "      <td>3.464551</td>\n",
       "    </tr>\n",
       "    <tr>\n",
       "      <th>1</th>\n",
       "      <td>C0276357</td>\n",
       "      <td>C0231341</td>\n",
       "      <td>Directed</td>\n",
       "      <td>C0276357_C0231341</td>\n",
       "      <td>Edge from Orthomyxoviridae Infections to Aging...</td>\n",
       "      <td>3.464551</td>\n",
       "    </tr>\n",
       "    <tr>\n",
       "      <th>2</th>\n",
       "      <td>C0019693</td>\n",
       "      <td>C0231341</td>\n",
       "      <td>Directed</td>\n",
       "      <td>C0019693_C0231341</td>\n",
       "      <td>Edge from HIV Infections to Aging, Premature</td>\n",
       "      <td>10.393654</td>\n",
       "    </tr>\n",
       "    <tr>\n",
       "      <th>3</th>\n",
       "      <td>C0001175</td>\n",
       "      <td>C0231341</td>\n",
       "      <td>Directed</td>\n",
       "      <td>C0001175_C0231341</td>\n",
       "      <td>Edge from Acquired Immunodeficiency Syndrome t...</td>\n",
       "      <td>10.393654</td>\n",
       "    </tr>\n",
       "    <tr>\n",
       "      <th>4</th>\n",
       "      <td>C1257931</td>\n",
       "      <td>C0231341</td>\n",
       "      <td>Directed</td>\n",
       "      <td>C1257931_C0231341</td>\n",
       "      <td>Edge from Breast Neoplasms to Aging, Premature</td>\n",
       "      <td>3.464551</td>\n",
       "    </tr>\n",
       "    <tr>\n",
       "      <th>...</th>\n",
       "      <td>...</td>\n",
       "      <td>...</td>\n",
       "      <td>...</td>\n",
       "      <td>...</td>\n",
       "      <td>...</td>\n",
       "      <td>...</td>\n",
       "    </tr>\n",
       "    <tr>\n",
       "      <th>140275</th>\n",
       "      <td>C0028043</td>\n",
       "      <td>C0019572</td>\n",
       "      <td>Directed</td>\n",
       "      <td>C0028043_C0019572</td>\n",
       "      <td>Edge from Tobacco Use Disorder to Hirsutism</td>\n",
       "      <td>2.483722</td>\n",
       "    </tr>\n",
       "    <tr>\n",
       "      <th>140276</th>\n",
       "      <td>C0034628</td>\n",
       "      <td>C0019572</td>\n",
       "      <td>Directed</td>\n",
       "      <td>C0034628_C0019572</td>\n",
       "      <td>Edge from Radius Fractures to Hirsutism</td>\n",
       "      <td>2.483722</td>\n",
       "    </tr>\n",
       "    <tr>\n",
       "      <th>140277</th>\n",
       "      <td>C0006434</td>\n",
       "      <td>C0019572</td>\n",
       "      <td>Directed</td>\n",
       "      <td>C0006434_C0019572</td>\n",
       "      <td>Edge from Burns to Hirsutism</td>\n",
       "      <td>2.483722</td>\n",
       "    </tr>\n",
       "    <tr>\n",
       "      <th>140278</th>\n",
       "      <td>C0009353</td>\n",
       "      <td>C0019572</td>\n",
       "      <td>Directed</td>\n",
       "      <td>C0009353_C0019572</td>\n",
       "      <td>Edge from Colles' Fracture to Hirsutism</td>\n",
       "      <td>2.483722</td>\n",
       "    </tr>\n",
       "    <tr>\n",
       "      <th>140279</th>\n",
       "      <td>C0034530</td>\n",
       "      <td>C0019572</td>\n",
       "      <td>Directed</td>\n",
       "      <td>C0034530_C0019572</td>\n",
       "      <td>Edge from Radiation Injuries to Hirsutism</td>\n",
       "      <td>2.483722</td>\n",
       "    </tr>\n",
       "  </tbody>\n",
       "</table>\n",
       "<p>140280 rows × 6 columns</p>\n",
       "</div>"
      ],
      "text/plain": [
       "          Source    Target      Type                 Id  \\\n",
       "0       C0035235  C0231341  Directed  C0035235_C0231341   \n",
       "1       C0276357  C0231341  Directed  C0276357_C0231341   \n",
       "2       C0019693  C0231341  Directed  C0019693_C0231341   \n",
       "3       C0001175  C0231341  Directed  C0001175_C0231341   \n",
       "4       C1257931  C0231341  Directed  C1257931_C0231341   \n",
       "...          ...       ...       ...                ...   \n",
       "140275  C0028043  C0019572  Directed  C0028043_C0019572   \n",
       "140276  C0034628  C0019572  Directed  C0034628_C0019572   \n",
       "140277  C0006434  C0019572  Directed  C0006434_C0019572   \n",
       "140278  C0009353  C0019572  Directed  C0009353_C0019572   \n",
       "140279  C0034530  C0019572  Directed  C0034530_C0019572   \n",
       "\n",
       "                                                    Label     Weight  \n",
       "0       Edge from Respiratory Syncytial Virus Infectio...   3.464551  \n",
       "1       Edge from Orthomyxoviridae Infections to Aging...   3.464551  \n",
       "2            Edge from HIV Infections to Aging, Premature  10.393654  \n",
       "3       Edge from Acquired Immunodeficiency Syndrome t...  10.393654  \n",
       "4          Edge from Breast Neoplasms to Aging, Premature   3.464551  \n",
       "...                                                   ...        ...  \n",
       "140275        Edge from Tobacco Use Disorder to Hirsutism   2.483722  \n",
       "140276            Edge from Radius Fractures to Hirsutism   2.483722  \n",
       "140277                       Edge from Burns to Hirsutism   2.483722  \n",
       "140278            Edge from Colles' Fracture to Hirsutism   2.483722  \n",
       "140279          Edge from Radiation Injuries to Hirsutism   2.483722  \n",
       "\n",
       "[140280 rows x 6 columns]"
      ]
     },
     "execution_count": 37,
     "metadata": {},
     "output_type": "execute_result"
    }
   ],
   "source": [
    "edges_table = edges_table[[\"Source\", \"Target\", \"Type\", \"Id\", \"Label\", \"Weight\"]]\n",
    "edges_table"
   ]
  },
  {
   "cell_type": "markdown",
   "id": "4bcb2126-851b-4386-a234-844b5e802dff",
   "metadata": {},
   "source": [
    "There are 140,523 connections between diseases and symptoms in the PubMed dataset."
   ]
  },
  {
   "cell_type": "code",
   "execution_count": 38,
   "id": "57f8e943-00ba-46fe-901d-b398405a1a26",
   "metadata": {},
   "outputs": [
    {
     "data": {
      "text/plain": [
       "(140280, 6)"
      ]
     },
     "execution_count": 38,
     "metadata": {},
     "output_type": "execute_result"
    }
   ],
   "source": [
    "edges_table.shape"
   ]
  },
  {
   "cell_type": "markdown",
   "id": "10dd8bfc-264b-4cc3-8420-1154e57bc9e5",
   "metadata": {},
   "source": [
    "Most of the diseases in the PubMed dataset are associated only with very few symptoms, however there are many diseases with up to 50, or even 100 symptoms associated with them."
   ]
  },
  {
   "cell_type": "code",
   "execution_count": 39,
   "id": "21485e70-2a98-4e7f-a87a-01cbda9647b5",
   "metadata": {},
   "outputs": [
    {
     "data": {
      "text/plain": [
       "<AxesSubplot:ylabel='Frequency'>"
      ]
     },
     "execution_count": 39,
     "metadata": {},
     "output_type": "execute_result"
    },
    {
     "data": {
      "image/png": "[encoded data removed]",
      "text/plain": [
       "<Figure size 432x288 with 1 Axes>"
      ]
     },
     "metadata": {
      "needs_background": "light"
     },
     "output_type": "display_data"
    }
   ],
   "source": [
    "edges_table.groupby(\"Source\").count()[\"Target\"].plot.hist(edgecolor=\"white\", bins=25)"
   ]
  },
  {
   "cell_type": "markdown",
   "id": "3f8a2739-6ef4-455f-a03a-9970b150ef71",
   "metadata": {},
   "source": [
    "Saving the nodes and edges table as csv, for import to Gephi:"
   ]
  },
  {
   "cell_type": "raw",
   "id": "d117fee8-45ce-4845-a78d-b2cbb5d653ab",
   "metadata": {},
   "source": [
    "nodes_table.to_csv(\"gephi_data/pubmed_nodes.csv\", index=False)\n",
    "edges_table.to_csv(\"gephi_data/pubmed_edges.csv\", index=False)"
   ]
  },
  {
   "cell_type": "markdown",
   "id": "f407221a-6d5c-4f5d-bea7-9914a26afcff",
   "metadata": {},
   "source": [
    "## References"
   ]
  },
  {
   "cell_type": "markdown",
   "id": "0b1a0175-1578-492d-b632-ff9c2610fe34",
   "metadata": {},
   "source": [
    "Zhou, X., Menche, J., Barabási, A. L., & Sharma, A. (2014). Human symptoms–disease network. Nature communications, 5(1), 1-10. Dataset released under Creative Commons Attribution v4.0 International licence.  \n",
    "\n",
    "MeSH RDF API: https://id.nlm.nih.gov/mesh/swagger/ui  \n",
    "MeSH RDF API Technical Documentation: https://hhs.github.io/meshrdf/index.html  \n",
    "\n",
    "The UMLS API: https://documentation.uts.nlm.nih.gov/rest/search/#searchType  \n",
    "*This product uses publicly available data from the U.S. National Library of Medicine (NLM), National Institutes of Health, Department of Health and Human Services; NLM is not responsible for the product and does not endorse or recommend this or any other product.*"
   ]
  }
 ],
 "metadata": {
  "kernelspec": {
   "display_name": "Python 3 (ipykernel)",
   "language": "python",
   "name": "python3"
  },
  "language_info": {
   "codemirror_mode": {
    "name": "ipython",
    "version": 3
   },
   "file_extension": ".py",
   "mimetype": "text/x-python",
   "name": "python",
   "nbconvert_exporter": "python",
   "pygments_lexer": "ipython3",
   "version": "3.9.12"
  }
 },
 "nbformat": 4,
 "nbformat_minor": 5
}
