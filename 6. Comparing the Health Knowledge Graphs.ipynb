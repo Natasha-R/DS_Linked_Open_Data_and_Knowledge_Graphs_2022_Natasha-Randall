{
 "cells": [
  {
   "cell_type": "code",
   "execution_count": 2,
   "id": "5a55475f-e1c6-45ef-8bdb-a058bf1ab831",
   "metadata": {},
   "outputs": [],
   "source": [
    "import pandas as pd\n",
    "import numpy as np"
   ]
  },
  {
   "cell_type": "markdown",
   "id": "aed8091c-9feb-4ab7-a140-affcb88058c4",
   "metadata": {},
   "source": [
    "### Importing the data"
   ]
  },
  {
   "cell_type": "code",
   "execution_count": 3,
   "id": "44091f95-eadd-4feb-9366-54d76dde4f20",
   "metadata": {},
   "outputs": [],
   "source": [
    "pm_data = pd.read_csv(\"data/pubmed_data_final.csv\")\n",
    "pm_data = pm_data[[\"MeSH Disease Term\", \"MeSH Symptom Term\", \"UMLS Disease Code\", \"UMLS Symptom Code\", \"TFIDF score\"]]\n",
    "pm_data.columns=[\"disease\", \"symptom\", \"disease_umls\", \"symptom_umls\", \"weight\"]\n",
    "\n",
    "db_data = pd.read_csv(\"data/dbpedia_data.csv\")[[\"disease\", \"symptom\", \"disease_umls\", \"symptom_umls\"]]\n",
    "h_data = pd.read_csv(\"data/hospital_data.csv\")\n",
    "c_data = pd.read_csv(\"data/combined_data.csv\")"
   ]
  },
  {
   "cell_type": "markdown",
   "id": "4d6e45b9-8c2f-4876-a0b1-73808a27213c",
   "metadata": {},
   "source": [
    "Finding a set of all unique disease/symptom associations for each dataset."
   ]
  },
  {
   "cell_type": "code",
   "execution_count": 4,
   "id": "2e5d92ba-0cd6-41ec-b901-fc7d84404f1c",
   "metadata": {
    "tags": []
   },
   "outputs": [],
   "source": [
    "pm_ass = {frozenset(entry) for entry in zip(pm_data[\"disease_umls\"], pm_data[\"symptom_umls\"])}\n",
    "db_ass = {frozenset(entry) for entry in zip(db_data[\"disease_umls\"], db_data[\"symptom_umls\"])}\n",
    "h_ass = {frozenset(entry) for entry in zip(h_data[\"disease_umls\"], h_data[\"symptom_umls\"])}\n",
    "c_ass = {frozenset(entry) for entry in zip(c_data[\"disease_umls\"], c_data[\"symptom_umls\"])}\n",
    "all_ass = [pm_ass, db_ass, h_ass, c_ass]\n",
    "all_ass_names = [\"PubMed\", \"DBPedia\", \"Hospital\", \"Combined\"]"
   ]
  },
  {
   "cell_type": "markdown",
   "id": "5b890c51-92d3-4ee5-b91f-59839218ac12",
   "metadata": {},
   "source": [
    "### How many associations are shared between the datasets?"
   ]
  },
  {
   "cell_type": "markdown",
   "id": "0763aa2f-379c-46fc-be06-310db1bde675",
   "metadata": {},
   "source": [
    "Finding the intersection of the associations between each dataset:"
   ]
  },
  {
   "cell_type": "code",
   "execution_count": 100,
   "id": "b869d1be-c87a-4fad-95df-68a895c314e8",
   "metadata": {},
   "outputs": [],
   "source": [
    "shared_ass = pd.DataFrame(columns=[\"PubMed\", \"DBPedia\", \"Hospital\", \"Combined\"], index=[\"PubMed\", \"DBPedia\", \"Hospital\", \"Combined\"])"
   ]
  },
  {
   "cell_type": "code",
   "execution_count": 104,
   "id": "d8930c5d-228f-41da-800e-ca47a4b77c91",
   "metadata": {},
   "outputs": [],
   "source": [
    "for base_set, base_name in zip(all_ass, all_ass_names):\n",
    "    for comparison_set, comparison_name in zip(all_ass, all_ass_names):\n",
    "        if base_name != comparison_name:\n",
    "            shared_ass.at[comparison_name, base_name] = len(base_set.intersection(comparison_set))"
   ]
  },
  {
   "cell_type": "code",
   "execution_count": 105,
   "id": "255633b4-dfc7-4462-8191-71dcd6d4a684",
   "metadata": {},
   "outputs": [
    {
     "data": {
      "text/html": [
       "<div>\n",
       "<style scoped>\n",
       "    .dataframe tbody tr th:only-of-type {\n",
       "        vertical-align: middle;\n",
       "    }\n",
       "\n",
       "    .dataframe tbody tr th {\n",
       "        vertical-align: top;\n",
       "    }\n",
       "\n",
       "    .dataframe thead th {\n",
       "        text-align: right;\n",
       "    }\n",
       "</style>\n",
       "<table border=\"1\" class=\"dataframe\">\n",
       "  <thead>\n",
       "    <tr style=\"text-align: right;\">\n",
       "      <th></th>\n",
       "      <th>PubMed</th>\n",
       "      <th>DBPedia</th>\n",
       "      <th>Hospital</th>\n",
       "      <th>Combined</th>\n",
       "    </tr>\n",
       "  </thead>\n",
       "  <tbody>\n",
       "    <tr>\n",
       "      <th>PubMed</th>\n",
       "      <td>NaN</td>\n",
       "      <td>663</td>\n",
       "      <td>190</td>\n",
       "      <td>35430</td>\n",
       "    </tr>\n",
       "    <tr>\n",
       "      <th>DBPedia</th>\n",
       "      <td>663</td>\n",
       "      <td>NaN</td>\n",
       "      <td>39</td>\n",
       "      <td>1158</td>\n",
       "    </tr>\n",
       "    <tr>\n",
       "      <th>Hospital</th>\n",
       "      <td>190</td>\n",
       "      <td>39</td>\n",
       "      <td>NaN</td>\n",
       "      <td>1309</td>\n",
       "    </tr>\n",
       "    <tr>\n",
       "      <th>Combined</th>\n",
       "      <td>35430</td>\n",
       "      <td>1158</td>\n",
       "      <td>1309</td>\n",
       "      <td>NaN</td>\n",
       "    </tr>\n",
       "  </tbody>\n",
       "</table>\n",
       "</div>"
      ],
      "text/plain": [
       "         PubMed DBPedia Hospital Combined\n",
       "PubMed      NaN     663      190    35430\n",
       "DBPedia     663     NaN       39     1158\n",
       "Hospital    190      39      NaN     1309\n",
       "Combined  35430    1158     1309      NaN"
      ]
     },
     "execution_count": 105,
     "metadata": {},
     "output_type": "execute_result"
    }
   ],
   "source": [
    "shared_ass"
   ]
  },
  {
   "cell_type": "markdown",
   "id": "4fc6f60b-bb84-42ad-8065-1bce4de0ef5e",
   "metadata": {},
   "source": [
    "The \"combined\" dataset is dominated by associations taken from the PubMed dataset, due to its much larger size.  \n",
    "The PubMed and DBPedia datasets have many more shared associations than PubMed and Hospital, even though the hospital dataset is larger than the DBpedia dataset."
   ]
  },
  {
   "cell_type": "markdown",
   "id": "e74b2cf8-9865-4ac3-9d95-deb8af28c279",
   "metadata": {},
   "source": [
    "### Looking at precision and recall"
   ]
  },
  {
   "cell_type": "markdown",
   "id": "d392e0ad-aaa1-44f3-928f-cd056db4a2b1",
   "metadata": {},
   "source": [
    "Creating functions to calculate recall and precision values to compare the datasets."
   ]
  },
  {
   "cell_type": "markdown",
   "id": "959d5a0f-7614-44b3-a5f2-4213abe6e624",
   "metadata": {},
   "source": [
    "True positive: number of associations existing in both datasets. (Set intersection).  \n",
    "False negative: association exists in base dataset, doesn't exist in comparison dataset. (Set difference: base set minus comparison set).  \n",
    "False positive: association exists in comparison dataset, doesn't exist in base dataset. (Set difference: Comparison set minus base set).  "
   ]
  },
  {
   "cell_type": "code",
   "execution_count": 158,
   "id": "802e74ff-ad00-4096-a204-2536c05dd85c",
   "metadata": {},
   "outputs": [],
   "source": [
    "def recall(base, comparison):\n",
    "    # true positive / (true positive + false negative)\n",
    "    tp = len(base.intersection(comparison))\n",
    "    fn = len(base - comparison)\n",
    "    return tp / (tp + fn)"
   ]
  },
  {
   "cell_type": "code",
   "execution_count": 159,
   "id": "e9107ba7-9241-4250-8164-b73c3aa06dbc",
   "metadata": {},
   "outputs": [],
   "source": [
    "def precision(base, comparison):\n",
    "    # true positive / (true positive + false positive)\n",
    "    tp = len(base.intersection(comparison))\n",
    "    fp = len(comparison - base)\n",
    "    return tp / (tp + fp)"
   ]
  },
  {
   "cell_type": "markdown",
   "id": "d765a93d-9359-4c97-88f4-5dd4040da988",
   "metadata": {},
   "source": [
    "Setting up dataframes to store the results, where the column is the base dataset, and the index is the comparison."
   ]
  },
  {
   "cell_type": "code",
   "execution_count": 163,
   "id": "6ee8e7c8-22b6-471d-ad95-ff7a8664f234",
   "metadata": {},
   "outputs": [],
   "source": [
    "recall_prec_df = pd.DataFrame(columns=[\"PubMed\", \"DBPedia\", \"Hospital\", \"Combined\"], index=[\"PubMed\", \"DBPedia\", \"Hospital\", \"Combined\"])"
   ]
  },
  {
   "cell_type": "markdown",
   "id": "a81ce490-3413-47fa-8b9f-a26109ea9442",
   "metadata": {},
   "source": [
    "Calculating recall and precision values between all of the datasets:"
   ]
  },
  {
   "cell_type": "code",
   "execution_count": 164,
   "id": "390aef34-5625-4a32-9285-8e7b9c5c71fe",
   "metadata": {},
   "outputs": [],
   "source": [
    "for base_set, base_name in zip(all_ass, all_ass_names):\n",
    "    for comparison_set, comparison_name in zip(all_ass, all_ass_names):\n",
    "        if base_name != comparison_name:\n",
    "            recall_prec_df.at[comparison_name, base_name] = str(np.round(recall(base_set, comparison_set)*100, 2)) + \"%\""
   ]
  },
  {
   "cell_type": "code",
   "execution_count": 165,
   "id": "3fd48b14-b4da-4620-b489-5a7af94700da",
   "metadata": {},
   "outputs": [],
   "source": [
    "recall_prec_df.columns = pd.MultiIndex.from_product([[\"Base\"], [\"PubMed\", \"DBPedia\", \"Hospital\", \"Combined\"]])\n",
    "recall_prec_df.index = pd.MultiIndex.from_product([[\"Comparison\"], [\"PubMed\", \"DBPedia\", \"Hospital\", \"Combined\"]])"
   ]
  },
  {
   "cell_type": "markdown",
   "id": "a15f1edd-d394-43f5-b68a-79b91c0d1e25",
   "metadata": {},
   "source": [
    "Recall: given the associations in the \"base\" health knowledge graph, how many (% of base) also exist in \"comparison\"?  "
   ]
  },
  {
   "cell_type": "code",
   "execution_count": 185,
   "id": "67d27224-cc3f-409c-b9ea-d031c8d2bc18",
   "metadata": {},
   "outputs": [
    {
     "data": {
      "text/html": [
       "<div>\n",
       "<style scoped>\n",
       "    .dataframe tbody tr th:only-of-type {\n",
       "        vertical-align: middle;\n",
       "    }\n",
       "\n",
       "    .dataframe tbody tr th {\n",
       "        vertical-align: top;\n",
       "    }\n",
       "\n",
       "    .dataframe thead tr th {\n",
       "        text-align: left;\n",
       "    }\n",
       "</style>\n",
       "<table border=\"1\" class=\"dataframe\">\n",
       "  <thead>\n",
       "    <tr>\n",
       "      <th></th>\n",
       "      <th></th>\n",
       "      <th colspan=\"4\" halign=\"left\">Base</th>\n",
       "    </tr>\n",
       "    <tr>\n",
       "      <th></th>\n",
       "      <th></th>\n",
       "      <th>PubMed</th>\n",
       "      <th>DBPedia</th>\n",
       "      <th>Hospital</th>\n",
       "      <th>Combined</th>\n",
       "    </tr>\n",
       "  </thead>\n",
       "  <tbody>\n",
       "    <tr>\n",
       "      <th rowspan=\"4\" valign=\"top\">Comparison</th>\n",
       "      <th>PubMed</th>\n",
       "      <td>NaN</td>\n",
       "      <td>57.25%</td>\n",
       "      <td>10.25%</td>\n",
       "      <td>95.6%</td>\n",
       "    </tr>\n",
       "    <tr>\n",
       "      <th>DBPedia</th>\n",
       "      <td>0.49%</td>\n",
       "      <td>NaN</td>\n",
       "      <td>2.1%</td>\n",
       "      <td>3.12%</td>\n",
       "    </tr>\n",
       "    <tr>\n",
       "      <th>Hospital</th>\n",
       "      <td>0.14%</td>\n",
       "      <td>3.37%</td>\n",
       "      <td>NaN</td>\n",
       "      <td>3.53%</td>\n",
       "    </tr>\n",
       "    <tr>\n",
       "      <th>Combined</th>\n",
       "      <td>26.09%</td>\n",
       "      <td>100.0%</td>\n",
       "      <td>70.6%</td>\n",
       "      <td>NaN</td>\n",
       "    </tr>\n",
       "  </tbody>\n",
       "</table>\n",
       "</div>"
      ],
      "text/plain": [
       "                       Base                          \n",
       "                     PubMed DBPedia Hospital Combined\n",
       "Comparison PubMed       NaN  57.25%   10.25%    95.6%\n",
       "           DBPedia    0.49%     NaN     2.1%    3.12%\n",
       "           Hospital   0.14%   3.37%      NaN    3.53%\n",
       "           Combined  26.09%  100.0%    70.6%      NaN"
      ]
     },
     "execution_count": 185,
     "metadata": {},
     "output_type": "execute_result"
    }
   ],
   "source": [
    "recall_df = recall_prec_df.copy()\n",
    "recall_df"
   ]
  },
  {
   "cell_type": "markdown",
   "id": "3efb40b6-5648-4662-adb2-e12e0a72aa41",
   "metadata": {},
   "source": [
    "Precision: given the associations in the \"comparison\" health knowledge graph, how many (% of comparison) also exist in \"base\"?  "
   ]
  },
  {
   "cell_type": "code",
   "execution_count": 186,
   "id": "cda5283a-9f04-4fd8-9397-ab2e580d6dff",
   "metadata": {},
   "outputs": [
    {
     "data": {
      "text/html": [
       "<div>\n",
       "<style scoped>\n",
       "    .dataframe tbody tr th:only-of-type {\n",
       "        vertical-align: middle;\n",
       "    }\n",
       "\n",
       "    .dataframe tbody tr th {\n",
       "        vertical-align: top;\n",
       "    }\n",
       "\n",
       "    .dataframe thead tr th {\n",
       "        text-align: left;\n",
       "    }\n",
       "</style>\n",
       "<table border=\"1\" class=\"dataframe\">\n",
       "  <thead>\n",
       "    <tr>\n",
       "      <th></th>\n",
       "      <th></th>\n",
       "      <th colspan=\"4\" halign=\"left\">Base</th>\n",
       "    </tr>\n",
       "    <tr>\n",
       "      <th></th>\n",
       "      <th></th>\n",
       "      <th>PubMed</th>\n",
       "      <th>DBPedia</th>\n",
       "      <th>Hospital</th>\n",
       "      <th>Combined</th>\n",
       "    </tr>\n",
       "  </thead>\n",
       "  <tbody>\n",
       "    <tr>\n",
       "      <th rowspan=\"4\" valign=\"top\">Comparison</th>\n",
       "      <th>PubMed</th>\n",
       "      <td>NaN</td>\n",
       "      <td>0.49%</td>\n",
       "      <td>0.14%</td>\n",
       "      <td>26.09%</td>\n",
       "    </tr>\n",
       "    <tr>\n",
       "      <th>DBPedia</th>\n",
       "      <td>57.25%</td>\n",
       "      <td>NaN</td>\n",
       "      <td>3.37%</td>\n",
       "      <td>100.0%</td>\n",
       "    </tr>\n",
       "    <tr>\n",
       "      <th>Hospital</th>\n",
       "      <td>10.25%</td>\n",
       "      <td>2.1%</td>\n",
       "      <td>NaN</td>\n",
       "      <td>70.6%</td>\n",
       "    </tr>\n",
       "    <tr>\n",
       "      <th>Combined</th>\n",
       "      <td>95.6%</td>\n",
       "      <td>3.12%</td>\n",
       "      <td>3.53%</td>\n",
       "      <td>NaN</td>\n",
       "    </tr>\n",
       "  </tbody>\n",
       "</table>\n",
       "</div>"
      ],
      "text/plain": [
       "                       Base                          \n",
       "                     PubMed DBPedia Hospital Combined\n",
       "Comparison PubMed       NaN   0.49%    0.14%   26.09%\n",
       "           DBPedia   57.25%     NaN    3.37%   100.0%\n",
       "           Hospital  10.25%    2.1%      NaN    70.6%\n",
       "           Combined   95.6%   3.12%    3.53%      NaN"
      ]
     },
     "execution_count": 186,
     "metadata": {},
     "output_type": "execute_result"
    }
   ],
   "source": [
    "prec_df = recall_prec_df.copy().transpose()\n",
    "prec_df.columns = pd.MultiIndex.from_product([[\"Base\"], [\"PubMed\", \"DBPedia\", \"Hospital\", \"Combined\"]])\n",
    "prec_df.index = pd.MultiIndex.from_product([[\"Comparison\"], [\"PubMed\", \"DBPedia\", \"Hospital\", \"Combined\"]])\n",
    "prec_df"
   ]
  },
  {
   "cell_type": "markdown",
   "id": "2f23f3cc-34c2-46a6-9515-8f4d69809d19",
   "metadata": {},
   "source": [
    "The PubMed dataset is much larger than the other two, containing far more associations than either of them.  \n",
    "However more than 40% of the DBPedia dataset is not captured by the PubMed dataset, and DBPedia has very few shared associations to the Hospital Dataset."
   ]
  },
  {
   "cell_type": "markdown",
   "id": "758ebb95-141b-4d9b-b9d5-a3efdddad405",
   "metadata": {},
   "source": [
    "## References\n",
    "\n",
    "Zhou, X., Menche, J., Barabási, A. L., & Sharma, A. (2014). Human symptoms–disease network. Nature communications, 5(1), 1-10. Dataset released under Creative Commons Attribution v4.0 International licence.  \n",
    "DBPedia dataset (https://dbpedia.org/) released under Creative Commons Attribution-ShareAlike 3.0   \n",
    "Wang X, Chused A, Elhadad N, Friedman C, Markatou M. Automated knowledge acquisition from clinical narrative reports. AMIA Annu Symp Proc. 2008 Nov 6;2008:783-7. PMID: 18999156; PMCID: PMC2656103."
   ]
  }
 ],
 "metadata": {
  "kernelspec": {
   "display_name": "Python 3 (ipykernel)",
   "language": "python",
   "name": "python3"
  },
  "language_info": {
   "codemirror_mode": {
    "name": "ipython",
    "version": 3
   },
   "file_extension": ".py",
   "mimetype": "text/x-python",
   "name": "python",
   "nbconvert_exporter": "python",
   "pygments_lexer": "ipython3",
   "version": "3.9.12"
  }
 },
 "nbformat": 4,
 "nbformat_minor": 5
}
